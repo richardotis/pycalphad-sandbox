{
 "cells": [
  {
   "cell_type": "code",
   "execution_count": 1,
   "metadata": {},
   "outputs": [],
   "source": [
    "TDB = \"\"\"              \n",
    " ELEMENT /-   ELECTRON_GAS              0.0000E+00  0.0000E+00  0.0000E+00!\n",
    " ELEMENT VA   VACUUM                    0.0000E+00  0.0000E+00  0.0000E+00!\n",
    " ELEMENT CR   BCC_A2                    5.1996E+01  4.0500E+03  2.3560E+01!\n",
    " ELEMENT V    BCC_A2                    5.0941E+01  4.5070E+03  3.0890E+01!\n",
    " \n",
    " FUNCTION GHSERCR    2.98150E+02  -8856.94+157.48*T-26.908*T*LN(T)\n",
    "     +.00189435*T**2-1.47721E-06*T**3+139250*T**(-1);  2.18000E+03  Y\n",
    "      -34869.344+344.18*T-50*T*LN(T)-2.88526E+32*T**(-9);  6.00000E+03  N !\n",
    "\n",
    " FUNCTION GPCRBCC 298.14 0.0; 6000 N !\n",
    "\n",
    " FUNCTION GPCRLIQ 298.14 0.0; 6000 N !\n",
    "\n",
    " FUNCTION GCRFCC 298.14 +7284+.163*T+GHSERCR#; 6000 N !\n",
    "\n",
    " FUNCTION GHSERVV    2.98150E+02  -7930.43+133.346053*T-24.134*T*LN(T)\n",
    "     -.003098*T**2+1.2175E-07*T**3+69460*T**(-1);  7.90000E+02  Y\n",
    "      -7967.842+143.291093*T-25.9*T*LN(T)+6.25E-05*T**2-6.8E-07*T**3;  \n",
    "     2.18300E+03  Y\n",
    "      -41689.864+321.140783*T-47.43*T*LN(T)+6.44389E+31*T**(-9);  \n",
    "     4.00000E+03  N !\n",
    "\n",
    "FUNCTION GLIQV      2.98150E+02  +12833.687+123.890501*T-24.134*T*LN(T)\n",
    "     -.003098*T**2+1.2175E-07*T**3+69460*T**(-1)-5.19136E-22*T**7;  \n",
    "     7.90000E+02  Y\n",
    "      +12796.275+133.835541*T-25.9*T*LN(T)+6.25E-05*T**2-6.8E-07*T**3\n",
    "     -5.19136E-22*T**7;  2.18300E+03  Y\n",
    "      -19617.51+311.055983*T-47.43*T*LN(T);  4.00000E+03  N !\n",
    "\n",
    "\n",
    "FUNCTION UN_ASS 298.15 0; 300 N !\n",
    "FUNCTION V001 298.15 0; 300 N !\n",
    "FUNCTION V002 298.15 0; 300 N !\n",
    "FUNCTION V003 298.15 0; 300 N !\n",
    "FUNCTION V004 298.15 0; 300 N !\n",
    " \n",
    "\n",
    " TYPE_DEFINITION % SEQ *!\n",
    " DEFINE_SYSTEM_DEFAULT ELEMENT 2 !\n",
    " DEFAULT_COMMAND DEF_SYS_ELEMENT VA /- !\n",
    "\n",
    "\n",
    " PHASE LIQUID  %  1  1.0  !\n",
    "   CONSTITUENT LIQUID  :CR,V :  !\n",
    "   PARAMETER G(LIQUID,CR;0)  2.98150E+02  +15483.015+146.059775*T\n",
    "    -26.908*T*LN(T)+.00189435*T**2-1.47721E-06*T**3+139250*T**(-1)\n",
    "    +2.37615E-21*T**7;  2.18000E+03  Y\n",
    "   -16459.984+335.616316*T-50*T*LN(T);  6.00000E+03  N REF1 !\n",
    "   PARAMETER G(LIQUID,V;0)  2.98150E+02  +12833.687+123.890501*T\n",
    "    -24.134*T*LN(T)-.003098*T**2+1.2175E-07*T**3+69460*T**(-1)\n",
    "    -5.19136E-22*T**7;  7.90000E+02  Y\n",
    "    +12796.275+133.835541*T-25.9*T*LN(T)+6.25E-05*T**2-6.8E-07*T**3\n",
    "    -5.19136E-22*T**7;  2.18300E+03  Y\n",
    "    -19617.51+311.055983*T-47.43*T*LN(T);  4.00000E+03  N REF1 !\n",
    "   PARAMETER L(LIQUID,CR,V;0)  2.98150E+02  -20224.86+V001#; \n",
    "    6.00000E+03  N REF3 !\n",
    "   PARAMETER L(LIQUID,CR,V;1)  2.98150E+02  -13469.9+V002#; \n",
    "    6.00000E+03  N REF3 !\n",
    "\n",
    "\n",
    " PHASE BCC_A2  %&  2 1   3 !\n",
    "   TYPE_DEFINITION & GES A_P_D BCC_A2 MAGNETIC  -1.0    4.00000E-01 !\n",
    "   CONSTITUENT BCC_A2  :CR,V : VA :  !\n",
    "   PARAMETER G(BCC_A2,CR:VA;0)  2.98150E+02  +GHSERCR#;   6.00000E+03   N \n",
    "    REF1 !\n",
    "   PARAMETER TC(BCC_A2,CR:VA;0)  2.98150E+02  -311.5;\n",
    "    6.00000E+03   N REF1 !\n",
    "   PARAMETER BMAGN(BCC_A2,CR:VA;0)  2.98150E+02  -.008;   6.00000E+03   N \n",
    "    REF1 !\n",
    "   PARAMETER L(BCC_A2,CR,V:VA;0) 298.14 -8253.85-3.61592*T+V003#;\n",
    "    6000 N REF3 !\n",
    "   PARAMETER L(BCC_A2,CR,V:VA;1) 298.14 +7494.82-8.69424*T+V004#;\n",
    "    6000 N REF3 !  \n",
    "   PARAMETER L(BCC_A2,CR,V:VA;2) 298.14 -17599.07+10.13142*T;\n",
    "    6000 N REF3 !  \n",
    "   PARAMETER L(BCC_A2,CR,V:VA;3) 298.14 +1042.58;\n",
    "    6000 N REF3 !  \n",
    "   PARAMETER G(BCC_A2,V:VA;0)  2.98150E+02  +GHSERVV#;\n",
    "    4.00000E+03  N REF1 !\n",
    "\n",
    "   \n",
    " PHASE HCP_A3  %)  2 1   .5 !\n",
    "   TYPE_DEFINITION ) GES A_P_D HCP_A3 MAGNETIC  -3.0    2.80000E-01 !\n",
    "   CONSTITUENT HCP_A3  :CR,V : VA :  !\n",
    "   PARAMETER G(HCP_A3,CR:VA;0)  2.98150E+02  -4418.94+157.48*T\n",
    "    -26.908*T*LN(T)+.00189435*T**2-1.47721E-06*T**3+139250*T**(-1);  \n",
    "    2.18000E+03  Y\n",
    "    -30431.344+344.18*T-50*T*LN(T)-2.88526E+32*T**(-9);\n",
    "    6.00000E+03  N REF1 !\n",
    "   PARAMETER TC(HCP_A3,CR:VA;0)  2.98150E+02  -1109; \n",
    "    6.00000E+03   N REF1 !\n",
    "   PARAMETER BMAGN(HCP_A3,CR:VA;0)  2.98150E+02  -2.46;\n",
    "    6.00000E+03   N REF1 !\n",
    "   PARAMETER G(HCP_A3,V:VA;0)  2.98150E+02  -3930.43+135.746053*T\n",
    "    -24.134*T*LN(T)-.003098*T**2+1.2175E-07*T**3+69460*T**(-1);\n",
    "    7.90000E+02  Y\n",
    "    -3967.842+145.691093*T-25.9*T*LN(T)+6.25E-05*T**2-6.8E-07*T**3;  \n",
    "    2.18300E+03  Y\n",
    "    -37689.864+323.540783*T-47.43*T*LN(T)+6.44389E+31*T**(-9);\n",
    "    4.00000E+03  N REF1 !\n",
    "   PARAMETER L(HCP_A3,CR,V:VA;0)  2.98150E+02  +5000; \n",
    "    6.00000E+03  N REF3 !\n",
    "\n",
    "\n",
    "\"\"\""
   ]
  },
  {
   "cell_type": "code",
   "execution_count": 2,
   "metadata": {},
   "outputs": [],
   "source": [
    "from pycalphad import Database, Model, equilibrium\n",
    "from pycalphad.core.solver import InteriorPointSolver\n",
    "import pycalphad.variables as v\n",
    "\n",
    "class ProblemSaver(InteriorPointSolver):\n",
    "    saved_problem = [None]\n",
    "    def solve(self, prob):\n",
    "        self.saved_problem[0] = prob\n",
    "        return super(ProblemSaver, self).solve(prob)"
   ]
  },
  {
   "cell_type": "code",
   "execution_count": 11,
   "metadata": {},
   "outputs": [
    {
     "data": {
      "text/plain": [
       "<xarray.Dataset>\n",
       "Dimensions:    (N: 1, P: 1, T: 1, X_V: 1, component: 2, internal_dof: 3, vertex: 3)\n",
       "Coordinates:\n",
       "  * N          (N) float64 1.0\n",
       "  * P          (P) float64 1.013e+05\n",
       "  * T          (T) float64 2.5e+03\n",
       "  * X_V        (X_V) float64 0.25\n",
       "  * vertex     (vertex) int64 0 1 2\n",
       "  * component  (component) <U2 'CR' 'V'\n",
       "Dimensions without coordinates: internal_dof\n",
       "Data variables:\n",
       "    X          (N, P, T, X_V, vertex, component) float64 0.75 0.25 nan nan ...\n",
       "    NP         (N, P, T, X_V, vertex) float64 1.0 nan nan\n",
       "    Phase      (N, P, T, X_V, vertex) <U6 'LIQUID' '' ''\n",
       "    GM         (N, P, T, X_V) float64 -1.757e+05\n",
       "    Y          (N, P, T, X_V, vertex, internal_dof) float64 0.75 0.25 nan ...\n",
       "    MU         (N, P, T, X_V, component) float64 -1.644e+05 -2.099e+05\n",
       "Attributes:\n",
       "    engine:   pycalphad 0.7.1.post2+106.gc19d599.dirty\n",
       "    created:  2019-03-01T00:14:30.882904"
      ]
     },
     "execution_count": 11,
     "metadata": {},
     "output_type": "execute_result"
    }
   ],
   "source": [
    "dbf = Database(TDB)\n",
    "comps = ['CR', 'V', 'VA']\n",
    "phases = list(dbf.phases.keys())\n",
    "conds = {v.T: 2500, v.P: 101325, v.X('V'): 0.25}\n",
    "equilibrium(dbf, comps, phases, conds, solver=ProblemSaver(),\n",
    "            parameters={'V001': 0,'V002': 0,'V003': 0,'V004': 0})"
   ]
  },
  {
   "cell_type": "code",
   "execution_count": 15,
   "metadata": {},
   "outputs": [
    {
     "data": {
      "text/plain": [
       "array([[ 0.18674624,  0.09393448,  0.        ,  0.        ],\n",
       "       [ 0.18674624,  0.09393448,  0.        ,  0.        ]])"
      ]
     },
     "execution_count": 15,
     "metadata": {},
     "output_type": "execute_result"
    }
   ],
   "source": [
    "import numpy as np\n",
    "ProblemSaver.saved_problem[0].chemical_potential_parameter_gradient(ProblemSaver.saved_problem[0].x0, np.array([0.,0.,0.,0.]))"
   ]
  },
  {
   "cell_type": "code",
   "execution_count": null,
   "metadata": {},
   "outputs": [],
   "source": []
  }
 ],
 "metadata": {
  "kernelspec": {
   "display_name": "Python 3",
   "language": "python",
   "name": "python3"
  },
  "language_info": {
   "codemirror_mode": {
    "name": "ipython",
    "version": 3
   },
   "file_extension": ".py",
   "mimetype": "text/x-python",
   "name": "python",
   "nbconvert_exporter": "python",
   "pygments_lexer": "ipython3",
   "version": "3.5.2"
  }
 },
 "nbformat": 4,
 "nbformat_minor": 2
}
