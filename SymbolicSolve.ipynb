{
 "cells": [
  {
   "cell_type": "code",
   "execution_count": 1,
   "metadata": {},
   "outputs": [],
   "source": [
    "from pycalphad import equilibrium, Database, Model, variables as v\n",
    "import sympy\n",
    "import numpy as np\n",
    "\n",
    "TDB = \"\"\"\n",
    " ELEMENT A    GRAPHITE                   12.011     1054.0      5.7423 !\n",
    " ELEMENT B   BCC_A2                     55.847     4489.0     27.2797 !\n",
    " ELEMENT C   BCC_A2                     55.847     4489.0     27.2797 !\n",
    " TYPE_DEFINITION % SEQ * !\n",
    " PHASE TEST % 1 1 !\n",
    " CONSTITUENT TEST : A,B,C: !\n",
    "\"\"\"\n",
    "my_phases = ['TEST']\n",
    "comps = ['A', 'B','C']\n",
    "comps = sorted(comps)\n",
    "conds = dict({v.T: 1000, v.P: 101325, v.N: 1})\n",
    "\n",
    "dbf = Database(TDB)\n",
    "\n",
    "\n",
    "mod = Model(dbf, ['A', 'B', 'C'], 'TEST')\n",
    "\n",
    "NP = sympy.Symbol('NP', real=True)\n",
    "total_moles = sum([NP*mod.moles(c) for c in comps])\n",
    "total_moles = NP\n",
    "\n",
    "variables = [v.N, v.P, v.T] + mod.site_fractions + [NP]\n",
    "\n",
    "mass_cons = [v.N, v.P, v.T]\n",
    "mass_cons.extend(mod.get_internal_constraints())\n",
    "mass_cons.extend(NP*mod.moles(c) for c in comps)\n",
    "\n",
    "mass_jac = []\n",
    "for cons in mass_cons:\n",
    "    mass_jac.append([cons.diff(x) for x in variables])\n",
    "    \n",
    "energy_grad = [(total_moles*mod.GM).diff(x) for x in variables]"
   ]
  },
  {
   "cell_type": "code",
   "execution_count": 2,
   "metadata": {},
   "outputs": [
    {
     "data": {
      "text/plain": [
       "[N,\n",
       " P,\n",
       " T,\n",
       " TEST0A + TEST0B + TEST0C - 1,\n",
       " 1.0*TEST0A*NP/(1.0*TEST0A + 1.0*TEST0B + 1.0*TEST0C),\n",
       " 1.0*TEST0B*NP/(1.0*TEST0A + 1.0*TEST0B + 1.0*TEST0C),\n",
       " 1.0*TEST0C*NP/(1.0*TEST0A + 1.0*TEST0B + 1.0*TEST0C)]"
      ]
     },
     "execution_count": 2,
     "metadata": {},
     "output_type": "execute_result"
    }
   ],
   "source": [
    "mass_cons"
   ]
  },
  {
   "cell_type": "code",
   "execution_count": 3,
   "metadata": {},
   "outputs": [
    {
     "data": {
      "text/plain": [
       "[[1, 0, 0, 0, 0, 0, 0],\n",
       " [0, 1, 0, 0, 0, 0, 0],\n",
       " [0, 0, 1, 0, 0, 0, 0],\n",
       " [0, 0, 0, 1, 1, 1, 0],\n",
       " [0,\n",
       "  0,\n",
       "  0,\n",
       "  -1.0*TEST0A*NP/(1.0*TEST0A + 1.0*TEST0B + 1.0*TEST0C)**2 + 1.0*NP/(1.0*TEST0A + 1.0*TEST0B + 1.0*TEST0C),\n",
       "  -1.0*TEST0A*NP/(1.0*TEST0A + 1.0*TEST0B + 1.0*TEST0C)**2,\n",
       "  -1.0*TEST0A*NP/(1.0*TEST0A + 1.0*TEST0B + 1.0*TEST0C)**2,\n",
       "  1.0*TEST0A/(1.0*TEST0A + 1.0*TEST0B + 1.0*TEST0C)],\n",
       " [0,\n",
       "  0,\n",
       "  0,\n",
       "  -1.0*TEST0B*NP/(1.0*TEST0A + 1.0*TEST0B + 1.0*TEST0C)**2,\n",
       "  -1.0*TEST0B*NP/(1.0*TEST0A + 1.0*TEST0B + 1.0*TEST0C)**2 + 1.0*NP/(1.0*TEST0A + 1.0*TEST0B + 1.0*TEST0C),\n",
       "  -1.0*TEST0B*NP/(1.0*TEST0A + 1.0*TEST0B + 1.0*TEST0C)**2,\n",
       "  1.0*TEST0B/(1.0*TEST0A + 1.0*TEST0B + 1.0*TEST0C)],\n",
       " [0,\n",
       "  0,\n",
       "  0,\n",
       "  -1.0*TEST0C*NP/(1.0*TEST0A + 1.0*TEST0B + 1.0*TEST0C)**2,\n",
       "  -1.0*TEST0C*NP/(1.0*TEST0A + 1.0*TEST0B + 1.0*TEST0C)**2,\n",
       "  -1.0*TEST0C*NP/(1.0*TEST0A + 1.0*TEST0B + 1.0*TEST0C)**2 + 1.0*NP/(1.0*TEST0A + 1.0*TEST0B + 1.0*TEST0C),\n",
       "  1.0*TEST0C/(1.0*TEST0A + 1.0*TEST0B + 1.0*TEST0C)]]"
      ]
     },
     "execution_count": 3,
     "metadata": {},
     "output_type": "execute_result"
    }
   ],
   "source": [
    "mass_jac"
   ]
  },
  {
   "cell_type": "code",
   "execution_count": 4,
   "metadata": {},
   "outputs": [],
   "source": [
    "A = sympy.Matrix(mass_jac).T.pinv()\n",
    "x = A * sympy.Matrix(energy_grad)"
   ]
  },
  {
   "cell_type": "code",
   "execution_count": 5,
   "metadata": {},
   "outputs": [],
   "source": [
    "from pycalphad.codegen.sympydiff_utils import build_functions\n",
    "\n",
    "mu_a = build_functions(x[4], variables, include_grad=True, include_hess=False)\n",
    "mu_b = build_functions(x[5], variables, include_grad=True, include_hess=False)\n",
    "mu_c = build_functions(x[6], variables, include_grad=True, include_hess=False)\n",
    "\n",
    "energy = build_functions(mod.GM, variables, include_grad=True)"
   ]
  },
  {
   "cell_type": "code",
   "execution_count": 6,
   "metadata": {},
   "outputs": [
    {
     "name": "stdout",
     "output_type": "stream",
     "text": [
      "{TEST0A, TEST0B, NP, T, TEST0C}\n"
     ]
    }
   ],
   "source": [
    "print(x[4].free_symbols)"
   ]
  },
  {
   "cell_type": "code",
   "execution_count": 7,
   "metadata": {},
   "outputs": [
    {
     "data": {
      "text/plain": [
       "array(-7618.14919886)"
      ]
     },
     "execution_count": 7,
     "metadata": {},
     "output_type": "execute_result"
    }
   ],
   "source": [
    "mu_a.func([1, 1e5, 1000, 0.4, 0.6, 1e-12, 1e-6])"
   ]
  },
  {
   "cell_type": "code",
   "execution_count": 8,
   "metadata": {},
   "outputs": [
    {
     "data": {
      "text/plain": [
       "array([ 0.00000000e+00,  0.00000000e+00, -3.37123964e+00,  2.07862500e+04,\n",
       "       -1.38575000e+04,  9.23094935e-01, -9.44368765e-10])"
      ]
     },
     "execution_count": 8,
     "metadata": {},
     "output_type": "execute_result"
    }
   ],
   "source": [
    "np.array(mu_a.grad([1, 1e5, 1000, 0.4, 0.6, 1e-12, 1])) - np.array(mu_b.grad([1, 1e5, 1000, 0.4, 0.6, 1e-12, 1]))"
   ]
  },
  {
   "cell_type": "code",
   "execution_count": 9,
   "metadata": {},
   "outputs": [
    {
     "name": "stdout",
     "output_type": "stream",
     "text": [
      "Chemical Potentials [-15315.87500456  -1000.         -21480.14360388]\n",
      "[0. 0. 0. 0. 0. 0. 0.]\n",
      "[1.00000000e+00 1.01325000e+05 8.00000000e+02 1.00000000e-01\n",
      " 8.60415585e-01 3.95844148e-02 1.00000000e+00]\n",
      "Status: 0 b'Algorithm terminated successfully at a locally optimal point, satisfying the convergence tolerances (can be specified by options).'\n"
     ]
    }
   ],
   "source": [
    "from pycalphad.core.solver import InteriorPointSolver\n",
    "\n",
    "class ProblemSaver(InteriorPointSolver):\n",
    "    saved_problem = [None]\n",
    "    def solve(self, prob):\n",
    "        self.saved_problem[0] = prob\n",
    "        self.verbose = True\n",
    "        return super(ProblemSaver, self).solve(prob)\n",
    "\n",
    "eq = equilibrium(dbf, ['A', 'B', 'C'], ['TEST'],\n",
    "                     {v.MU('B'): -1000, v.X('A'): 0.1, v.T: 800, v.P: 101325}, solver=ProblemSaver())"
   ]
  },
  {
   "cell_type": "code",
   "execution_count": 10,
   "metadata": {},
   "outputs": [
    {
     "data": {
      "text/plain": [
       "array([ 0.00000000e+00,  0.00000000e+00, -1.25000000e+00,  2.59387889e-09,\n",
       "        7.73068284e+03,  1.93540473e-09, -8.77662387e-10])"
      ]
     },
     "execution_count": 10,
     "metadata": {},
     "output_type": "execute_result"
    }
   ],
   "source": [
    "ProblemSaver.saved_problem[0].jacobian([1, 1e5, 800, 0.1, 8.60415585e-01, 3.95844148e-2, 1.0])[-1]"
   ]
  },
  {
   "cell_type": "code",
   "execution_count": 11,
   "metadata": {},
   "outputs": [
    {
     "data": {
      "text/plain": [
       "[array(0.),\n",
       " array(0.),\n",
       " array(-1.25),\n",
       " array(-3.52429197e-12),\n",
       " array(7730.68284206),\n",
       " array(2.79669621e-11),\n",
       " array(2.33626452e-11)]"
      ]
     },
     "execution_count": 11,
     "metadata": {},
     "output_type": "execute_result"
    }
   ],
   "source": [
    "mu_b.grad([1, 1e5, 800, 0.1, 8.60415585e-01, 3.95844148e-2, 1.0])"
   ]
  },
  {
   "cell_type": "code",
   "execution_count": null,
   "metadata": {},
   "outputs": [],
   "source": []
  }
 ],
 "metadata": {
  "kernelspec": {
   "display_name": "Python 3",
   "language": "python",
   "name": "python3"
  },
  "language_info": {
   "codemirror_mode": {
    "name": "ipython",
    "version": 3
   },
   "file_extension": ".py",
   "mimetype": "text/x-python",
   "name": "python",
   "nbconvert_exporter": "python",
   "pygments_lexer": "ipython3",
   "version": "3.7.3"
  }
 },
 "nbformat": 4,
 "nbformat_minor": 2
}
