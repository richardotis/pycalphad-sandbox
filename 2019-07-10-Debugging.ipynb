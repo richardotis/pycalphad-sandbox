{
 "cells": [
  {
   "cell_type": "code",
   "execution_count": 1,
   "metadata": {},
   "outputs": [],
   "source": [
    "from pycalphad import Database, equilibrium\n",
    "from pycalphad import variables as v\n",
    "import pandas as pd\n",
    "import numpy as np\n",
    "\n",
    "db = Database('steel_database_fix.tdb')\n",
    "\n",
    "#this part of script just convert the alloy composition from weight fraction to molar fraction\n",
    "weight_elem = [12.011,28.085,54.938,51.996,58.693,95.95,183.84,63.546,14.007,30.974,32.06,55.845]\n",
    "frac_mass = [0.02,  0.3,   1.8,   22.5,  5.4,   2.8,  0,     0,     0.16,  0.03,  0.001,66.989]\n",
    "frac = [frac_mass[i] / weight_elem[i] for i in range(0,len(weight_elem))]\n",
    "frac_mol = [frac[i]/sum(frac) for i in range(0,len(weight_elem))]\n",
    "\n",
    "\n",
    "comps = ['FE','CR','NI','MO','MN','N','C','VA']\n",
    "phases = ['BCC_A2','FCC_A1','SIGMA']\n",
    "param = {v.X('CR'):frac_mol[3],v.X('NI'):frac_mol[4],\n",
    "         v.X('MO'):frac_mol[5],v.X('MN'):frac_mol[2],v.X('N'):frac_mol[8],\n",
    "         v.X('C'):frac_mol[0],\n",
    "         v.T:(1073,1673,10),v.P:101325}\n",
    "eq = equilibrium(db, comps, phases, param)\n",
    "\n",
    "df = eq.to_dataframe()"
   ]
  },
  {
   "cell_type": "code",
   "execution_count": 2,
   "metadata": {},
   "outputs": [
    {
     "data": {
      "text/plain": [
       "<matplotlib.legend.Legend at 0x7f5dc28efcf8>"
      ]
     },
     "execution_count": 2,
     "metadata": {},
     "output_type": "execute_result"
    },
    {
     "data": {
      "image/png": "[encoded data removed]",
      "text/plain": [
       "<Figure size 432x288 with 1 Axes>"
      ]
     },
     "metadata": {
      "needs_background": "light"
     },
     "output_type": "display_data"
    }
   ],
   "source": [
    "%matplotlib inline\n",
    "import matplotlib.pyplot as plt\n",
    "from pycalphad.plot.utils import phase_legend\n",
    "phase_handles, phasemap = phase_legend(phases)\n",
    "\n",
    "plt.gca().set_xlabel('Temperature (K)')\n",
    "plt.gca().set_ylabel('Phase Fraction')\n",
    "plt.gca().set_ylim((0,1.1))\n",
    "plt.gca().set_xlim((1000, 1700))\n",
    "\n",
    "for name in phases:\n",
    "    phase_indices = np.nonzero(eq.Phase.values == name)\n",
    "    plt.scatter(np.take(eq['T'].values, phase_indices[2]), eq.NP.values[phase_indices], color=phasemap[name])\n",
    "plt.gca().legend(phase_handles, phases, loc='lower right')"
   ]
  },
  {
   "cell_type": "code",
   "execution_count": null,
   "metadata": {},
   "outputs": [],
   "source": []
  }
 ],
 "metadata": {
  "kernelspec": {
   "display_name": "Python 3",
   "language": "python",
   "name": "python3"
  },
  "language_info": {
   "codemirror_mode": {
    "name": "ipython",
    "version": 3
   },
   "file_extension": ".py",
   "mimetype": "text/x-python",
   "name": "python",
   "nbconvert_exporter": "python",
   "pygments_lexer": "ipython3",
   "version": "3.7.3"
  }
 },
 "nbformat": 4,
 "nbformat_minor": 2
}
