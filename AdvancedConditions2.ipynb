{
 "cells": [
  {
   "cell_type": "code",
   "execution_count": 9,
   "metadata": {},
   "outputs": [],
   "source": [
    "from pycalphad import Database, Model, variables as v\n",
    "from pycalphad import equilibrium\n",
    "import numpy as np"
   ]
  },
  {
   "cell_type": "code",
   "execution_count": 10,
   "metadata": {
    "scrolled": true
   },
   "outputs": [],
   "source": [
    "from pycalphad.tests.datasets import *\n",
    "dbf = Database(ALFE_TDB)"
   ]
  },
  {
   "cell_type": "code",
   "execution_count": 15,
   "metadata": {},
   "outputs": [
    {
     "name": "stdout",
     "output_type": "stream",
     "text": [
      "build_callables [P, T]\n",
      "build_callables [P, T]\n"
     ]
    },
    {
     "data": {
      "image/png": "[encoded data removed]",
      "text/plain": [
       "<matplotlib.figure.Figure at 0x7f3af09660b8>"
      ]
     },
     "metadata": {},
     "output_type": "display_data"
    }
   ],
   "source": [
    "%matplotlib inline\n",
    "from pycalphad import calculate, Database\n",
    "from pycalphad.plot.utils import phase_legend\n",
    "import numpy as np\n",
    "from pycalphad.tests.datasets import ISSUE43_TDB\n",
    "import matplotlib.pyplot as plt\n",
    "\n",
    "my_phases = ['FCC_A1', 'AL13FE4']\n",
    "\n",
    "legend_handles, colorlist = phase_legend(my_phases)\n",
    "\n",
    "fig = plt.figure(figsize=(9,6))\n",
    "ax = fig.gca()\n",
    "for name in my_phases:\n",
    "    result = calculate(dbf, ['AL', 'FE', 'VA'], name,\n",
    "                     T=300, P=101325, pdens=100)\n",
    "    gm = result.GM.isel(T=0,P=0) - np.sum([-8490.14017021, -123111.773] * result.X.isel(T=0,P=0), axis=1)\n",
    "    ax.scatter(result.X.isel(T=0,P=0).sel(component='AL'), gm,\n",
    "               marker='.', s=5, color=colorlist[name.upper()])\n",
    "#ax.set_xlim((0.6, 1))\n",
    "ax.set_ylim((-500, 1000))\n",
    "#plt.plot([0,1], [0, 0])\n",
    "ax.legend(handles=legend_handles, loc='center left', bbox_to_anchor=(1, 0.6))\n",
    "plt.show()"
   ]
  },
  {
   "cell_type": "code",
   "execution_count": 8,
   "metadata": {},
   "outputs": [
    {
     "data": {
      "text/plain": [
       "<xarray.DataArray ()>\n",
       "array(501)\n",
       "Coordinates:\n",
       "    T          float64 1.273e+03\n",
       "    P          float64 1.013e+05\n",
       "    component  <U1 'A'"
      ]
     },
     "execution_count": 8,
     "metadata": {},
     "output_type": "execute_result"
    }
   ],
   "source": [
    "gm.argmin()"
   ]
  },
  {
   "cell_type": "code",
   "execution_count": null,
   "metadata": {},
   "outputs": [],
   "source": []
  }
 ],
 "metadata": {
  "kernelspec": {
   "display_name": "Python 3",
   "language": "python",
   "name": "python3"
  },
  "language_info": {
   "codemirror_mode": {
    "name": "ipython",
    "version": 3
   },
   "file_extension": ".py",
   "mimetype": "text/x-python",
   "name": "python",
   "nbconvert_exporter": "python",
   "pygments_lexer": "ipython3",
   "version": "3.5.2"
  }
 },
 "nbformat": 4,
 "nbformat_minor": 2
}
