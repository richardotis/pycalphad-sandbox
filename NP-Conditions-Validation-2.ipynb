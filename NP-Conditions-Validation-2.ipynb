{
 "cells": [
  {
   "cell_type": "code",
   "execution_count": 1,
   "metadata": {},
   "outputs": [],
   "source": [
    "from pycalphad import Database, Model, variables as v\n",
    "from pycalphad import equilibrium, calculate\n",
    "import numpy as np\n",
    "from pycalphad.tests.datasets import *\n",
    "dbf = Database('alzn_mey.tdb')"
   ]
  },
  {
   "cell_type": "code",
   "execution_count": 2,
   "metadata": {
    "scrolled": true
   },
   "outputs": [
    {
     "name": "stdout",
     "output_type": "stream",
     "text": [
      "Components: AL VA ZN\n",
      "Phases: FCC_A1 \n",
      "HCP_A3 \n",
      "LIQUID \n",
      "[done]\n",
      "Composition Sets [CompositionSet(FCC_A1, [0.12024048 0.87975952], NP=0.3333333333333333, GM=-10489.356271065852), CompositionSet(HCP_A3, [1.e-13 1.e+00], NP=0.3333333333333333, GM=-12489.369042323267), CompositionSet(LIQUID, [0.00200401 0.99799599], NP=0.001 [fixed], GM=-8422.501520948857)]\n",
      "Chemical Potentials [0. 0.]\n",
      "Trying to improve poor solution\n",
      "Chemical Potentials [-28221.13721901 -85342.64062357]\n",
      "[ 1.00000000e+00  1.00000000e+05  9.99999999e-05 -2.60627075e-11\n",
      "  0.00000000e+00  3.72324394e-11  1.00000000e+06  1.00000000e+03\n",
      "  6.36824117e+01 -7.07161713e-05 -1.36278686e-08]\n",
      "[1.00000000e+00 1.00000000e+05 9.28031190e+02 9.99970699e-01\n",
      " 2.93005242e-05 3.44941624e-01 6.55058376e-01 9.99913560e-01\n",
      " 8.64397802e-05 9.98418091e-01 1.48190943e-03 9.99999999e-05]\n",
      "Status: 2 b'Algorithm converged to a point of local infeasibility. Problem may be infeasible.'\n",
      "Rebuilding grid {'N': 1.0, 'P': 100000.0, 'T': 928.0311895921062}\n",
      "Adding CompositionSet(FCC_A1, [9.99165120e-01 8.34879849e-04], NP=0.25, GM=-37595.38295656821) Driving force: 9326.556145413335\n",
      "Redundant phase: CompositionSet(FCC_A1, [9.99165120e-01 8.34879849e-04], NP=0.25, GM=-37595.38295656821)\n",
      "Removing CompositionSet(FCC_A1, [9.99165120e-01 8.34879849e-04], NP=nan, GM=-37595.38295656821)\n",
      "Trying to improve poor solution\n",
      "Calculation Failed:  OrderedDict([('N', array(1.)), ('NP_LIQUID', array(0.001)), ('P', array(100000.)), ('X_ZN', array(0.001))]) b\"Restoration phase failed, algorithm doesn't know how to proceed.\"\n",
      "Chemical Potentials [-28524.1709219  -86138.75168865]\n",
      "[ 1.00000000e+00  1.00000000e+05  1.00000000e-04  2.23856489e-11\n",
      "  0.00000000e+00  6.93063384e-11  1.00000001e+06  1.00000000e+03\n",
      " -4.51562912e-06 -1.81582943e-01  6.40586748e+01]\n",
      "[1.00000000e+00 1.00000000e+05 9.33578970e+02 9.99970758e-01\n",
      " 2.92417956e-05 3.46746680e-01 6.53253320e-01 9.99913655e-01\n",
      " 8.63445774e-05 9.98413916e-01 1.48609417e-03 1.00000000e-04]\n",
      "Status: -2 b\"Restoration phase failed, algorithm doesn't know how to proceed.\"\n",
      "Candidate composition set FCC_A1 at [9.99165120e-01 8.34879849e-04] is not distinct from previously removed phase\n",
      "Candidate composition set FCC_A1 at [9.99165120e-01 8.34879849e-04] is not distinct from previously removed phase\n",
      "Candidate composition set FCC_A1 at [9.99165120e-01 8.34879849e-04] is not distinct from previously removed phase\n",
      "Candidate composition set FCC_A1 at [9.99165120e-01 8.34879849e-04] is not distinct from previously removed phase\n",
      "Candidate composition set FCC_A1 at [9.99165120e-01 8.34879849e-04] is not distinct from previously removed phase\n",
      "Candidate composition set FCC_A1 at [9.99165120e-01 8.34879849e-04] is not distinct from previously removed phase\n",
      "Candidate composition set FCC_A1 at [9.99165120e-01 8.34879849e-04] is not distinct from previously removed phase\n",
      "Candidate composition set FCC_A1 at [9.99165120e-01 8.34879849e-04] is not distinct from previously removed phase\n",
      "Candidate composition set FCC_A1 at [9.99165120e-01 8.34879849e-04] is not distinct from previously removed phase\n",
      "Adding CompositionSet(FCC_A1, [0.997999 0.002001], NP=0.25, GM=-37988.973458142595) Driving force: 9320.429161622724\n",
      "Trying to improve poor solution\n",
      "Calculation Failed:  OrderedDict([('N', array(1.)), ('NP_LIQUID', array(0.001)), ('P', array(100000.)), ('X_ZN', array(0.001))]) b'Maximum number of iterations exceeded (can be specified by an option).'\n",
      "Chemical Potentials [-34595.13520232 -80575.1656946 ]\n",
      "[ 1.00000264e+00  1.00000000e+05  2.57983216e-03 -1.25909310e-02\n",
      "  4.31764638e-04  8.44970382e-01 -8.35894332e-01  1.00000000e+06\n",
      "  1.07353499e+03 -1.94108442e+01 -1.47277016e+03 -2.10774338e+01\n",
      "  2.17262059e+01]\n",
      "[1.00000264e+00 1.00000000e+05 9.34695267e+02 9.97738101e-01\n",
      " 2.26188659e-03 5.79560762e-01 4.20439238e-01 9.98713800e-01\n",
      " 1.28704464e-03 9.98980689e-01 1.01847536e-03 9.65107550e-03\n",
      " 1.01009960e-04 2.57983216e-03 9.87668082e-01]\n",
      "Status: -1 b'Maximum number of iterations exceeded (can be specified by an option).'\n",
      "Candidate composition set FCC_A1 at [9.99165120e-01 8.34879849e-04] is not distinct from previously removed phase\n",
      "Candidate composition set FCC_A1 at [9.99165120e-01 8.34879849e-04] is not distinct from previously removed phase\n",
      "Candidate composition set FCC_A1 at [9.99165120e-01 8.34879849e-04] is not distinct from previously removed phase\n",
      "Candidate composition set FCC_A1 at [9.99165120e-01 8.34879849e-04] is not distinct from previously removed phase\n",
      "Candidate composition set FCC_A1 at [9.99165120e-01 8.34879849e-04] is not distinct from previously removed phase\n",
      "Candidate composition set FCC_A1 at [9.99165120e-01 8.34879849e-04] is not distinct from previously removed phase\n",
      "Candidate composition set FCC_A1 at [9.99165120e-01 8.34879849e-04] is not distinct from previously removed phase\n",
      "Candidate composition set FCC_A1 at [9.99165120e-01 8.34879849e-04] is not distinct from previously removed phase\n",
      "Candidate composition set FCC_A1 at [9.99165120e-01 8.34879849e-04] is not distinct from previously removed phase\n",
      "Adding CompositionSet(FCC_A1, [0.997999 0.002001], NP=0.2, GM=-38056.05699843922) Driving force: 9320.429161622724\n",
      "Redundant phase: CompositionSet(FCC_A1, [0.99898152 0.00101848], NP=0.9876680824052152, GM=-38005.20366567674)\n",
      "Redundant phase: CompositionSet(FCC_A1, [0.997999 0.002001], NP=0.2, GM=-38056.05699843922)\n",
      "Exceeded zero seen: CompositionSet(HCP_A3, [0.57956076 0.42043924], NP=0.0001, GM=-43807.36130751368)\n",
      "Removing CompositionSet(FCC_A1, [0.997999 0.002001], NP=nan, GM=-38056.05699843922)\n",
      "Removing CompositionSet(FCC_A1, [0.99898152 0.00101848], NP=nan, GM=-38005.20366567674)\n",
      "Removing CompositionSet(HCP_A3, [0.57956076 0.42043924], NP=nan, GM=-43807.36130751368)\n",
      "Trying to improve poor solution\n",
      "Chemical Potentials [-37826.97532632 -92518.24565636]\n",
      "[ 1.00000264e+00  1.00000000e+05  2.57983216e-03 -2.11457518e-11\n",
      " -1.31876732e-10  1.00000000e+06  1.00000000e+03 -1.61179025e-06\n",
      "  1.57091337e-04]\n",
      "[1.00000264e+00 1.00000000e+05 9.32654612e+02 9.99003634e-01\n",
      " 9.96365959e-04 9.97594999e-01 2.40500080e-03 9.97420168e-01\n",
      " 2.57983216e-03]\n",
      "Status: 1 b'Algorithm stopped at a point that was converged, not to \"desired\" tolerances, but to \"acceptable\" tolerances (see the acceptable-... options).'\n",
      "Candidate composition set FCC_A1 at [9.99165120e-01 8.34879849e-04] is not distinct from previously removed phase\n",
      "Candidate composition set FCC_A1 at [0.997999 0.002001] is not distinct from previously removed phase\n",
      "Candidate composition set FCC_A1 at [0.997999 0.002001] is not distinct from previously removed phase\n",
      "Candidate composition set FCC_A1 at [9.99165120e-01 8.34879849e-04] is not distinct from previously removed phase\n",
      "Candidate composition set FCC_A1 at [9.99165120e-01 8.34879849e-04] is not distinct from previously removed phase\n",
      "Candidate composition set FCC_A1 at [9.99165120e-01 8.34879849e-04] is not distinct from previously removed phase\n",
      "Candidate composition set FCC_A1 at [9.99165120e-01 8.34879849e-04] is not distinct from previously removed phase\n",
      "Candidate composition set FCC_A1 at [9.99165120e-01 8.34879849e-04] is not distinct from previously removed phase\n",
      "Candidate composition set FCC_A1 at [0.997999 0.002001] is not distinct from previously removed phase\n",
      "Candidate composition set FCC_A1 at [0.997999 0.002001] is not distinct from previously removed phase\n",
      "Candidate composition set FCC_A1 at [9.99165120e-01 8.34879849e-04] is not distinct from previously removed phase\n",
      "Candidate composition set FCC_A1 at [9.99165120e-01 8.34879849e-04] is not distinct from previously removed phase\n",
      "Candidate composition set FCC_A1 at [9.99165120e-01 8.34879849e-04] is not distinct from previously removed phase\n",
      "Candidate composition set FCC_A1 at [0.997999 0.002001] is not distinct from previously removed phase\n",
      "Composition Sets [CompositionSet(FCC_A1, [9.99003634e-01 9.96365959e-04], NP=0.9974201678413114, GM=-37881.467849036235), CompositionSet(LIQUID, [0.997595 0.002405], NP=0.0025798321586886297 [fixed], GM=-37958.507870368776)]\n",
      "<xarray.Dataset>\n",
      "Dimensions:    (N: 1, NP_LIQUID: 1, P: 1, X_ZN: 1, component: 2, internal_dof: 2, vertex: 3)\n",
      "Coordinates:\n",
      "  * N          (N) float64 1.0\n",
      "  * NP_LIQUID  (NP_LIQUID) float64 0.001\n",
      "  * P          (P) float64 1e+05\n",
      "  * X_ZN       (X_ZN) float64 0.001\n",
      "  * vertex     (vertex) int64 0 1 2\n",
      "  * component  (component) <U2 'AL' 'ZN'\n",
      "Dimensions without coordinates: internal_dof\n",
      "Data variables:\n",
      "    NP         (N, P, NP_LIQUID, X_ZN, vertex) float64 0.9974 0.00258 nan\n",
      "    GM         (N, P, NP_LIQUID, X_ZN) float64 -3.788e+04\n",
      "    MU         (N, P, NP_LIQUID, X_ZN, component) float64 -3.783e+04 -9.252e+04\n",
      "    X          (N, P, NP_LIQUID, X_ZN, vertex, component) float64 0.999 ... nan\n",
      "    Y          (N, P, NP_LIQUID, X_ZN, vertex, internal_dof) float64 0.999 ... nan\n",
      "    Phase      (N, P, NP_LIQUID, X_ZN, vertex) <U6 'FCC_A1' 'LIQUID' ''\n",
      "    T          (N, P, NP_LIQUID, X_ZN) float64 932.7\n",
      "Attributes:\n",
      "    engine:   pycalphad 0.7.1.post2+37.g3135877.dirty\n",
      "    created:  2019-05-28T23:18:22.244054\n"
     ]
    }
   ],
   "source": [
    "from pycalphad.core.solver import InteriorPointSolver\n",
    "class ProblemSaver(InteriorPointSolver):\n",
    "    saved_problem = [None]\n",
    "    def solve(self, prob):\n",
    "        self.saved_problem[0] = prob\n",
    "        self.verbose = True\n",
    "        return super(ProblemSaver, self).solve(prob)\n",
    "#v.T.default_value = 300\n",
    "eq2 = equilibrium(dbf, ['AL', 'ZN', 'VA'], ['FCC_A1', 'LIQUID', 'HCP_A3'],\n",
    "                 {v.X('ZN'): 1e-3, v.NP('LIQUID'): 1e-3,\n",
    "                  v.P: 1e5}, verbose=True, solver=ProblemSaver())\n",
    "print(eq2)"
   ]
  },
  {
   "cell_type": "code",
   "execution_count": 3,
   "metadata": {},
   "outputs": [
    {
     "data": {
      "image/png": "[encoded data removed]",
      "text/plain": [
       "<Figure size 648x432 with 1 Axes>"
      ]
     },
     "metadata": {
      "needs_background": "light"
     },
     "output_type": "display_data"
    }
   ],
   "source": [
    "%matplotlib inline\n",
    "from pycalphad import calculate\n",
    "from pycalphad.plot.utils import phase_legend\n",
    "import numpy as np\n",
    "import matplotlib.pyplot as plt\n",
    "\n",
    "my_phases = ['FCC_A1', 'LIQUID', 'HCP_A3']\n",
    "legend_handles, colorlist = phase_legend(my_phases)\n",
    "fig = plt.figure(figsize=(9,6))\n",
    "ax = fig.gca()\n",
    "for name in my_phases:\n",
    "    result = calculate(dbf, ['AL', 'ZN', 'VA'], name, P=101325, T=float(eq2['T'].values.flat[0]), output='GM')\n",
    "    ax.scatter(result.X.sel(component='ZN'), result.GM,\n",
    "               marker='.', s=5, color=colorlist[name.upper()])\n",
    "ax.set_xlim((0, 1))\n",
    "ax.legend(handles=legend_handles, loc='center left', bbox_to_anchor=(1, 0.6))\n",
    "\n",
    "ax.plot([0,1], eq2['MU'].values.flatten(), c='k')\n",
    "#plt.xlim((0,0.01))\n",
    "#plt.ylim((-40000, -30000))\n",
    "plt.show()"
   ]
  },
  {
   "cell_type": "code",
   "execution_count": null,
   "metadata": {},
   "outputs": [],
   "source": []
  }
 ],
 "metadata": {
  "kernelspec": {
   "display_name": "Python 3",
   "language": "python",
   "name": "python3"
  },
  "language_info": {
   "codemirror_mode": {
    "name": "ipython",
    "version": 3
   },
   "file_extension": ".py",
   "mimetype": "text/x-python",
   "name": "python",
   "nbconvert_exporter": "python",
   "pygments_lexer": "ipython3",
   "version": "3.7.0"
  }
 },
 "nbformat": 4,
 "nbformat_minor": 1
}
