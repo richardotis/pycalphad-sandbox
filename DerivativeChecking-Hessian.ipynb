{
 "cells": [
  {
   "cell_type": "code",
   "execution_count": 1,
   "metadata": {},
   "outputs": [
    {
     "name": "stdout",
     "output_type": "stream",
     "text": [
      "Chemical Potentials [-5763.17223277 -5763.17223277]\n",
      "[0. 0. 0. 0. 0. 0.]\n",
      "[1.00000e+00 1.01325e+05 1.00000e+03 5.00000e-01 5.00000e-01 1.00000e+00]\n",
      "Status: 0 b'Algorithm terminated successfully at a locally optimal point, satisfying the convergence tolerances (can be specified by options).'\n"
     ]
    }
   ],
   "source": [
    "from pycalphad.tests.datasets import *\n",
    "from pycalphad.core.solver import InteriorPointSolver\n",
    "from pycalphad import equilibrium, Database, variables as v\n",
    "\n",
    "ROSE_DBF = Database(ROSE_TDB)\n",
    "\n",
    "class ProblemSaver(InteriorPointSolver):\n",
    "    saved_problem = [None]\n",
    "    def solve(self, prob):\n",
    "        self.saved_problem[0] = prob\n",
    "        self.verbose = True\n",
    "        return super(ProblemSaver, self).solve(prob)\n",
    "\n",
    "my_phases_rose = ['TEST']\n",
    "comps = ['H', 'HE']#, 'LI', 'BE', 'B', 'C', 'N', 'O', 'F']\n",
    "conds = dict({v.T: 1000, v.P: 101325})\n",
    "for comp in comps[:-1]:\n",
    "    conds[v.X(comp)] = 1.0/float(len(comps))\n",
    "eqx = equilibrium(ROSE_DBF, comps, my_phases_rose, conds, verbose=False, solver=ProblemSaver())"
   ]
  },
  {
   "cell_type": "code",
   "execution_count": 2,
   "metadata": {},
   "outputs": [],
   "source": [
    "import numpy as np\n",
    "soln = np.array(\n",
    "    [1.00000000e+00, 1.01325000e+05, 1.00000000e+03, 4.95626896e-01,\n",
    " 1.24946022e-03, 4.95626896e-01, 1.24945998e-03, 1.24946028e-03,\n",
    " 1.24945576e-03, 1.24945992e-03, 1.24945599e-03, 1.24945550e-03,\n",
    " 1.24945837e-03, 4.95626896e-01, 1.24945831e-03, 1.24945665e-03,\n",
    " 4.95626896e-01, 1.24945929e-03, 1.24945659e-03, 1.24945951e-03,\n",
    " 1.24945903e-03, 1.24945778e-03, 1.24945631e-03, 1.24945773e-03,\n",
    " 4.95626896e-01, 1.24945636e-03, 1.24945987e-03, 4.95626896e-01,\n",
    " 1.24946009e-03, 1.24945960e-03, 1.24945850e-03, 1.24945851e-03,\n",
    " 1.24945855e-03, 1.24945846e-03, 1.24945845e-03, 1.24945797e-03,\n",
    " 1.24945851e-03, 4.95628987e-01, 4.95624804e-01, 1.24945843e-03,\n",
    " 1.24945844e-03, 1.24945848e-03, 1.24945838e-03, 1.24945838e-03,\n",
    " 4.95627361e-01, 1.24945844e-03, 4.95626431e-01, 1.24945789e-03,\n",
    " 1.24945860e-03, 1.24945861e-03, 1.24945866e-03, 1.24945856e-03,\n",
    " 1.24945856e-03, 4.95626195e-01, 1.24945861e-03, 1.24945826e-03,\n",
    " 4.95627595e-01, 2.22222222e-01, 2.22222222e-01, 2.22222222e-01,\n",
    " 1.11111058e-01, 1.11110798e-01, 1.11111477e-01]\n",
    ")\n",
    "\n",
    "temps = np.arange(300,1000,1e-1)\n",
    "obj = np.zeros_like(temps)\n",
    "grad = np.zeros_like(temps)\n",
    "error = np.zeros_like(temps)\n",
    "for idx, temp in enumerate(temps):\n",
    "    copy_of_soln = np.array(soln)\n",
    "    copy_of_soln[2] = temp\n",
    "    obj[idx] = ProblemSaver.saved_problem[0].objective(copy_of_soln)\n",
    "    grad[idx] = ProblemSaver.saved_problem[0].gradient(copy_of_soln)[2]\n",
    "error = np.abs(np.gradient(obj, 1e-1) - grad)"
   ]
  },
  {
   "cell_type": "code",
   "execution_count": 3,
   "metadata": {},
   "outputs": [
    {
     "data": {
      "text/plain": [
       "array([[ 1.00000000e+00,  0.00000000e+00,  0.00000000e+00,\n",
       "         0.00000000e+00,  0.00000000e+00,  0.00000000e+00],\n",
       "       [ 0.00000000e+00,  1.00000000e+00,  0.00000000e+00,\n",
       "         0.00000000e+00,  0.00000000e+00,  0.00000000e+00],\n",
       "       [ 0.00000000e+00,  0.00000000e+00,  1.00000000e+00,\n",
       "         0.00000000e+00,  0.00000000e+00,  0.00000000e+00],\n",
       "       [ 0.00000000e+00,  0.00000000e+00,  0.00000000e+00,\n",
       "         1.00000000e+06,  1.00000000e+06,  0.00000000e+00],\n",
       "       [ 0.00000000e+00,  0.00000000e+00,  0.00000000e+00,\n",
       "         6.31935075e-11,  6.31935075e-11,  1.00000000e+06],\n",
       "       [ 0.00000000e+00,  0.00000000e+00,  0.00000000e+00,\n",
       "         2.50830669e+03, -9.94977063e+05,  9.97485370e+05]])"
      ]
     },
     "execution_count": 3,
     "metadata": {},
     "output_type": "execute_result"
    }
   ],
   "source": [
    "ProblemSaver.saved_problem[0].jacobian(soln)"
   ]
  },
  {
   "cell_type": "code",
   "execution_count": 4,
   "metadata": {},
   "outputs": [
    {
     "data": {
      "text/plain": [
       "array([[ 0.00000000e+00,  0.00000000e+00,  0.00000000e+00,\n",
       "         0.00000000e+00,  0.00000000e+00,  0.00000000e+00],\n",
       "       [ 0.00000000e+00,  0.00000000e+00,  0.00000000e+00,\n",
       "         0.00000000e+00,  0.00000000e+00,  0.00000000e+00],\n",
       "       [ 0.00000000e+00,  0.00000000e+00,  0.00000000e+00,\n",
       "         8.41837180e+00, -4.12031169e+01, -5.96130671e+00],\n",
       "       [ 0.00000000e+00,  0.00000000e+00,  8.41837180e+00,\n",
       "        -1.71516384e+04,  6.59816968e+04,  1.69853006e+04],\n",
       "       [ 0.00000000e+00,  0.00000000e+00, -4.12031169e+01,\n",
       "         6.59816968e+04,  6.80358859e+06, -8.31333352e+04],\n",
       "       [ 0.00000000e+00,  0.00000000e+00, -5.96130671e+00,\n",
       "         1.69853006e+04, -8.31333352e+04,  0.00000000e+00]])"
      ]
     },
     "execution_count": 4,
     "metadata": {},
     "output_type": "execute_result"
    }
   ],
   "source": [
    "lmul = np.zeros(43)\n",
    "lmul[-1] = 1.0\n",
    "ProblemSaver.saved_problem[0].hessian(soln, lmul, 1.0)"
   ]
  }
 ],
 "metadata": {
  "kernelspec": {
   "display_name": "Python 3",
   "language": "python",
   "name": "python3"
  },
  "language_info": {
   "codemirror_mode": {
    "name": "ipython",
    "version": 3
   },
   "file_extension": ".py",
   "mimetype": "text/x-python",
   "name": "python",
   "nbconvert_exporter": "python",
   "pygments_lexer": "ipython3",
   "version": "3.7.0"
  }
 },
 "nbformat": 4,
 "nbformat_minor": 2
}
