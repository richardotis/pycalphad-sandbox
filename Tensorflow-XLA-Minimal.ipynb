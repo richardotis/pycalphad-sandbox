{
 "cells": [
  {
   "cell_type": "code",
   "execution_count": null,
   "metadata": {},
   "outputs": [],
   "source": [
    "import tensorflow as tf"
   ]
  },
  {
   "cell_type": "code",
   "execution_count": 2,
   "metadata": {},
   "outputs": [],
   "source": [
    "from tensorflow import where\n",
    "from tensorflow.math import greater_equal\n",
    "from tensorflow.math import less\n",
    "from tensorflow.math import logical_and\n",
    "from tensorflow.math import greater\n",
    "from tensorflow.math import pow\n",
    "from tensorflow.math import log\n",
    "\n",
    "def _lambdifygenerated(\n",
    "    T,\n",
    "    LIQUID0AL,\n",
    "    LIQUID0CU,\n",
    "    LIQUID0ZR,\n",
    "    ):\n",
    "    return 8.3145 * T * (1.0 * where(greater(LIQUID0AL, 1.0e-16),\n",
    "                         LIQUID0AL * log(LIQUID0AL), 0) / (1.0\n",
    "                         * LIQUID0AL + 1.0 * LIQUID0CU + 1.0\n",
    "                         * LIQUID0ZR) + 1.0 * where(greater(LIQUID0CU,\n",
    "                         1.0e-16), LIQUID0CU * log(LIQUID0CU), 0)\n",
    "                         / (1.0 * LIQUID0AL + 1.0 * LIQUID0CU + 1.0\n",
    "                         * LIQUID0ZR) + 1.0 * where(greater(LIQUID0ZR,\n",
    "                         1.0e-16), LIQUID0ZR * log(LIQUID0ZR), 0)\n",
    "                         / (1.0 * LIQUID0AL + 1.0 * LIQUID0CU + 1.0\n",
    "                         * LIQUID0ZR)) + (LIQUID0AL\n",
    "            * where(logical_and(greater_equal(T, 298.14), less(T,\n",
    "            700.0)), 7.9337e-20 * pow(T, 7) - 11.841867 * T\n",
    "            + where(logical_and(greater_equal(T, 298.14), less(T,\n",
    "            700.0)), -8.77664e-7 * pow(T, 3) - 0.001884662 * pow(T, 2)\n",
    "            - 24.3671976 * T * log(T) + 137.093038 * T - 7976.15\n",
    "            + 74092 / T, where(logical_and(greater_equal(T, 700.0),\n",
    "            less(T, 933.47)), -5.764227e-6 * pow(T, 3) + 0.018531982\n",
    "            * pow(T, 2) - 38.5844296 * T * log(T) + 223.048446 * T\n",
    "            - 11276.24 + 74092 / T, where(logical_and(greater_equal(T,\n",
    "            933.47), less(T, 2900.0)), -31.748192 * T * log(T)\n",
    "            + 188.684153 * T - 11278.378 - 1.230524e+28 / pow(T, 9),\n",
    "            0))) + 11005.029, where(logical_and(greater_equal(T,\n",
    "            700.0), less(T, 933.47)), 7.9337e-20 * pow(T, 7)\n",
    "            - 11.841867 * T + where(logical_and(greater_equal(T,\n",
    "            298.14), less(T, 700.0)), -8.77664e-7 * pow(T, 3)\n",
    "            - 0.001884662 * pow(T, 2) - 24.3671976 * T * log(T)\n",
    "            + 137.093038 * T - 7976.15 + 74092 / T,\n",
    "            where(logical_and(greater_equal(T, 700.0), less(T,\n",
    "            933.47)), -5.764227e-6 * pow(T, 3) + 0.018531982 * pow(T,\n",
    "            2) - 38.5844296 * T * log(T) + 223.048446 * T - 11276.24\n",
    "            + 74092 / T, where(logical_and(greater_equal(T, 933.47),\n",
    "            less(T, 2900.0)), -31.748192 * T * log(T) + 188.684153 * T\n",
    "            - 11278.378 - 1.230524e+28 / pow(T, 9), 0))) + 11005.03,\n",
    "            where(logical_and(greater_equal(T, 933.47), less(T,\n",
    "            2900.0)), -31.748192 * T * log(T) + 177.430178 * T\n",
    "            - 795.996, 0))) + LIQUID0CU\n",
    "            * where(logical_and(greater_equal(T, 298.14), less(T,\n",
    "            1357.77)), -5.8489e-21 * pow(T, 7) - 9.511904 * T\n",
    "            + where(logical_and(greater_equal(T, 298.14), less(T,\n",
    "            1357.77)), 1.29223e-7 * pow(T, 3) - 0.00265684 * pow(T, 2)\n",
    "            - 24.112392 * T * log(T) + 130.485235 * T - 7770.458\n",
    "            + 52478 / T, where(logical_and(greater_equal(T, 1357.77),\n",
    "            less(T, 3200.0)), -31.38 * T * log(T) + 183.803828 * T\n",
    "            - 13542.026 + 3.64167e+29 / pow(T, 9), 0)) + 12964.735,\n",
    "            where(logical_and(greater_equal(T, 1357.77), less(T,\n",
    "            3200.0)), -31.38 * T * log(T) + 173.881484 * T - 46.545,\n",
    "            0)) + LIQUID0ZR * where(logical_and(greater_equal(T,\n",
    "            130.0), less(T, 2128.0)), 1.6275e-22 * pow(T, 7) - 9.080812\n",
    "            * T + where(logical_and(greater_equal(T, 130.0), less(T,\n",
    "            2128.0)), -0.00437791 * pow(T, 2) - 24.1618 * T * log(T)\n",
    "            + 125.64905 * T - 7827.595 + 34971 / T,\n",
    "            where(logical_and(greater_equal(T, 2128.0), less(T,\n",
    "            6000.0)), -42.144 * T * log(T) + 262.724183 * T - 26085.921\n",
    "            - 1.342896e+31 / pow(T, 9), 0)) + 18147.69,\n",
    "            where(logical_and(greater_equal(T, 2128.0), less(T,\n",
    "            6000.0)), -42.144 * T * log(T) + 253.812609 * T - 8281.26,\n",
    "            0))) / (1.0 * LIQUID0AL + 1.0 * LIQUID0CU + 1.0\n",
    "                    * LIQUID0ZR) + (LIQUID0AL * LIQUID0CU * LIQUID0ZR\n",
    "                                    * (-1 / 3 * LIQUID0AL + 2 / 3\n",
    "                                    * LIQUID0CU - 1 / 3 * LIQUID0ZR + 1\n",
    "                                    / 3)\n",
    "                                    * where(logical_and(greater_equal(T,\n",
    "                                    298.15), less(T, 6000.0)),\n",
    "                                    150013.2, 0) + LIQUID0AL\n",
    "                                    * LIQUID0CU * LIQUID0ZR * (2 / 3\n",
    "                                    * LIQUID0AL - 1 / 3 * LIQUID0CU - 1\n",
    "                                    / 3 * LIQUID0ZR + 1 / 3)\n",
    "                                    * where(logical_and(greater_equal(T,\n",
    "                                    298.15), less(T, 6000.0)), 100.2335\n",
    "                                    * T - 417439.6, 0) + LIQUID0AL\n",
    "                                    * LIQUID0CU * pow(LIQUID0AL\n",
    "                                    - LIQUID0CU, 3)\n",
    "                                    * where(logical_and(greater_equal(T,\n",
    "                                    298.15), less(T, 6000.0)), 5.5 * T\n",
    "                                    - 7290, 0) + LIQUID0AL * LIQUID0CU\n",
    "                                    * pow(LIQUID0AL - LIQUID0CU, 2)\n",
    "                                    * where(logical_and(greater_equal(T,\n",
    "                                    298.15), less(T, 6000.0)), 5915\n",
    "                                    - 5.889 * T, 0) + LIQUID0AL\n",
    "                                    * LIQUID0CU * (LIQUID0AL\n",
    "                                    - LIQUID0CU)\n",
    "                                    * where(logical_and(greater_equal(T,\n",
    "                                    298.15), less(T, 6000.0)), 32148\n",
    "                                    - 7.118 * T, 0) + LIQUID0AL\n",
    "                                    * LIQUID0CU\n",
    "                                    * where(logical_and(greater_equal(T,\n",
    "                                    298.15), less(T, 6000.0)), 8.555\n",
    "                                    * T - 67094, 0) + LIQUID0AL\n",
    "                                    * LIQUID0ZR * pow(LIQUID0AL\n",
    "                                    - LIQUID0ZR, 2)\n",
    "                                    * where(logical_and(greater_equal(T,\n",
    "                                    298.15), less(T, 6000.0)), 48183.91\n",
    "                                    - 10.62301 * T, 0) + LIQUID0AL\n",
    "                                    * LIQUID0ZR * (LIQUID0AL\n",
    "                                    - LIQUID0ZR)\n",
    "                                    * where(logical_and(greater_equal(T,\n",
    "                                    298.15), less(T, 6000.0)), 7.35154\n",
    "                                    * T - 20276.51, 0) + LIQUID0AL\n",
    "                                    * LIQUID0ZR\n",
    "                                    * where(logical_and(greater_equal(T,\n",
    "                                    298.15), less(T, 6000.0)), 50.03303\n",
    "                                    * T - 184477.95, 0) + LIQUID0CU\n",
    "                                    * LIQUID0ZR * pow(LIQUID0CU\n",
    "                                    - LIQUID0ZR, 3)\n",
    "                                    * where(logical_and(greater_equal(T,\n",
    "                                    298.15), less(T, 6000.0)), -13.6488\n",
    "                                    * T * log(T) + 119.5438 * T\n",
    "                                    - 22368.721, 0) + LIQUID0CU\n",
    "                                    * LIQUID0ZR * pow(LIQUID0CU\n",
    "                                    - LIQUID0ZR, 2)\n",
    "                                    * where(logical_and(greater_equal(T,\n",
    "                                    298.15), less(T, 6000.0)), 36.8512\n",
    "                                    * T * log(T) - 307.3817 * T\n",
    "                                    + 56633.154, 0) + LIQUID0CU\n",
    "                                    * LIQUID0ZR * (LIQUID0CU\n",
    "                                    - LIQUID0ZR)\n",
    "                                    * where(logical_and(greater_equal(T,\n",
    "                                    298.15), less(T, 6000.0)), -9.6125\n",
    "                                    * T * log(T) + 84.9923 * T\n",
    "                                    - 22066.212, 0) + LIQUID0CU\n",
    "                                    * LIQUID0ZR\n",
    "                                    * where(logical_and(greater_equal(T,\n",
    "                                    298.15), less(T, 6000.0)), -51.3121\n",
    "                                    * T * log(T) + 444.1606 * T\n",
    "                                    - 140638.632, 0)) / (1.0\n",
    "            * LIQUID0AL + 1.0 * LIQUID0CU + 1.0 * LIQUID0ZR)"
   ]
  },
  {
   "cell_type": "code",
   "execution_count": 3,
   "metadata": {},
   "outputs": [
    {
     "name": "stdout",
     "output_type": "stream",
     "text": [
      "30.6 µs ± 1.75 µs per loop (mean ± std. dev. of 7 runs, 10000 loops each)\n"
     ]
    }
   ],
   "source": [
    "%%timeit\n",
    "func_xla = tf.function(experimental_compile=True)(_lambdifygenerated)"
   ]
  },
  {
   "cell_type": "code",
   "execution_count": 4,
   "metadata": {},
   "outputs": [],
   "source": [
    "func_xla = tf.function(experimental_compile=True)(_lambdifygenerated)"
   ]
  },
  {
   "cell_type": "code",
   "execution_count": 10,
   "metadata": {},
   "outputs": [
    {
     "name": "stdout",
     "output_type": "stream",
     "text": [
      "175 µs ± 14.2 µs per loop (mean ± std. dev. of 7 runs, 1000 loops each)\n"
     ]
    }
   ],
   "source": [
    "# SymEngine/LLVM: 2.68 µs ± 64.1 ns per loop (mean ± std. dev. of 7 runs, 100000 loops each)\n",
    "%timeit func_xla(300., 0.3, 0.3, 0.4)"
   ]
  },
  {
   "cell_type": "code",
   "execution_count": null,
   "metadata": {},
   "outputs": [],
   "source": []
  }
 ],
 "metadata": {
  "kernelspec": {
   "display_name": "Python 3",
   "language": "python",
   "name": "python3"
  },
  "language_info": {
   "codemirror_mode": {
    "name": "ipython",
    "version": 3
   },
   "file_extension": ".py",
   "mimetype": "text/x-python",
   "name": "python",
   "nbconvert_exporter": "python",
   "pygments_lexer": "ipython3",
   "version": "3.7.0"
  }
 },
 "nbformat": 4,
 "nbformat_minor": 4
}
