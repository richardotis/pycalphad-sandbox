{
 "cells": [
  {
   "cell_type": "code",
   "execution_count": 1,
   "metadata": {},
   "outputs": [],
   "source": [
    "%matplotlib inline\n",
    "import matplotlib.pyplot as plt\n",
    "import pycalphad.io.tdb_keywords\n",
    "pycalphad.io.tdb_keywords.TDB_PARAM_TYPES.append('TH')\n",
    "from pycalphad import Database, binplot, Model\n",
    "import pycalphad.variables as v\n",
    "from dask.distributed import Client"
   ]
  },
  {
   "cell_type": "code",
   "execution_count": 5,
   "metadata": {},
   "outputs": [],
   "source": [
    "TDB = \"\"\"\n",
    " ELEMENT /-   ELECTRON_GAS              0.0000E+00  0.0000E+00  0.0000E+00!\n",
    " ELEMENT VA   VACUUM                    0.0000E+00  0.0000E+00  0.0000E+00!\n",
    " ELEMENT AL   FCC_A1                    2.6982E+01  4.5773E+03  2.8322E+01!\n",
    " ELEMENT SB   RHOMBOHEDRAL_A7           1.2175E+02  5.8702E+03  4.5522E+01!\n",
    "\n",
    "\n",
    "TYPE_DEFINITION % SEQ * !\n",
    "DEFINE_SYSTEM_DEFAULT SPECIE 2 !\n",
    "DEFAULT_COMMAND DEF_SYS_ELEMENT VA !\n",
    "\n",
    "FUN GHSERSB   298.15   -9242.858+156.154689*T-30.5130752*T*LN(T)\n",
    "                          +.007748768*T**2-3.003415E-06*T**3\n",
    "                          +100625*T**(-1);\n",
    "              903.9 Y -11738.671+169.485713*T-31.38*T*LN(T)\n",
    "                          +1.610442E+27*T**(-9);\n",
    "             2000.00 N 91DIN !\n",
    "\n",
    " FUNCTION GHSERAL    2.98150E+02  -7976.15+137.093038*T-24.3671976*T*LN(T)\n",
    "     -.001884662*T**2-8.77664E-07*T**3+74092*T**(-1);  7.00000E+02  Y\n",
    "      -11276.24+223.048446*T-38.5844296*T*LN(T)+.018531982*T**2\n",
    "     -5.764227E-06*T**3+74092*T**(-1);  9.33470E+02  Y\n",
    "      -11278.378+188.684153*T-31.748192*T*LN(T)-1.230524E+28*T**(-9);  \n",
    "     2.90000E+03  N !\n",
    "\n",
    "\n",
    "SPECIES AL1SB1 AL1SB1 !\n",
    "\n",
    "PHASE LIQUID:L %  1  1.0 !\n",
    "   CONSTITUENT LIQUID:L  : AL,SB,AL1SB1 : !\n",
    "\n",
    "PHASE RHOMBOHEDRAL_A7 %  1  1.0 !\n",
    "   CONSTITUENT RHOMBOHEDRAL_A7  : AL,SB : !\n",
    "\n",
    "PHASE ALSB % 2 1.0 1.0 !\n",
    "   CONSTITUENT ALSB : AL : SB : !\n",
    "\n",
    "\n",
    "PARA G(RHOMBOHEDRAL_A7,SB;0)   298.15\n",
    " -9242.858+156.154689*T-30.5130752*T*LN(T)+7.748768E-3*T**2-3.003415E-6*T**3\n",
    " +100625*T**(-1);   HICKEL Y\n",
    " -11738.83+169.485872*T-31.38*T*LN(T)+1616.849E24*T**(-9);  2000.00 N !\n",
    "\n",
    "PARA G(RHOMBOHEDRAL_A7,AL;0) 298.15 20000+GHSERAL#; 2000 N !\n",
    "\n",
    "PARA TH(RHOMBOHEDRAL_A7,AL;0) 1 11111; 10000 N !\n",
    "PARA TH(RHOMBOHEDRAL_A7,SB;0) 1 222222; 10000 N !\n",
    "\n",
    "PARA G(LIQUID,AL;0) 2.98140E+02  +11005-11.8419*T+7.934E-20*T**7+GHSERAL#;  \n",
    "                 933  Y\n",
    "      +10482.3-11.254*T+1.231E+28*T**(-9)+GHSERAL#;  6.00000E+03  N !\n",
    "\n",
    "PARA G(LIQUID,SB;0)  298.15   +19822.329-21.923164*T-1.7485E-20*T**7\n",
    "                                 +GHSERSB#;\n",
    "                     903.78 Y +19914.189-22.029886*T-1.6168E+27*T**(-9)\n",
    "                                 +GHSERSB#;\n",
    "                    2000.00 N 91Din !\n",
    "PARA G(LIQUID,AL1SB1;0) 298.15 -24797 + 6.6259*T + 0.82937*T*(1-LN(T)) + 2.6817E-3*T**2\n",
    "                                 +GHSERSB# + GHSERAL#; 2000 N 90Cou !\n",
    "\n",
    "PARA G(ALSB,AL:SB;0) 298.15 -24486 + 6.7006*T + 0.82783*T*(1-LN(T)) + 2.6797E-3*T**2\n",
    "                                 +GHSERSB# + GHSERAL#; 2000 N 90Cou !\n",
    "\n",
    "\"\"\""
   ]
  },
  {
   "cell_type": "code",
   "execution_count": 7,
   "metadata": {},
   "outputs": [
    {
     "data": {
      "text/plain": [
       "1.0*Piecewise((Piecewise((-8.77664e-7*T**3 - 0.001884662*T**2 - 24.3671976*T*log(T) + 137.093038*T - 7976.15 + 74092/T, (T >= 298.15) & (T < 700.0)), (-5.764227e-6*T**3 + 0.018531982*T**2 - 38.5844296*T*log(T) + 223.048446*T - 11276.24 + 74092/T, (T >= 700.0) & (T < 933.47)), (-31.748192*T*log(T) + 188.684153*T - 11278.378 - 1.230524e+28/T**9, (T >= 933.47) & (T < 2900.0)), (0, True)) + 20000, (T >= 298.15) & (T < 2000.0)), (0, True)) + 8.3145*T*Piecewise((RHOMBOHEDRAL_A70AL*log(RHOMBOHEDRAL_A70AL), RHOMBOHEDRAL_A70AL > 1.0e-13), (0, True))/RHOMBOHEDRAL_A70AL + 1.0*(24.9435*T*log(1 - exp(-exp(RHOMBOHEDRAL_A70AL*Piecewise((11111, (T >= 1.0) & (T < 10000.0)), (0, True)))/T)) + 12.47175*exp(RHOMBOHEDRAL_A70AL*Piecewise((11111, (T >= 1.0) & (T < 10000.0)), (0, True))))/RHOMBOHEDRAL_A70AL"
      ]
     },
     "execution_count": 7,
     "metadata": {},
     "output_type": "execute_result"
    }
   ],
   "source": [
    "from sympy import Symbol\n",
    "\n",
    "dbf = Database(TDB)\n",
    "\n",
    "class CustomModel(Model):\n",
    "    def __init__(self, dbe, comps, phase_name, parameters=None):\n",
    "        super(self, CustomModel).__init__(dbe, comps, phase_name, parameters=parameters)\n",
    "        phase = dbe.phases[self.phase_name]\n",
    "        param_search = dbe.search\n",
    "        th_param_query = (\n",
    "            (where('phase_name') == phase.name) & \\\n",
    "            (where('parameter_type') == 'TH') & \\\n",
    "            (where('constituent_array').test(self._array_validity))\n",
    "        )\n",
    "\n",
    "        th = self.redlich_kister_sum(phase, param_search, th_param_query)\n",
    "        #for name, value in self.models.items():\n",
    "        #    self.models[name] = self.models[name].xreplace({Symbol('HICKEL'): th})\n",
    "\n",
    "mod = Model(dbf, ['AL'], 'RHOMBOHEDRAL_A7')\n",
    "mod.GM"
   ]
  },
  {
   "cell_type": "code",
   "execution_count": null,
   "metadata": {},
   "outputs": [],
   "source": [
    "fig = plt.figure(figsize=(9,6))\n",
    "scheduler = Client()\n",
    "\n",
    "%time binplot(dbf, ['AL', 'SB', 'AL1SB1'] , sorted(dbf.phases.keys()), {v.X('SB'):(0,1,0.02), v.T: (300, 1300, 50), v.P:101325},  ax=fig.gca(), eq_kwargs={'scheduler': 'distributed'})\n",
    "\n",
    "plt.show()"
   ]
  },
  {
   "cell_type": "code",
   "execution_count": null,
   "metadata": {},
   "outputs": [],
   "source": [
    "dbf.phases"
   ]
  },
  {
   "cell_type": "code",
   "execution_count": null,
   "metadata": {},
   "outputs": [],
   "source": []
  }
 ],
 "metadata": {
  "kernelspec": {
   "display_name": "Python 3",
   "language": "python",
   "name": "python3"
  },
  "language_info": {
   "codemirror_mode": {
    "name": "ipython",
    "version": 3
   },
   "file_extension": ".py",
   "mimetype": "text/x-python",
   "name": "python",
   "nbconvert_exporter": "python",
   "pygments_lexer": "ipython3",
   "version": "3.5.2"
  }
 },
 "nbformat": 4,
 "nbformat_minor": 2
}
