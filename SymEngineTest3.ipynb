{
 "cells": [
  {
   "cell_type": "code",
   "execution_count": 1,
   "metadata": {},
   "outputs": [],
   "source": [
    "from pycalphad import Database, Model\n",
    "from symengine import Lambdify\n",
    "from pycalphad.codegen.sympydiff_utils import build_functions\n",
    "dbf = Database('AlBeCuZrO.tdb')\n",
    "mod = Model(dbf, ['CU', 'ZR', 'VA'], 'IONIC_LIQ')"
   ]
  },
  {
   "cell_type": "code",
   "execution_count": 2,
   "metadata": {},
   "outputs": [
    {
     "name": "stdout",
     "output_type": "stream",
     "text": [
      "79.9 ms ± 166 µs per loop (mean ± std. dev. of 7 runs, 10 loops each)\n"
     ]
    }
   ],
   "source": [
    "%%timeit\n",
    "func = Lambdify(mod.variables, [mod.GM], backend='llvm', real=True, order='C')"
   ]
  },
  {
   "cell_type": "code",
   "execution_count": 3,
   "metadata": {},
   "outputs": [],
   "source": [
    "import numpy as np\n",
    "inp = np.array([[300, 0.25, 0.25, 0.25, 0.25]])\n",
    "n = int(5e5)\n",
    "inp = np.repeat(inp, n).reshape((-1, 5), order='C')\n",
    "\n",
    "out = np.zeros((n,), order='C')"
   ]
  },
  {
   "cell_type": "code",
   "execution_count": 4,
   "metadata": {},
   "outputs": [
    {
     "data": {
      "text/plain": [
       "[T, IONIC_LIQ0CU_POS1, IONIC_LIQ0CU_POS2, IONIC_LIQ0ZR_POS4, IONIC_LIQ1VA]"
      ]
     },
     "execution_count": 4,
     "metadata": {},
     "output_type": "execute_result"
    }
   ],
   "source": [
    "mod.variables"
   ]
  },
  {
   "cell_type": "code",
   "execution_count": 5,
   "metadata": {},
   "outputs": [],
   "source": [
    "# Suboptimal because this can be done in a Cython loop\n",
    "func = Lambdify(mod.variables, [mod.GM], backend='llvm', real=True, order='C')\n",
    "flattened_inp = inp.ravel()\n",
    "for idx in range(inp.shape[0]):\n",
    "    func.unsafe_real(flattened_inp, out, idx*inp.shape[1], idx)"
   ]
  },
  {
   "cell_type": "code",
   "execution_count": 6,
   "metadata": {},
   "outputs": [
    {
     "name": "stdout",
     "output_type": "stream",
     "text": [
      "116 ms ± 676 µs per loop (mean ± std. dev. of 7 runs, 10 loops each)\n"
     ]
    }
   ],
   "source": [
    "%timeit out = func(inp)\n",
    "out = func(inp)"
   ]
  },
  {
   "cell_type": "code",
   "execution_count": 7,
   "metadata": {},
   "outputs": [
    {
     "name": "stdout",
     "output_type": "stream",
     "text": [
      "1.19 s ± 34.8 ms per loop (mean ± std. dev. of 7 runs, 1 loop each)\n"
     ]
    }
   ],
   "source": [
    "%%timeit\n",
    "func_orig = build_functions(mod.GM, mod.variables, wrt=None,\n",
    "                            include_obj=True, include_grad=False, include_hess=False,\n",
    "                            parameters=None)\n",
    "func_orig.func.compile()"
   ]
  },
  {
   "cell_type": "code",
   "execution_count": 8,
   "metadata": {},
   "outputs": [
    {
     "name": "stdout",
     "output_type": "stream",
     "text": [
      "348 ms ± 4.17 ms per loop (mean ± std. dev. of 7 runs, 1 loop each)\n"
     ]
    }
   ],
   "source": [
    "func_orig = build_functions(mod.GM, mod.variables, wrt=None,\n",
    "                            include_obj=True, include_grad=False, include_hess=False,\n",
    "                            parameters=None)\n",
    "func_orig.func.compile()\n",
    "%timeit out_orig = func_orig.func.kernel(inp, np.array([0.]))"
   ]
  },
  {
   "cell_type": "code",
   "execution_count": 9,
   "metadata": {},
   "outputs": [],
   "source": [
    "out_orig = func_orig.func.kernel(inp, np.array([0.]))\n",
    "np.testing.assert_allclose(out[:,0], out_orig)"
   ]
  },
  {
   "cell_type": "code",
   "execution_count": null,
   "metadata": {},
   "outputs": [],
   "source": []
  }
 ],
 "metadata": {
  "kernelspec": {
   "display_name": "Python 3",
   "language": "python",
   "name": "python3"
  },
  "language_info": {
   "codemirror_mode": {
    "name": "ipython",
    "version": 3
   },
   "file_extension": ".py",
   "mimetype": "text/x-python",
   "name": "python",
   "nbconvert_exporter": "python",
   "pygments_lexer": "ipython3",
   "version": "3.7.0"
  }
 },
 "nbformat": 4,
 "nbformat_minor": 2
}
