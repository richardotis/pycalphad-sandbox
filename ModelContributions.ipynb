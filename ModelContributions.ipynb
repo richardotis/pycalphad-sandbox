{
 "cells": [
  {
   "cell_type": "code",
   "execution_count": 1,
   "metadata": {},
   "outputs": [
    {
     "name": "stdout",
     "output_type": "stream",
     "text": [
      "[('ref', 'reference_energy'), ('idmix', 'ideal_mixing_energy'), ('xsmix', 'excess_mixing_energy'), ('mag', 'magnetic_energy'), ('2st', 'twostate_energy'), ('ein', 'einstein_energy'), ('ord', 'atomic_ordering_energy')]\n"
     ]
    }
   ],
   "source": [
    "from pycalphad import Database, Model, calculate, variables as v\n",
    "\n",
    "# Calculation Settings\n",
    "dbf = Database('alfe_sei.TDB')\n",
    "comps = ['AL', 'FE', 'VA']\n",
    "phase_name = 'B2_BCC'\n",
    "output = 'SM'\n",
    "endmember = [[0.3, 0.7, 0.6, 0.4, 1.0]]\n",
    "temp_range = [300, 1600]\n",
    "\n",
    "mod = Model(dbf, comps, phase_name)\n",
    "print(mod.contributions)\n",
    "contributions = mod.models.copy()\n",
    "results = {}\n",
    "\n",
    "for contribution, value in contributions.items():\n",
    "    mod.models.clear()\n",
    "    mod.models[contribution] = value\n",
    "    result = calculate(dbf, comps, phase_name,\n",
    "                       model={phase_name: mod}, output=output, points=endmember, T=(temp_range[0], temp_range[1], 5), P=1e5)\n",
    "    if (getattr(result, output) == 0).all():\n",
    "        continue\n",
    "    results[contribution] = getattr(result, output)"
   ]
  },
  {
   "cell_type": "code",
   "execution_count": 2,
   "metadata": {},
   "outputs": [
    {
     "data": {
      "text/plain": [
       "<matplotlib.legend.Legend at 0x15666515400>"
      ]
     },
     "execution_count": 2,
     "metadata": {},
     "output_type": "execute_result"
    },
    {
     "data": {
      "image/png": "[encoded data removed]",
      "text/plain": [
       "<Figure size 432x288 with 1 Axes>"
      ]
     },
     "metadata": {
      "needs_background": "light"
     },
     "output_type": "display_data"
    }
   ],
   "source": [
    "%matplotlib inline\n",
    "import matplotlib.pyplot as plt\n",
    "\n",
    "labels = []\n",
    "values = []\n",
    "for contribution in results.keys():\n",
    "    labels.append(contribution)\n",
    "    values.append(results[contribution].values.flatten())\n",
    "\n",
    "plt.stackplot(results['ref']['T'], *values,\n",
    "              labels=labels, baseline='zero')\n",
    "plt.legend(loc='best')"
   ]
  },
  {
   "cell_type": "code",
   "execution_count": null,
   "metadata": {},
   "outputs": [],
   "source": []
  }
 ],
 "metadata": {
  "kernelspec": {
   "display_name": "Python 3",
   "language": "python",
   "name": "python3"
  },
  "language_info": {
   "codemirror_mode": {
    "name": "ipython",
    "version": 3
   },
   "file_extension": ".py",
   "mimetype": "text/x-python",
   "name": "python",
   "nbconvert_exporter": "python",
   "pygments_lexer": "ipython3",
   "version": "3.6.6"
  }
 },
 "nbformat": 4,
 "nbformat_minor": 2
}
