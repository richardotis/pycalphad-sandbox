{
 "cells": [
  {
   "cell_type": "code",
   "execution_count": 1,
   "metadata": {},
   "outputs": [],
   "source": [
    "from pycalphad import Database, Model, variables as v"
   ]
  },
  {
   "cell_type": "code",
   "execution_count": 2,
   "metadata": {
    "scrolled": true
   },
   "outputs": [
    {
     "name": "stdout",
     "output_type": "stream",
     "text": [
      "Components: A B\n",
      "Phases: build_callables [N, P, T]\n",
      "TEST \n",
      "[done]\n",
      "build_callables [N, P, T]\n",
      "('Redundant phase:', CompositionSet(TEST, [ 0.44444444  0.55555556], NP=1.0, GM=-5711.742028618652))\n",
      "Removing CompositionSet(TEST, [ 0.44444444  0.55555556], NP=nan, GM=-5711.742028618652)\n",
      "('cur_conds', OrderedDict([('MU_B', array(-1855.3270574019966)), ('N', array(1.0)), ('P', array(101325.0)), ('T', array(1000.0))]))\n",
      "('fixed_statevars', [('N', array(1.0)), ('P', array(101325.0)), ('T', array(1000.0))])\n",
      "(array([1], dtype=int32), array([-1855.3270574]))\n",
      "('prob.x0', array([  1.00000000e+00,   1.01325000e+05,   1.00000000e+03,\n",
      "         5.55555556e-01,   4.44444444e-01,   2.00000000e+00]))\n",
      "('x_in', array([  1.00000000e+00,   1.01325000e+05,   1.00000000e+03,\n",
      "         5.55555556e-01,   4.44444444e-01,   2.00000000e+00]))\n",
      "('total_obj', -9774.304450657339)\n",
      "('x_in', array([  1.00000000e+00,   1.01325000e+05,   1.00000000e+03,\n",
      "         5.55554566e-03,   9.94444454e-01,   3.45554363e+00]))\n",
      "('total_obj', 5387.488596023869)\n",
      "('x_in', array([  1.00000000e+00,   1.01325000e+05,   1.00000000e+03,\n",
      "         1.61196205e-01,   8.38803795e-01,   2.24842833e+00]))\n",
      "('total_obj', -4757.287926238274)\n",
      "('x_in', array([  1.00000000e+00,   1.01325000e+05,   1.00000000e+03,\n",
      "         1.94477973e-01,   8.05522027e-01,   2.56140102e+00]))\n",
      "('total_obj', -6663.849811864088)\n",
      "('x_in', array([  1.00000000e+00,   1.01325000e+05,   1.00000000e+03,\n",
      "         2.35320386e-01,   7.64679614e-01,   2.26980025e+00]))\n",
      "('total_obj', -7076.948277462873)\n",
      "('x_in', array([  1.00000000e+00,   1.01325000e+05,   1.00000000e+03,\n",
      "         2.87516022e-01,   7.12483978e-01,   2.02500586e+00]))\n",
      "('total_obj', -7423.837883163736)\n",
      "('x_in', array([  1.00000000e+00,   1.01325000e+05,   1.00000000e+03,\n",
      "         3.20952850e-01,   6.79047150e-01,   1.91232736e+00]))\n",
      "('total_obj', -7569.3855397354355)\n",
      "('x_in', array([  1.00000000e+00,   1.01325000e+05,   1.00000000e+03,\n",
      "         3.31973257e-01,   6.68026743e-01,   1.87910552e+00]))\n",
      "('total_obj', -7601.011837534587)\n",
      "('x_in', array([  1.00000000e+00,   1.01325000e+05,   1.00000000e+03,\n",
      "         3.33651321e-01,   6.66348679e-01,   1.87386627e+00]))\n",
      "('total_obj', -7603.83645556599)\n",
      "('x_in', array([  1.00000000e+00,   1.01325000e+05,   1.00000000e+03,\n",
      "         3.33723066e-01,   6.66276934e-01,   1.87363082e+00]))\n",
      "('total_obj', -7603.903361867974)\n",
      "('x_in', array([  1.00000000e+00,   1.01325000e+05,   1.00000000e+03,\n",
      "         3.33723550e-01,   6.66276450e-01,   1.87362915e+00]))\n",
      "('total_obj', -7603.903490318836)\n",
      "Trying to improve poor solution\n",
      "('x_in', array([  1.00000000e+00,   1.01325000e+05,   1.00000000e+03,\n",
      "         3.33723550e-01,   6.66276450e-01,   1.87362915e+00]))\n",
      "('total_obj', -7603.903490318836)\n",
      "('x_in', array([  1.00000000e+00,   1.01325000e+05,   1.00000000e+03,\n",
      "         3.33470743e-01,   6.66529257e-01,   1.87451662e+00]))\n",
      "('total_obj', -7603.899544114532)\n",
      "('x_in', array([  1.00000000e+00,   1.01325000e+05,   1.00000000e+03,\n",
      "         3.33470832e-01,   6.66529168e-01,   1.87451673e+00]))\n",
      "('total_obj', -7603.9012521244185)\n",
      "('x_in', array([  1.00000000e+00,   1.01325000e+05,   1.00000000e+03,\n",
      "         3.33470832e-01,   6.66529168e-01,   1.87451673e+00]))\n",
      "('total_obj', -7603.901251681052)\n",
      "('x_in', array([  1.00000000e+00,   1.01325000e+05,   1.00000000e+03,\n",
      "         3.33470832e-01,   6.66529168e-01,   1.87451673e+00]))\n",
      "('total_obj', -7603.90125170496)\n",
      "('x_in', array([  1.00000000e+00,   1.01325000e+05,   1.00000000e+03,\n",
      "         3.33597147e-01,   6.66402853e-01,   1.87407288e+00]))\n",
      "('total_obj', -7603.902503935565)\n",
      "('x_in', array([  1.00000000e+00,   1.01325000e+05,   1.00000000e+03,\n",
      "         3.33660348e-01,   6.66339652e-01,   1.87385102e+00]))\n",
      "('total_obj', -7603.903243743957)\n",
      "('x_in', array([  1.00000000e+00,   1.01325000e+05,   1.00000000e+03,\n",
      "         3.33691949e-01,   6.66308051e-01,   1.87374008e+00]))\n",
      "('total_obj', -7603.903428677715)\n",
      "('x_in', array([  1.00000000e+00,   1.01325000e+05,   1.00000000e+03,\n",
      "         3.33707750e-01,   6.66292250e-01,   1.87368461e+00]))\n",
      "('total_obj', -7603.903474908871)\n",
      "('x_in', array([  1.00000000e+00,   1.01325000e+05,   1.00000000e+03,\n",
      "         3.33715650e-01,   6.66284350e-01,   1.87365688e+00]))\n",
      "('total_obj', -7603.90348646638)\n",
      "('x_in', array([  1.00000000e+00,   1.01325000e+05,   1.00000000e+03,\n",
      "         3.33719600e-01,   6.66280400e-01,   1.87364301e+00]))\n",
      "('total_obj', -7603.903489355724)\n",
      "('x_in', array([  1.00000000e+00,   1.01325000e+05,   1.00000000e+03,\n",
      "         3.33721575e-01,   6.66278425e-01,   1.87363608e+00]))\n",
      "('total_obj', -7603.903490078054)\n",
      "('x_in', array([  1.00000000e+00,   1.01325000e+05,   1.00000000e+03,\n",
      "         3.33722562e-01,   6.66277438e-01,   1.87363261e+00]))\n",
      "('total_obj', -7603.903490258641)\n",
      "('x_in', array([  1.00000000e+00,   1.01325000e+05,   1.00000000e+03,\n",
      "         3.33723056e-01,   6.66276944e-01,   1.87363088e+00]))\n",
      "('total_obj', -7603.903490303781)\n",
      "('x_in', array([  1.00000000e+00,   1.01325000e+05,   1.00000000e+03,\n",
      "         3.33723303e-01,   6.66276697e-01,   1.87363001e+00]))\n",
      "('total_obj', -7603.903490315074)\n",
      "('x_in', array([  1.00000000e+00,   1.01325000e+05,   1.00000000e+03,\n",
      "         3.33723427e-01,   6.66276573e-01,   1.87362958e+00]))\n",
      "('total_obj', -7603.9034903178945)\n",
      "('x_in', array([  1.00000000e+00,   1.01325000e+05,   1.00000000e+03,\n",
      "         3.33723488e-01,   6.66276512e-01,   1.87362936e+00]))\n",
      "('total_obj', -7603.903490318597)\n",
      "('x_in', array([  1.00000000e+00,   1.01325000e+05,   1.00000000e+03,\n",
      "         3.32987407e-01,   6.67012593e-01,   1.87621337e+00]))\n",
      "('total_obj', -7603.870010907504)\n",
      "('x_in', array([  1.00000000e+00,   1.01325000e+05,   1.00000000e+03,\n",
      "         3.33570163e-01,   6.66429837e-01,   1.87416553e+00]))\n",
      "('total_obj', -7603.893591421142)\n",
      "('x_in', array([  1.00000000e+00,   1.01325000e+05,   1.00000000e+03,\n",
      "         3.33693521e-01,   6.66306479e-01,   1.87373447e+00]))\n",
      "('total_obj', -7603.903054399684)\n",
      "('x_in', array([  1.00000000e+00,   1.01325000e+05,   1.00000000e+03,\n",
      "         3.33717638e-01,   6.66282362e-01,   1.87364990e+00]))\n",
      "('total_obj', -7603.903473591049)\n",
      "('x_in', array([  1.00000000e+00,   1.01325000e+05,   1.00000000e+03,\n",
      "         3.33722372e-01,   6.66277628e-01,   1.87363328e+00]))\n",
      "('total_obj', -7603.903489678241)\n",
      "('x_in', array([  1.00000000e+00,   1.01325000e+05,   1.00000000e+03,\n",
      "         3.33723315e-01,   6.66276685e-01,   1.87362997e+00]))\n",
      "('total_obj', -7603.903490299287)\n",
      "('x_in', array([  1.00000000e+00,   1.01325000e+05,   1.00000000e+03,\n",
      "         3.33723503e-01,   6.66276497e-01,   1.87362931e+00]))\n",
      "('total_obj', -7603.903490323945)\n",
      "('x_in', array([  1.00000000e+00,   1.01325000e+05,   1.00000000e+03,\n",
      "         3.33723546e-01,   6.66276454e-01,   1.87362916e+00]))\n",
      "('total_obj', -7603.903490324923)\n",
      "('x_in', array([  1.00000000e+00,   1.01325000e+05,   1.00000000e+03,\n",
      "         3.33723550e-01,   6.66276450e-01,   1.87362915e+00]))\n",
      "('total_obj', -7603.903490324975)\n",
      "('x_in', array([  1.00000000e+00,   1.01325000e+05,   1.00000000e+03,\n",
      "         3.33723550e-01,   6.66276450e-01,   1.87362915e+00]))\n",
      "('total_obj', -7603.903490324972)\n",
      "('x_in', array([  1.00000000e+00,   1.01325000e+05,   1.00000000e+03,\n",
      "         3.33723550e-01,   6.66276450e-01,   1.87362915e+00]))\n",
      "('total_obj', -7603.903490324973)\n",
      "('x_in', array([  1.00000000e+00,   1.01325000e+05,   1.00000000e+03,\n",
      "         3.33723550e-01,   6.66276450e-01,   1.87362915e+00]))\n",
      "('total_obj', -7603.903490324971)\n",
      "Chemical Potentials [-9124.68418839 -3376.10775547]\n",
      "[  9.09090909e-14   8.97202970e-19   9.92001025e+00  -1.55782895e+04\n",
      "   7.60390349e+03]\n",
      "[  1.00000000e+00   1.01325000e+05   1.00000000e+03   3.33723550e-01\n",
      "   6.66276450e-01   1.87362915e+00]\n",
      "Status: 0 b'Algorithm terminated successfully at a locally optimal point, satisfying the convergence tolerances (can be specified by options).'\n",
      "('Composition Sets', [CompositionSet(TEST, [ 0.33372355  0.66627645], NP=1.8736291462477224, GM=-5294.543092198396)])\n"
     ]
    }
   ],
   "source": [
    "from pycalphad import equilibrium\n",
    "import numpy as np\n",
    "\n",
    "TDB = \"\"\"\n",
    " ELEMENT A    GRAPHITE                   12.011     1054.0      5.7423 !\n",
    " ELEMENT B   BCC_A2                     55.847     4489.0     27.2797 !\n",
    " TYPE_DEFINITION % SEQ * !\n",
    " PHASE TEST % 1 1 !\n",
    " CONSTITUENT TEST : A,B: !\n",
    "\"\"\"\n",
    "\n",
    "my_phases_rose = ['TEST']\n",
    "comps = ['A', 'B']#, 'LI', 'BE', 'B', 'C', 'N', 'O', 'F']\n",
    "comps = sorted(comps)\n",
    "conds = dict({v.T: 1000, v.P: 101325, v.N: 1})\n",
    "#for comp in comps[1:]:\n",
    "#    conds[v.X(comp)] = 1.0/float(len(comps))\n",
    "conds[v.MU('B')] = -1855.3270574019966\n",
    "#conds[v.X('A')] = 0.2\n",
    "dbf = Database(TDB)\n",
    "eqx = equilibrium(Database(TDB), comps, my_phases_rose, conds, calc_opts={'pdens': 10}, verbose=True)"
   ]
  },
  {
   "cell_type": "code",
   "execution_count": 3,
   "metadata": {},
   "outputs": [
    {
     "data": {
      "text/plain": [
       "<xarray.DataArray 'MU' (N: 1, P: 1, T: 1, MU_B: 1, component: 2)>\n",
       "array([[[[[-9124.684188, -3376.107755]]]]])\n",
       "Coordinates:\n",
       "  * MU_B       (MU_B) float64 -1.855e+03\n",
       "  * N          (N) float64 1.0\n",
       "  * P          (P) float64 1.013e+05\n",
       "  * T          (T) float64 1e+03\n",
       "  * component  (component) <U1 'A' 'B'"
      ]
     },
     "execution_count": 3,
     "metadata": {},
     "output_type": "execute_result"
    }
   ],
   "source": [
    "eqx.MU"
   ]
  },
  {
   "cell_type": "code",
   "execution_count": 4,
   "metadata": {},
   "outputs": [
    {
     "data": {
      "text/plain": [
       "<xarray.DataArray 'X' (N: 1, P: 1, T: 1, MU_B: 1, vertex: 3, component: 2)>\n",
       "array([[[[[[ 0.333724,  0.666276],\n",
       "           [      nan,       nan],\n",
       "           [      nan,       nan]]]]]])\n",
       "Coordinates:\n",
       "  * MU_B       (MU_B) float64 -1.855e+03\n",
       "  * N          (N) float64 1.0\n",
       "  * P          (P) float64 1.013e+05\n",
       "  * T          (T) float64 1e+03\n",
       "  * vertex     (vertex) int64 0 1 2\n",
       "  * component  (component) <U1 'A' 'B'"
      ]
     },
     "execution_count": 4,
     "metadata": {},
     "output_type": "execute_result"
    }
   ],
   "source": [
    "eqx.X"
   ]
  },
  {
   "cell_type": "code",
   "execution_count": 5,
   "metadata": {},
   "outputs": [
    {
     "data": {
      "text/plain": [
       "<xarray.DataArray 'Y' (N: 1, P: 1, T: 1, MU_B: 1, vertex: 3, internal_dof: 2)>\n",
       "array([[[[[[ 0.333724,  0.666276],\n",
       "           [      nan,       nan],\n",
       "           [      nan,       nan]]]]]])\n",
       "Coordinates:\n",
       "  * MU_B     (MU_B) float64 -1.855e+03\n",
       "  * N        (N) float64 1.0\n",
       "  * P        (P) float64 1.013e+05\n",
       "  * T        (T) float64 1e+03\n",
       "  * vertex   (vertex) int64 0 1 2\n",
       "Dimensions without coordinates: internal_dof"
      ]
     },
     "execution_count": 5,
     "metadata": {},
     "output_type": "execute_result"
    }
   ],
   "source": [
    "eqx.Y"
   ]
  },
  {
   "cell_type": "code",
   "execution_count": 8,
   "metadata": {},
   "outputs": [
    {
     "name": "stdout",
     "output_type": "stream",
     "text": [
      "0.499749874938\n"
     ]
    },
    {
     "data": {
      "text/plain": [
       "[<matplotlib.lines.Line2D at 0x7f99ffcf66a0>]"
      ]
     },
     "execution_count": 8,
     "metadata": {},
     "output_type": "execute_result"
    },
    {
     "data": {
      "image/png": "[encoded data removed]",
      "text/plain": [
       "<matplotlib.figure.Figure at 0x7f99ffcf6080>"
      ]
     },
     "metadata": {},
     "output_type": "display_data"
    }
   ],
   "source": [
    "%matplotlib inline\n",
    "import matplotlib.pyplot as plt\n",
    "import numpy as np\n",
    "\n",
    "x = np.linspace(1e-9,1-1e-9,2000)\n",
    "y = 1-x\n",
    "gm = 8314.5*(np.log(x)*x + (y)*np.log(y))\n",
    "ac = 0.8\n",
    "mu = 8314.5*np.log(0.8)\n",
    "\n",
    "trans_func = gm - mu*y*(x+y-1)\n",
    "print(x[np.argmin(trans_func)])\n",
    "plt.plot(x,gm, label='GM')\n",
    "plt.plot(x, trans_func, label='L')"
   ]
  },
  {
   "cell_type": "code",
   "execution_count": 7,
   "metadata": {},
   "outputs": [
    {
     "data": {
      "text/plain": [
       "[<matplotlib.lines.Line2D at 0x7f9a00e0e748>]"
      ]
     },
     "execution_count": 7,
     "metadata": {},
     "output_type": "execute_result"
    },
    {
     "data": {
      "image/png": "[encoded data removed]",
      "text/plain": [
       "<matplotlib.figure.Figure at 0x7f9a00df5be0>"
      ]
     },
     "metadata": {},
     "output_type": "display_data"
    }
   ],
   "source": [
    "plt.plot(x,np.gradient(gm,x))\n",
    "plt.plot(x,8314.5*np.log(x-x+0.2))"
   ]
  },
  {
   "cell_type": "code",
   "execution_count": null,
   "metadata": {},
   "outputs": [],
   "source": []
  }
 ],
 "metadata": {
  "kernelspec": {
   "display_name": "Python 3",
   "language": "python",
   "name": "python3"
  },
  "language_info": {
   "codemirror_mode": {
    "name": "ipython",
    "version": 3
   },
   "file_extension": ".py",
   "mimetype": "text/x-python",
   "name": "python",
   "nbconvert_exporter": "python",
   "pygments_lexer": "ipython3",
   "version": "3.5.2"
  }
 },
 "nbformat": 4,
 "nbformat_minor": 2
}
