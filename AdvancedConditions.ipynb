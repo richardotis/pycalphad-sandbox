{
 "cells": [
  {
   "cell_type": "code",
   "execution_count": 1,
   "metadata": {},
   "outputs": [],
   "source": [
    "from pycalphad import Database, Model, variables as v\n",
    "from pycalphad import equilibrium\n",
    "import numpy as np"
   ]
  },
  {
   "cell_type": "code",
   "execution_count": 2,
   "metadata": {
    "scrolled": true
   },
   "outputs": [],
   "source": [
    "from pycalphad.tests.datasets import *\n",
    "dbf = Database(ROSE_TDB)"
   ]
  },
  {
   "cell_type": "code",
   "execution_count": 3,
   "metadata": {},
   "outputs": [
    {
     "name": "stdout",
     "output_type": "stream",
     "text": [
      "Components: H HE LI\n",
      "Phases: build_callables [N, P, T]\n",
      "TEST \n",
      "[done]\n",
      "build_callables [N, P, T]\n",
      "('included_composition_indices', array([ 2, -1], dtype=int32))\n",
      "('best_guess_simplex', array([1, 2], dtype=int32))\n",
      "('trial_simplices', array([[1, 2],\n",
      "       [1, 2]], dtype=int32))\n",
      "('f_contig_trial', array([[ 0.,  1.],\n",
      "       [ 1.,  1.]]))\n",
      "('rhs', array([ 0.3,  1. ]))\n",
      "('fractions', array([ 0.7,  0.3]))\n",
      "('f_contig_trial', array([[ 0.,  1.],\n",
      "       [ 1.,  1.]]))\n",
      "('rhs', array([ 0.3,  1. ]))\n",
      "('fractions', array([ 0.7,  0.3]))\n",
      "('smallest_fractions', array([ 0.3,  0.3]))\n",
      "('candidate_tieline', array([[ 1.,  0.],\n",
      "       [ 0.,  1.]]))\n",
      "('rhs', array([  1.00000000e+10,   1.00000000e+10]))\n",
      "('candidate_potentials', array([  1.00000000e+10,   1.00000000e+10]))\n",
      "('min_df', array(30))\n",
      "('min_df_value', array(-10000007271.047592))\n",
      "('f_contig_trial', array([[ 0.55555556,  1.        ],\n",
      "       [ 1.        ,  1.        ]]))\n",
      "('rhs', array([ 0.3,  1. ]))\n",
      "('fractions', array([ 1.575, -0.575]))\n",
      "('f_contig_trial', array([[ 0.        ,  0.55555556],\n",
      "       [ 1.        ,  1.        ]]))\n",
      "('rhs', array([ 0.3,  1. ]))\n",
      "('fractions', array([ 0.46,  0.54]))\n",
      "('smallest_fractions', array([-1.575, -0.54 ]))\n",
      "('candidate_tieline', array([[ 1.        ,  0.        ],\n",
      "       [ 0.44444444,  0.55555556]]))\n",
      "('rhs', array([  1.00000000e+10,  -7.27104760e+03]))\n",
      "('candidate_potentials', array([  1.00000000e+10,  -8.00001309e+09]))\n",
      "('min_df', array(4))\n",
      "('min_df_value', array(-9999999999.999973))\n",
      "('f_contig_trial', array([[  1.00000000e-15,   5.55555556e-01],\n",
      "       [  1.00000000e+00,   1.00000000e+00]]))\n",
      "('rhs', array([ 0.3,  1. ]))\n",
      "('fractions', array([ 0.46,  0.54]))\n",
      "('f_contig_trial', array([[  0.00000000e+00,   1.00000000e-15],\n",
      "       [  1.00000000e+00,   1.00000000e+00]]))\n",
      "('rhs', array([ 0.3,  1. ]))\n",
      "('fractions', array([ -3.00000000e+14,   3.00000000e+14]))\n",
      "('smallest_fractions', array([  4.60000000e-01,  -3.00000000e+14]))\n",
      "('candidate_tieline', array([[  1.00000000e+00,   1.00000000e-15],\n",
      "       [  4.44444444e-01,   5.55555556e-01]]))\n",
      "('rhs', array([ -7.47258030e-10,  -7.27104760e+03]))\n",
      "('candidate_potentials', array([ -7.34170145e-10,  -1.30878857e+04]))\n",
      "('min_df', array(9))\n",
      "('min_df_value', array(-4275.244200561462))\n",
      "('f_contig_trial', array([[  1.00000000e-15,   5.55555556e-01],\n",
      "       [  1.00000000e+00,   1.00000000e+00]]))\n",
      "('rhs', array([ 0.3,  1. ]))\n",
      "('fractions', array([ 0.46,  0.54]))\n",
      "('f_contig_trial', array([[  1.00000000e-15,   1.00000000e-15],\n",
      "       [  1.00000000e+00,   1.00000000e+00]]))\n",
      "('rhs', array([ 0.3,  1. ]))\n",
      "('fractions', array([ -1.00000000e+19,  -1.00000000e+19]))\n",
      "('smallest_fractions', array([  4.60000000e-01,  -1.00000000e+19]))\n",
      "('candidate_tieline', array([[  6.66666667e-01,   1.00000000e-15],\n",
      "       [  4.44444444e-01,   5.55555556e-01]]))\n",
      "('rhs', array([-4275.24420056, -7271.04760243]))\n",
      "('candidate_potentials', array([-6412.86630084, -7957.5926437 ]))\n",
      "('min_df', array(10))\n",
      "('min_df_value', array(-425.87750596329965))\n",
      "('f_contig_trial', array([[  1.00000000e-15,   5.55555556e-01],\n",
      "       [  1.00000000e+00,   1.00000000e+00]]))\n",
      "('rhs', array([ 0.3,  1. ]))\n",
      "('fractions', array([ 0.46,  0.54]))\n",
      "('f_contig_trial', array([[  1.00000000e-15,   1.00000000e-15],\n",
      "       [  1.00000000e+00,   1.00000000e+00]]))\n",
      "('rhs', array([ 0.3,  1. ]))\n",
      "('fractions', array([ -1.00000000e+19,  -1.00000000e+19]))\n",
      "('smallest_fractions', array([  4.60000000e-01,  -1.00000000e+19]))\n",
      "('candidate_tieline', array([[  5.55555556e-01,   1.00000000e-15],\n",
      "       [  4.44444444e-01,   5.55555556e-01]]))\n",
      "('rhs', array([-3988.58100643, -7271.04760243]))\n",
      "('candidate_potentials', array([-7179.44581158, -7344.32903512]))\n",
      "('min_df', array(31))\n",
      "('min_df_value', array(-18.320358170944473))\n",
      "('f_contig_trial', array([[ 0.44444444,  0.55555556],\n",
      "       [ 1.        ,  1.        ]]))\n",
      "('rhs', array([ 0.3,  1. ]))\n",
      "('fractions', array([ 2.3, -1.3]))\n",
      "('f_contig_trial', array([[  1.00000000e-15,   4.44444444e-01],\n",
      "       [  1.00000000e+00,   1.00000000e+00]]))\n",
      "('rhs', array([ 0.3,  1. ]))\n",
      "('fractions', array([ 0.325,  0.675]))\n",
      "('smallest_fractions', array([-1.3  ,  0.325]))\n",
      "('candidate_tieline', array([[  5.55555556e-01,   1.00000000e-15],\n",
      "       [  5.55555556e-01,   4.44444444e-01]]))\n",
      "('rhs', array([-3988.58100643, -7271.04760243]))\n",
      "('candidate_potentials', array([-7179.44581158, -7385.549841  ]))\n",
      "('min_df', array(10))\n",
      "('min_df_value', array(5.643395777030236e-13))\n",
      "('Redundant phase:', CompositionSet(TEST, [  1.00000000e-15   5.55555556e-01   4.44444444e-01], NP=0.6749999999999997, GM=-7271.047602431603))\n",
      "Removing CompositionSet(TEST, [  1.00000000e-15   5.55555556e-01   4.44444444e-01], NP=nan, GM=-7271.047602431603)\n",
      "Trying to improve poor solution\n",
      "Chemical Potentials [ -7385.54984098  -4188.6475501  -12142.35649515]\n",
      "[ 0.  0.  0.  0.  0.  0.  0.]\n",
      "[  1.00000000e+00   1.00000000e+05   1.27300000e+03   1.09005177e-02\n",
      "   6.89099482e-01   3.00000000e-01   1.00000000e+00]\n",
      "Status: 0 b'Algorithm terminated successfully at a locally optimal point, satisfying the convergence tolerances (can be specified by options).'\n",
      "Adding CompositionSet(TEST, [  4.44444444e-01   5.55555556e-01   1.00000000e-15], NP=0.5, GM=-7271.047602431603) Driving force: 1661.5545897199527\n",
      "Trying to improve poor solution\n",
      "Chemical Potentials [-7385.54984144 -7385.53653288 -7385.53857956]\n",
      "[  5.00000000e-13   5.00000000e-18   3.92772977e-16   1.03304504e-10\n",
      "   1.00486359e-12   1.00486361e-12   1.00486363e-12   1.00486360e-12\n",
      "   1.03304235e-10   8.34701242e-13   1.24694100e-12]\n",
      "[  1.00000000e+00   1.00000000e+05   1.27300000e+03   4.84006000e-03\n",
      "   4.97579974e-01   4.97579966e-01   4.97579957e-01   4.97579971e-01\n",
      "   4.84007264e-03   5.99017720e-01   4.00982280e-01]\n",
      "Status: 0 b'Algorithm terminated successfully at a locally optimal point, satisfying the convergence tolerances (can be specified by options).'\n",
      "('Composition Sets', [CompositionSet(TEST, [ 0.00484006  0.49757997  0.49757997], NP=0.5990177196985614, GM=-7385.540390613181), CompositionSet(TEST, [ 0.49757996  0.49757997  0.00484007], NP=0.40098228030143857, GM=-7385.540390613311)])\n",
      "<xarray.Dataset>\n",
      "Dimensions:    (MU_H: 1, N: 1, P: 1, T: 1, X_LI: 1, component: 3, internal_dof: 3, vertex: 4)\n",
      "Coordinates:\n",
      "  * MU_H       (MU_H) float64 -7.386e+03\n",
      "  * N          (N) float64 1.0\n",
      "  * P          (P) float64 1e+05\n",
      "  * T          (T) float64 1.273e+03\n",
      "  * X_LI       (X_LI) float64 0.3\n",
      "  * vertex     (vertex) int64 0 1 2 3\n",
      "  * component  (component) <U2 'H' 'HE' 'LI'\n",
      "Dimensions without coordinates: internal_dof\n",
      "Data variables:\n",
      "    Y          (N, P, T, MU_H, X_LI, vertex, internal_dof) float64 0.00484 ...\n",
      "    Phase      (N, P, T, MU_H, X_LI, vertex) <U6 'TEST' 'TEST' '' ''\n",
      "    GM         (N, P, T, MU_H, X_LI) float64 -7.386e+03\n",
      "    MU         (N, P, T, MU_H, X_LI, component) float64 -7.386e+03 ...\n",
      "    NP         (N, P, T, MU_H, X_LI, vertex) float64 0.599 0.401 nan nan\n",
      "    X          (N, P, T, MU_H, X_LI, vertex, component) float64 0.00484 ...\n",
      "Attributes:\n",
      "    engine:   pycalphad 0.7.1.post2+87.gfb8869c.dirty\n",
      "    created:  2019-02-21T23:34:57.294092\n"
     ]
    }
   ],
   "source": [
    "eq2 = equilibrium(dbf, ['H', 'HE', 'LI'], ['TEST'],\n",
    "                 {v.X('LI'): 0.3, v.MU('H'): -7385.549841,\n",
    "                  v.T: 1273, v.P: 1e5}, verbose=True, calc_opts={'pdens': 10})\n",
    "print(eq2)"
   ]
  },
  {
   "cell_type": "code",
   "execution_count": 4,
   "metadata": {},
   "outputs": [
    {
     "data": {
      "text/plain": [
       "<xarray.DataArray 'MU' (N: 1, P: 1, T: 1, MU_H: 1, X_LI: 1, component: 3)>\n",
       "array([[[[[[-7385.549841, -7385.536533, -7385.53858 ]]]]]])\n",
       "Coordinates:\n",
       "  * MU_H       (MU_H) float64 -7.386e+03\n",
       "  * N          (N) float64 1.0\n",
       "  * P          (P) float64 1e+05\n",
       "  * T          (T) float64 1.273e+03\n",
       "  * X_LI       (X_LI) float64 0.3\n",
       "  * component  (component) <U2 'H' 'HE' 'LI'"
      ]
     },
     "execution_count": 4,
     "metadata": {},
     "output_type": "execute_result"
    }
   ],
   "source": [
    "eq2.MU"
   ]
  },
  {
   "cell_type": "code",
   "execution_count": 5,
   "metadata": {},
   "outputs": [
    {
     "ename": "ConditionError",
     "evalue": "There are no phases in the Database that can be active with components []",
     "output_type": "error",
     "traceback": [
      "\u001b[0;31m---------------------------------------------------------------------------\u001b[0m",
      "\u001b[0;31mConditionError\u001b[0m                            Traceback (most recent call last)",
      "\u001b[0;32m<ipython-input-5-ed5e3d0d8bdc>\u001b[0m in \u001b[0;36m<module>\u001b[0;34m()\u001b[0m\n\u001b[1;32m     14\u001b[0m \u001b[0;32mfor\u001b[0m \u001b[0mname\u001b[0m \u001b[0;32min\u001b[0m \u001b[0mmy_phases\u001b[0m\u001b[0;34m:\u001b[0m\u001b[0;34m\u001b[0m\u001b[0m\n\u001b[1;32m     15\u001b[0m     result = calculate(dbf, ['AL', 'NI', 'CR', 'VA'], name,\n\u001b[0;32m---> 16\u001b[0;31m                      T=1273, P=101325, pdens=500)\n\u001b[0m\u001b[1;32m     17\u001b[0m     \u001b[0mgm\u001b[0m \u001b[0;34m=\u001b[0m \u001b[0mresult\u001b[0m\u001b[0;34m.\u001b[0m\u001b[0mGM\u001b[0m\u001b[0;34m.\u001b[0m\u001b[0misel\u001b[0m\u001b[0;34m(\u001b[0m\u001b[0mT\u001b[0m\u001b[0;34m=\u001b[0m\u001b[0;36m0\u001b[0m\u001b[0;34m,\u001b[0m\u001b[0mP\u001b[0m\u001b[0;34m=\u001b[0m\u001b[0;36m0\u001b[0m\u001b[0;34m)\u001b[0m \u001b[0;34m-\u001b[0m \u001b[0mnp\u001b[0m\u001b[0;34m.\u001b[0m\u001b[0msum\u001b[0m\u001b[0;34m(\u001b[0m\u001b[0;34m[\u001b[0m\u001b[0;34m-\u001b[0m\u001b[0;36m140000\u001b[0m\u001b[0;34m,\u001b[0m \u001b[0;34m-\u001b[0m\u001b[0;36m47243.21708006\u001b[0m\u001b[0;34m,\u001b[0m \u001b[0;34m-\u001b[0m\u001b[0;36m90400.16978886\u001b[0m\u001b[0;34m]\u001b[0m \u001b[0;34m*\u001b[0m \u001b[0mresult\u001b[0m\u001b[0;34m.\u001b[0m\u001b[0mX\u001b[0m\u001b[0;34m.\u001b[0m\u001b[0misel\u001b[0m\u001b[0;34m(\u001b[0m\u001b[0mT\u001b[0m\u001b[0;34m=\u001b[0m\u001b[0;36m0\u001b[0m\u001b[0;34m,\u001b[0m\u001b[0mP\u001b[0m\u001b[0;34m=\u001b[0m\u001b[0;36m0\u001b[0m\u001b[0;34m)\u001b[0m\u001b[0;34m,\u001b[0m \u001b[0maxis\u001b[0m\u001b[0;34m=\u001b[0m\u001b[0;36m1\u001b[0m\u001b[0;34m)\u001b[0m\u001b[0;34m\u001b[0m\u001b[0m\n\u001b[1;32m     18\u001b[0m     ax.scatter(result.X.isel(T=0,P=0).sel(component='CR'), gm,\n",
      "\u001b[0;32m/home/rotis/git/pycalphad/pycalphad/core/calculate.py\u001b[0m in \u001b[0;36mcalculate\u001b[0;34m(dbf, comps, phases, mode, output, fake_points, broadcast, parameters, **kwargs)\u001b[0m\n\u001b[1;32m    322\u001b[0m     \u001b[0mactive_phases\u001b[0m \u001b[0;34m=\u001b[0m \u001b[0;34m{\u001b[0m\u001b[0mname\u001b[0m\u001b[0;34m:\u001b[0m \u001b[0mdbf\u001b[0m\u001b[0;34m.\u001b[0m\u001b[0mphases\u001b[0m\u001b[0;34m[\u001b[0m\u001b[0mname\u001b[0m\u001b[0;34m]\u001b[0m \u001b[0;32mfor\u001b[0m \u001b[0mname\u001b[0m \u001b[0;32min\u001b[0m \u001b[0mactive_phases\u001b[0m\u001b[0;34m}\u001b[0m\u001b[0;34m\u001b[0m\u001b[0m\n\u001b[1;32m    323\u001b[0m     \u001b[0;32mif\u001b[0m \u001b[0mlen\u001b[0m\u001b[0;34m(\u001b[0m\u001b[0mlist_of_possible_phases\u001b[0m\u001b[0;34m)\u001b[0m \u001b[0;34m==\u001b[0m \u001b[0;36m0\u001b[0m\u001b[0;34m:\u001b[0m\u001b[0;34m\u001b[0m\u001b[0m\n\u001b[0;32m--> 324\u001b[0;31m         \u001b[0;32mraise\u001b[0m \u001b[0mConditionError\u001b[0m\u001b[0;34m(\u001b[0m\u001b[0;34m'There are no phases in the Database that can be active with components {0}'\u001b[0m\u001b[0;34m.\u001b[0m\u001b[0mformat\u001b[0m\u001b[0;34m(\u001b[0m\u001b[0mcomps\u001b[0m\u001b[0;34m)\u001b[0m\u001b[0;34m)\u001b[0m\u001b[0;34m\u001b[0m\u001b[0m\n\u001b[0m\u001b[1;32m    325\u001b[0m     \u001b[0;32mif\u001b[0m \u001b[0mlen\u001b[0m\u001b[0;34m(\u001b[0m\u001b[0mactive_phases\u001b[0m\u001b[0;34m)\u001b[0m \u001b[0;34m==\u001b[0m \u001b[0;36m0\u001b[0m\u001b[0;34m:\u001b[0m\u001b[0;34m\u001b[0m\u001b[0m\n\u001b[1;32m    326\u001b[0m         raise ConditionError('None of the passed phases ({0}) are active. List of possible phases: {1}.'\n",
      "\u001b[0;31mConditionError\u001b[0m: There are no phases in the Database that can be active with components []"
     ]
    },
    {
     "data": {
      "image/png": "[encoded data removed]",
      "text/plain": [
       "<matplotlib.figure.Figure at 0x7ff9099e3a58>"
      ]
     },
     "metadata": {},
     "output_type": "display_data"
    }
   ],
   "source": [
    "%matplotlib inline\n",
    "from pycalphad import calculate, Database\n",
    "from pycalphad.plot.utils import phase_legend\n",
    "import numpy as np\n",
    "from pycalphad.tests.datasets import ISSUE43_TDB\n",
    "import matplotlib.pyplot as plt\n",
    "\n",
    "my_phases =  ['FCC_A1', 'GAMMA_PRIME']\n",
    "\n",
    "legend_handles, colorlist = phase_legend(my_phases)\n",
    "\n",
    "fig = plt.figure(figsize=(9,6))\n",
    "ax = fig.gca()\n",
    "for name in my_phases:\n",
    "    result = calculate(dbf, ['AL', 'NI', 'CR', 'VA'], name,\n",
    "                     T=1273, P=101325, pdens=500)\n",
    "    gm = result.GM.isel(T=0,P=0) - np.sum([-140000, -47243.21708006, -90400.16978886] * result.X.isel(T=0,P=0), axis=1)\n",
    "    ax.scatter(result.X.isel(T=0,P=0).sel(component='CR'), gm,\n",
    "               marker='.', s=5, color=colorlist[name.upper()])\n",
    "#ax.set_xlim((0.6, 1))\n",
    "ax.set_ylim((-500, 1000))\n",
    "#plt.plot([0,1], [0, 0])\n",
    "ax.legend(handles=legend_handles, loc='center left', bbox_to_anchor=(1, 0.6))\n",
    "plt.show()"
   ]
  },
  {
   "cell_type": "code",
   "execution_count": null,
   "metadata": {},
   "outputs": [],
   "source": []
  }
 ],
 "metadata": {
  "kernelspec": {
   "display_name": "Python 3",
   "language": "python",
   "name": "python3"
  },
  "language_info": {
   "codemirror_mode": {
    "name": "ipython",
    "version": 3
   },
   "file_extension": ".py",
   "mimetype": "text/x-python",
   "name": "python",
   "nbconvert_exporter": "python",
   "pygments_lexer": "ipython3",
   "version": "3.5.2"
  }
 },
 "nbformat": 4,
 "nbformat_minor": 2
}
