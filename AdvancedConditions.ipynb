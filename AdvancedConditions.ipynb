{
 "cells": [
  {
   "cell_type": "code",
   "execution_count": 1,
   "metadata": {},
   "outputs": [],
   "source": [
    "from pycalphad import Database, Model, variables as v"
   ]
  },
  {
   "cell_type": "code",
   "execution_count": 2,
   "metadata": {
    "scrolled": true
   },
   "outputs": [
    {
     "name": "stdout",
     "output_type": "stream",
     "text": [
      "Components: A B\n",
      "Phases: build_callables [N, P, T]\n",
      "TEST \n",
      "[done]\n",
      "build_callables [N, P, T]\n",
      "('Redundant phase:', CompositionSet(TEST, [ 0.44444444  0.55555556], NP=1.0, GM=-5711.742028618652))\n",
      "Removing CompositionSet(TEST, [ 0.44444444  0.55555556], NP=nan, GM=-5711.742028618652)\n",
      "('cur_conds', OrderedDict([('MU_B', array(-1855.3270574019966)), ('N', array(1.0)), ('P', array(101325.0)), ('T', array(1000.0))]))\n",
      "('fixed_statevars', [('N', array(1.0)), ('P', array(101325.0)), ('T', array(1000.0))])\n",
      "(array([], dtype=int32), array([], dtype=float64))\n",
      "('prob.x0', array([  1.00000000e+00,   1.01325000e+05,   1.00000000e+03,\n",
      "         5.55555556e-01,   4.44444444e-01,   2.00000000e+00]))\n",
      "('x_in', array([  1.00000000e+00,   1.01325000e+05,   1.00000000e+03,\n",
      "         5.55555556e-01,   4.44444444e-01,   2.00000000e+00]))\n",
      "('total_obj', -11423.484057237303)\n",
      "('x_in', array([  1.00000000e+00,   1.01325000e+05,   1.00000000e+03,\n",
      "         5.55554566e-03,   9.94444454e-01,   1.99917516e+00]))\n",
      "('total_obj', -571.6321969244426)\n",
      "('x_in', array([  1.00000000e+00,   1.01325000e+05,   1.00000000e+03,\n",
      "         5.00743877e-01,   4.99256123e-01,   1.00000000e+00]))\n",
      "('total_obj', -5763.163031065162)\n",
      "('x_in', array([  1.00000000e+00,   1.01325000e+05,   1.00000000e+03,\n",
      "         5.00637680e-01,   4.99362320e-01,   1.00000000e+00]))\n",
      "('total_obj', -5763.16547081719)\n",
      "('x_in', array([  1.00000000e+00,   1.01325000e+05,   1.00000000e+03,\n",
      "         5.00002901e-01,   4.99997099e-01,   1.00000000e+00]))\n",
      "('total_obj', -5763.172232625696)\n",
      "('x_in', array([  1.00000000e+00,   1.01325000e+05,   1.00000000e+03,\n",
      "         5.00000000e-01,   5.00000000e-01,   1.00000000e+00]))\n",
      "('total_obj', -5763.172232765665)\n",
      "('x_in', array([  1.00000000e+00,   1.01325000e+05,   1.00000000e+03,\n",
      "         5.00000000e-01,   5.00000000e-01,   1.00000000e+00]))\n",
      "('total_obj', -5763.172232765665)\n",
      "Trying to improve poor solution\n",
      "('x_in', array([  1.00000000e+00,   1.01325000e+05,   1.00000000e+03,\n",
      "         5.00000000e-01,   5.00000000e-01,   1.00000000e+00]))\n",
      "('total_obj', -5763.172232765665)\n",
      "('x_in', array([  1.00000000e+00,   1.01325000e+05,   1.00000000e+03,\n",
      "         5.00000000e-01,   5.00000000e-01,   1.00000000e+00]))\n",
      "('total_obj', -5763.172232765665)\n",
      "('x_in', array([  1.00000000e+00,   1.01325000e+05,   1.00000000e+03,\n",
      "         5.00000000e-01,   5.00000000e-01,   1.00000000e+00]))\n",
      "('total_obj', -5763.172232765665)\n",
      "('x_in', array([  1.00000000e+00,   1.01325000e+05,   1.00000000e+03,\n",
      "         5.00000000e-01,   5.00000000e-01,   1.00000000e+00]))\n",
      "('total_obj', -5763.172232765665)\n",
      "('x_in', array([  1.00000000e+00,   1.01325000e+05,   1.00000000e+03,\n",
      "         5.00000000e-01,   5.00000000e-01,   1.00000000e+00]))\n",
      "('total_obj', -5763.172232765664)\n",
      "('x_in', array([  1.00000000e+00,   1.01325000e+05,   1.00000000e+03,\n",
      "         5.00000000e-01,   5.00000000e-01,   1.00000000e+00]))\n",
      "('total_obj', -5763.172232765665)\n",
      "('x_in', array([  1.00000000e+00,   1.01325000e+05,   1.00000000e+03,\n",
      "         5.00000000e-01,   5.00000000e-01,   1.00000000e+00]))\n",
      "('total_obj', -5763.172232765665)\n",
      "('x_in', array([  1.00000000e+00,   1.01325000e+05,   1.00000000e+03,\n",
      "         5.00000000e-01,   5.00000000e-01,   1.00000000e+00]))\n",
      "('total_obj', -5763.172232765665)\n",
      "('x_in', array([  1.00000000e+00,   1.01325000e+05,   1.00000000e+03,\n",
      "         5.00000000e-01,   5.00000000e-01,   1.00000000e+00]))\n",
      "('total_obj', -5763.172232765665)\n",
      "('x_in', array([  1.00000000e+00,   1.01325000e+05,   1.00000000e+03,\n",
      "         5.00000000e-01,   5.00000000e-01,   1.00000000e+00]))\n",
      "('total_obj', -5763.172232765665)\n",
      "('x_in', array([  1.00000000e+00,   1.01325000e+05,   1.00000000e+03,\n",
      "         5.00000000e-01,   5.00000000e-01,   1.00000000e+00]))\n",
      "('total_obj', -5763.172232765665)\n",
      "('x_in', array([  1.00000000e+00,   1.01325000e+05,   1.00000000e+03,\n",
      "         5.00000000e-01,   5.00000000e-01,   1.00000000e+00]))\n",
      "('total_obj', -5763.172232765665)\n",
      "('x_in', array([  1.00000000e+00,   1.01325000e+05,   1.00000000e+03,\n",
      "         5.00000000e-01,   5.00000000e-01,   1.00000000e+00]))\n",
      "('total_obj', -5763.172232765665)\n",
      "('x_in', array([  1.00000000e+00,   1.01325000e+05,   1.00000000e+03,\n",
      "         5.00000000e-01,   5.00000000e-01,   1.00000000e+00]))\n",
      "('total_obj', -5763.172232765665)\n",
      "Chemical Potentials [-5763.17223277 -5763.17223277]\n",
      "[  9.09090909e-14   8.97202970e-19   9.09090909e-17   1.81818182e-13\n",
      "   1.81818182e-13   9.09091818e-14]\n",
      "[  1.00000000e+00   1.01325000e+05   1.00000000e+03   5.00000000e-01\n",
      "   5.00000000e-01   1.00000000e+00]\n",
      "Status: 0 b'Algorithm terminated successfully at a locally optimal point, satisfying the convergence tolerances (can be specified by options).'\n",
      "('Composition Sets', [CompositionSet(TEST, [ 0.5  0.5], NP=1.0, GM=-5763.172232765665)])\n"
     ]
    }
   ],
   "source": [
    "from pycalphad import equilibrium\n",
    "import numpy as np\n",
    "\n",
    "TDB = \"\"\"\n",
    " ELEMENT A    GRAPHITE                   12.011     1054.0      5.7423 !\n",
    " ELEMENT B   BCC_A2                     55.847     4489.0     27.2797 !\n",
    " TYPE_DEFINITION % SEQ * !\n",
    " PHASE TEST % 1 1 !\n",
    " CONSTITUENT TEST : A,B: !\n",
    "\"\"\"\n",
    "\n",
    "my_phases_rose = ['TEST']\n",
    "comps = ['A', 'B']#, 'LI', 'BE', 'B', 'C', 'N', 'O', 'F']\n",
    "comps = sorted(comps)\n",
    "conds = dict({v.T: 1000, v.P: 101325, v.N: 1})\n",
    "#for comp in comps[1:]:\n",
    "#    conds[v.X(comp)] = 1.0/float(len(comps))\n",
    "conds[v.MU('B')] = -1855.3270574019966\n",
    "#conds[v.X('A')] = 0.2\n",
    "dbf = Database(TDB)\n",
    "eqx = equilibrium(Database(TDB), comps, my_phases_rose, conds, calc_opts={'pdens': 10}, verbose=True)"
   ]
  },
  {
   "cell_type": "code",
   "execution_count": 3,
   "metadata": {},
   "outputs": [
    {
     "data": {
      "text/plain": [
       "<xarray.DataArray 'MU' (N: 1, P: 1, T: 1, MU_B: 1, component: 2)>\n",
       "array([[[[[-5763.172233, -5763.172233]]]]])\n",
       "Coordinates:\n",
       "  * MU_B       (MU_B) float64 -1.855e+03\n",
       "  * N          (N) float64 1.0\n",
       "  * P          (P) float64 1.013e+05\n",
       "  * T          (T) float64 1e+03\n",
       "  * component  (component) <U1 'A' 'B'"
      ]
     },
     "execution_count": 3,
     "metadata": {},
     "output_type": "execute_result"
    }
   ],
   "source": [
    "eqx.MU"
   ]
  },
  {
   "cell_type": "code",
   "execution_count": 4,
   "metadata": {},
   "outputs": [
    {
     "data": {
      "text/plain": [
       "<xarray.DataArray 'X' (N: 1, P: 1, T: 1, MU_B: 1, vertex: 3, component: 2)>\n",
       "array([[[[[[ 0.5,  0.5],\n",
       "           [ nan,  nan],\n",
       "           [ nan,  nan]]]]]])\n",
       "Coordinates:\n",
       "  * MU_B       (MU_B) float64 -1.855e+03\n",
       "  * N          (N) float64 1.0\n",
       "  * P          (P) float64 1.013e+05\n",
       "  * T          (T) float64 1e+03\n",
       "  * vertex     (vertex) int64 0 1 2\n",
       "  * component  (component) <U1 'A' 'B'"
      ]
     },
     "execution_count": 4,
     "metadata": {},
     "output_type": "execute_result"
    }
   ],
   "source": [
    "eqx.X"
   ]
  },
  {
   "cell_type": "code",
   "execution_count": 5,
   "metadata": {},
   "outputs": [
    {
     "data": {
      "text/plain": [
       "<xarray.DataArray 'Y' (N: 1, P: 1, T: 1, MU_B: 1, vertex: 3, internal_dof: 2)>\n",
       "array([[[[[[ 0.5,  0.5],\n",
       "           [ nan,  nan],\n",
       "           [ nan,  nan]]]]]])\n",
       "Coordinates:\n",
       "  * MU_B     (MU_B) float64 -1.855e+03\n",
       "  * N        (N) float64 1.0\n",
       "  * P        (P) float64 1.013e+05\n",
       "  * T        (T) float64 1e+03\n",
       "  * vertex   (vertex) int64 0 1 2\n",
       "Dimensions without coordinates: internal_dof"
      ]
     },
     "execution_count": 5,
     "metadata": {},
     "output_type": "execute_result"
    }
   ],
   "source": [
    "eqx.Y"
   ]
  },
  {
   "cell_type": "code",
   "execution_count": 6,
   "metadata": {},
   "outputs": [
    {
     "name": "stdout",
     "output_type": "stream",
     "text": [
      "0.444222111167\n"
     ]
    },
    {
     "data": {
      "text/plain": [
       "[<matplotlib.lines.Line2D at 0x7fbcb9b77860>]"
      ]
     },
     "execution_count": 6,
     "metadata": {},
     "output_type": "execute_result"
    },
    {
     "data": {
      "image/png": "[encoded data removed]",
      "text/plain": [
       "<matplotlib.figure.Figure at 0x7fbcb9c0c940>"
      ]
     },
     "metadata": {},
     "output_type": "display_data"
    }
   ],
   "source": [
    "%matplotlib inline\n",
    "import matplotlib.pyplot as plt\n",
    "import numpy as np\n",
    "\n",
    "x = np.linspace(1e-9,1-1e-9,2000)\n",
    "y = 1-x\n",
    "gm = 8314.5*(np.log(x)*x + (y)*np.log(y))\n",
    "ac = 0.8\n",
    "mu = 8314.5*np.log(0.8)\n",
    "\n",
    "trans_func = gm - (mu - np.gradient(gm))*x\n",
    "print(x[np.argmin(trans_func)])\n",
    "plt.plot(x,gm, label='GM')\n",
    "plt.plot(x, trans_func, label='L')"
   ]
  }
 ],
 "metadata": {
  "kernelspec": {
   "display_name": "Python 3",
   "language": "python",
   "name": "python3"
  },
  "language_info": {
   "codemirror_mode": {
    "name": "ipython",
    "version": 3
   },
   "file_extension": ".py",
   "mimetype": "text/x-python",
   "name": "python",
   "nbconvert_exporter": "python",
   "pygments_lexer": "ipython3",
   "version": "3.5.2"
  }
 },
 "nbformat": 4,
 "nbformat_minor": 2
}
