{
 "cells": [
  {
   "cell_type": "code",
   "execution_count": 1,
   "metadata": {},
   "outputs": [],
   "source": [
    "from pycalphad import Database, Model, variables as v"
   ]
  },
  {
   "cell_type": "code",
   "execution_count": 2,
   "metadata": {
    "scrolled": true
   },
   "outputs": [
    {
     "name": "stdout",
     "output_type": "stream",
     "text": [
      "Components: A B C\n",
      "Phases: build_callables [N, P, T]\n",
      "TEST \n",
      "[done]\n",
      "build_callables [N, P, T]\n",
      "('cur_conds', OrderedDict([('MU_B', array(-1000.0)), ('N', array(1.0)), ('P', array(101325.0)), ('T', array(1000.0)), ('X_A', array(0.01))]))\n",
      "(array([1], dtype=int32), array([-1000.]))\n",
      "Trying to improve poor solution\n",
      "Chemical Potentials [-38289.6875114   -1000.         -18873.23673968]\n",
      "[ 0.  0.  0.  0.  0.  0.  0.]\n",
      "[  1.00000000e+00   1.01325000e+05   1.00000000e+03   1.00000000e-02\n",
      "   8.86679392e-01   1.03320608e-01   1.00000000e+00]\n",
      "Status: 1 b'Algorithm stopped at a point that was converged, not to \"desired\" tolerances, but to \"acceptable\" tolerances (see the acceptable-... options).'\n",
      "('Composition Sets', [CompositionSet(TEST, [ 0.01        0.88667939  0.10332061], NP=1.0, GM=-3219.570565202768)])\n"
     ]
    }
   ],
   "source": [
    "from pycalphad import equilibrium\n",
    "import numpy as np\n",
    "\n",
    "TDB = \"\"\"\n",
    " ELEMENT A    GRAPHITE                   12.011     1054.0      5.7423 !\n",
    " ELEMENT B   BCC_A2                     55.847     4489.0     27.2797 !\n",
    " ELEMENT C   BCC_A2                     55.847     4489.0     27.2797 !\n",
    " TYPE_DEFINITION % SEQ * !\n",
    " PHASE TEST % 1 1 !\n",
    " CONSTITUENT TEST : A,B,C: !\n",
    "\"\"\"\n",
    "\n",
    "my_phases_rose = ['TEST']\n",
    "comps = ['A', 'B', 'C']#, 'LI', 'BE', 'B', 'C', 'N', 'O', 'F']\n",
    "comps = sorted(comps)\n",
    "conds = dict({v.T: 1000, v.P: 101325, v.N: 1})\n",
    "#for comp in comps[1:]:\n",
    "#    conds[v.X(comp)] = 1.0/float(len(comps))\n",
    "conds[v.MU('B')] = -1000\n",
    "conds[v.X('A')] = 0.01\n",
    "dbf = Database(TDB)\n",
    "eqx = equilibrium(Database(TDB), comps, my_phases_rose, conds, calc_opts={'pdens': 10}, verbose=True)"
   ]
  },
  {
   "cell_type": "code",
   "execution_count": 5,
   "metadata": {},
   "outputs": [
    {
     "data": {
      "text/plain": [
       "<xarray.Dataset>\n",
       "Dimensions:    (MU_B: 1, N: 1, P: 1, T: 1, X_A: 1, component: 3, internal_dof: 3, vertex: 4)\n",
       "Coordinates:\n",
       "  * MU_B       (MU_B) float64 -1e+03\n",
       "  * N          (N) float64 1.0\n",
       "  * P          (P) float64 1.013e+05\n",
       "  * T          (T) float64 1e+03\n",
       "  * X_A        (X_A) float64 0.01\n",
       "  * vertex     (vertex) int64 0 1 2 3\n",
       "  * component  (component) <U1 'A' 'B' 'C'\n",
       "Dimensions without coordinates: internal_dof\n",
       "Data variables:\n",
       "    GM         (N, P, T, MU_B, X_A) float64 -3.22e+03\n",
       "    MU         (N, P, T, MU_B, X_A, component) float64 -3.829e+04 -1e+03 ...\n",
       "    Y          (N, P, T, MU_B, X_A, vertex, internal_dof) float64 0.01 ...\n",
       "    NP         (N, P, T, MU_B, X_A, vertex) float64 1.0 nan nan nan\n",
       "    Phase      (N, P, T, MU_B, X_A, vertex) <U6 'TEST' '' '' ''\n",
       "    X          (N, P, T, MU_B, X_A, vertex, component) float64 0.01 0.8867 ...\n",
       "Attributes:\n",
       "    engine:   pycalphad 0.7.1.post2+62.g3db205a\n",
       "    created:  2019-01-18T00:24:26.829242"
      ]
     },
     "execution_count": 5,
     "metadata": {},
     "output_type": "execute_result"
    }
   ],
   "source": [
    "eqx"
   ]
  },
  {
   "cell_type": "code",
   "execution_count": null,
   "metadata": {},
   "outputs": [],
   "source": []
  }
 ],
 "metadata": {
  "kernelspec": {
   "display_name": "Python 3",
   "language": "python",
   "name": "python3"
  },
  "language_info": {
   "codemirror_mode": {
    "name": "ipython",
    "version": 3
   },
   "file_extension": ".py",
   "mimetype": "text/x-python",
   "name": "python",
   "nbconvert_exporter": "python",
   "pygments_lexer": "ipython3",
   "version": "3.5.2"
  }
 },
 "nbformat": 4,
 "nbformat_minor": 2
}
