{
 "cells": [
  {
   "cell_type": "code",
   "execution_count": 1,
   "metadata": {},
   "outputs": [],
   "source": [
    "from pycalphad import Database, Model, variables as v"
   ]
  },
  {
   "cell_type": "code",
   "execution_count": 2,
   "metadata": {
    "scrolled": true
   },
   "outputs": [
    {
     "name": "stdout",
     "output_type": "stream",
     "text": [
      "Components: A B\n",
      "Phases: build_callables [N, P, T]\n",
      "TEST \n",
      "[done]\n",
      "build_callables [N, P, T]\n",
      "('Redundant phase:', CompositionSet(TEST, [ 0.44444444  0.55555556], NP=1.0, GM=-5711.742028618652))\n",
      "Removing CompositionSet(TEST, [ 0.44444444  0.55555556], NP=nan, GM=-5711.742028618652)\n",
      "('cur_conds', OrderedDict([('MU_B', array(-0.0001)), ('N', array(1.0)), ('P', array(101325.0)), ('T', array(1000.0))]))\n",
      "(array([1], dtype=int32), array([-0.0001]))\n",
      "Trying to improve poor solution\n",
      "Chemical Potentials [ -1.51586173e+05  -1.00456261e-04]\n",
      "[ 0.  0.  0.  0.  0.  0.]\n",
      "[  1.00000000e+00   1.01325000e+05   1.00000000e+03   1.20820606e-08\n",
      "   9.99999988e-01   1.00000000e+00]\n",
      "Status: 1 b'Algorithm stopped at a point that was converged, not to \"desired\" tolerances, but to \"acceptable\" tolerances (see the acceptable-... options).'\n",
      "('Composition Sets', [CompositionSet(TEST, [  1.20820606e-08   9.99999988e-01], NP=1.0, GM=-0.001931929623570598)])\n"
     ]
    }
   ],
   "source": [
    "from pycalphad import equilibrium\n",
    "import numpy as np\n",
    "\n",
    "TDB = \"\"\"\n",
    " ELEMENT A    GRAPHITE                   12.011     1054.0      5.7423 !\n",
    " ELEMENT B   BCC_A2                     55.847     4489.0     27.2797 !\n",
    " ELEMENT C   BCC_A2                     55.847     4489.0     27.2797 !\n",
    " TYPE_DEFINITION % SEQ * !\n",
    " PHASE TEST % 1 1 !\n",
    " CONSTITUENT TEST : A,B,C: !\n",
    "\"\"\"\n",
    "\n",
    "my_phases_rose = ['TEST']\n",
    "comps = ['A', 'B']#, 'LI', 'BE', 'B', 'C', 'N', 'O', 'F']\n",
    "comps = sorted(comps)\n",
    "conds = dict({v.T: 1000, v.P: 101325, v.N: 1})\n",
    "#for comp in comps[1:]:\n",
    "#    conds[v.X(comp)] = 1.0/float(len(comps))\n",
    "conds[v.MU('B')] = -1e-4\n",
    "#conds[v.X('A')] = 0.3\n",
    "dbf = Database(TDB)\n",
    "eqx = equilibrium(Database(TDB), comps, my_phases_rose, conds, calc_opts={'pdens': 10}, verbose=True)"
   ]
  },
  {
   "cell_type": "code",
   "execution_count": 3,
   "metadata": {},
   "outputs": [
    {
     "data": {
      "text/plain": [
       "8314.500124717502"
      ]
     },
     "execution_count": 3,
     "metadata": {},
     "output_type": "execute_result"
    }
   ],
   "source": [
    "x = [1.45831279e-08,   9.99999985e-01]\n",
    "#8.3145*1000*1*(x[0]*np.log(x[0]) + x[1]*np.log(x[1]))\n",
    "8.3145*1000*1/x[1]"
   ]
  },
  {
   "cell_type": "code",
   "execution_count": 4,
   "metadata": {},
   "outputs": [
    {
     "data": {
      "text/plain": [
       "8314.500124717502"
      ]
     },
     "execution_count": 4,
     "metadata": {},
     "output_type": "execute_result"
    }
   ],
   "source": [
    "import numpy as np\n",
    "8.3145*1000/x[1]"
   ]
  },
  {
   "cell_type": "code",
   "execution_count": null,
   "metadata": {},
   "outputs": [],
   "source": []
  }
 ],
 "metadata": {
  "kernelspec": {
   "display_name": "Python 3",
   "language": "python",
   "name": "python3"
  },
  "language_info": {
   "codemirror_mode": {
    "name": "ipython",
    "version": 3
   },
   "file_extension": ".py",
   "mimetype": "text/x-python",
   "name": "python",
   "nbconvert_exporter": "python",
   "pygments_lexer": "ipython3",
   "version": "3.5.2"
  }
 },
 "nbformat": 4,
 "nbformat_minor": 2
}
