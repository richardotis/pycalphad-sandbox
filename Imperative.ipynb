{
 "cells": [
  {
   "cell_type": "code",
   "execution_count": 13,
   "metadata": {},
   "outputs": [],
   "source": [
    "import pycalphad\n",
    "from pycalphad.variables import *\n",
    "\n",
    "conditions = dict()\n",
    "list_conditions = conditions\n",
    "database = None\n",
    "list_database = database\n",
    "components = None\n",
    "list_components = components\n",
    "phases = None\n",
    "list_phases = None\n",
    "list_equilibrium = None\n",
    "\n",
    "def set_conditions(**kwargs):\n",
    "    global conditions\n",
    "    for key, value in kwargs.items():\n",
    "        splitkey = key.split('_')\n",
    "        if len(splitkey) > 1:\n",
    "            key = getattr(pycalphad.variables, splitkey[0], None)\n",
    "            key = key('_'.join(splitkey[1:]))\n",
    "        else:\n",
    "            key = getattr(pycalphad.variables, splitkey[0], None)\n",
    "        conditions[key] = value\n",
    "\n",
    "def switch_database(filename):\n",
    "    global database, phases, list_database, list_phases\n",
    "    database = pycalphad.Database(filename)\n",
    "    list_database = database\n",
    "    phases = sorted(database.phases.keys())\n",
    "    list_phases = phases\n",
    "\n",
    "def define_components(*args):\n",
    "    global components, list_components\n",
    "    components = sorted(pycalphad.variables.Species(x) for x in args)\n",
    "    list_components = components\n",
    "\n",
    "def define_phases(*args):\n",
    "    global phases, list_phases\n",
    "    phases = sorted(args)\n",
    "    list_phases = phases\n",
    "\n",
    "class _executable(type):\n",
    "    def __repr__(cls):\n",
    "        cls.execute()\n",
    "        return 'Operation complete'\n",
    "\n",
    "class calculate_equilibrium(metaclass=_executable):\n",
    "    __metaclass__ = _executable\n",
    "    @staticmethod\n",
    "    def execute():\n",
    "        global list_equilibrium\n",
    "        list_equilibrium = pycalphad.equilibrium(database, components, phases, conditions)"
   ]
  },
  {
   "cell_type": "code",
   "execution_count": 14,
   "metadata": {},
   "outputs": [
    {
     "data": {
      "text/plain": [
       "Operation complete"
      ]
     },
     "execution_count": 14,
     "metadata": {},
     "output_type": "execute_result"
    }
   ],
   "source": [
    "switch_database('NI_AL_DUPIN_2001.TDB')\n",
    "set_conditions(T=300,P=101325,X_AL=0.3,N=1)\n",
    "define_components('AL', 'NI', 'VA')\n",
    "define_phases('LIQUID', 'FCC_A1')\n",
    "calculate_equilibrium"
   ]
  },
  {
   "cell_type": "code",
   "execution_count": 15,
   "metadata": {},
   "outputs": [
    {
     "data": {
      "text/plain": [
       "<xarray.Dataset>\n",
       "Dimensions:    (N: 1, P: 1, T: 1, X_AL: 1, component: 2, internal_dof: 2, vertex: 3)\n",
       "Coordinates:\n",
       "  * N          (N) float64 1.0\n",
       "  * P          (P) float64 1.013e+05\n",
       "  * T          (T) float64 300.0\n",
       "  * X_AL       (X_AL) float64 0.3\n",
       "  * vertex     (vertex) int32 0 1 2\n",
       "  * component  (component) <U2 'AL' 'NI'\n",
       "Dimensions without coordinates: internal_dof\n",
       "Data variables:\n",
       "    NP         (N, P, T, X_AL, vertex) float64 1.0 nan nan\n",
       "    GM         (N, P, T, X_AL) float64 -3.589e+04\n",
       "    MU         (N, P, T, X_AL, component) float64 -1.1e+05 -4.138e+03\n",
       "    X          (N, P, T, X_AL, vertex, component) float64 0.3 0.7 ... nan nan\n",
       "    Y          (N, P, T, X_AL, vertex, internal_dof) float64 0.3 0.7 ... nan nan\n",
       "    Phase      (N, P, T, X_AL, vertex) <U6 'LIQUID' '' ''\n",
       "Attributes:\n",
       "    engine:   pycalphad 0.7.1.post2+2.g6b5e9058\n",
       "    created:  2019-03-07T16:16:32.533941"
      ]
     },
     "execution_count": 15,
     "metadata": {},
     "output_type": "execute_result"
    }
   ],
   "source": [
    "list_equilibrium"
   ]
  },
  {
   "cell_type": "code",
   "execution_count": 17,
   "metadata": {},
   "outputs": [
    {
     "data": {
      "text/plain": [
       "({T: 300, P: 101325, X_AL: 0.3, N: 1},\n",
       " ['FCC_A1', 'LIQUID'],\n",
       " [Species('AL', 'AL1.0'), Species('NI', 'NI1.0'), Species('VA', 'VA1.0')])"
      ]
     },
     "execution_count": 17,
     "metadata": {},
     "output_type": "execute_result"
    }
   ],
   "source": [
    "list_conditions, list_phases, list_components"
   ]
  },
  {
   "cell_type": "code",
   "execution_count": null,
   "metadata": {},
   "outputs": [],
   "source": []
  }
 ],
 "metadata": {
  "kernelspec": {
   "display_name": "Python 3",
   "language": "python",
   "name": "python3"
  },
  "language_info": {
   "codemirror_mode": {
    "name": "ipython",
    "version": 3
   },
   "file_extension": ".py",
   "mimetype": "text/x-python",
   "name": "python",
   "nbconvert_exporter": "python",
   "pygments_lexer": "ipython3",
   "version": "3.6.6"
  }
 },
 "nbformat": 4,
 "nbformat_minor": 2
}
