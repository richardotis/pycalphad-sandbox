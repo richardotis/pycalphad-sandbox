{
 "cells": [
  {
   "cell_type": "code",
   "execution_count": 1,
   "metadata": {},
   "outputs": [
    {
     "name": "stdout",
     "output_type": "stream",
     "text": [
      "Chemical Potentials [-135620.9960543   -47269.29003354  -92304.23685007]\n",
      "[0. 0. 0. 0. 0. 0. 0. 0.]\n",
      "[1.00000000e+00 1.01325000e+05 1.27300000e+03 1.96247274e-01\n",
      " 3.89967388e-01 4.13785338e-01 1.00000000e+00 1.00000000e+00]\n",
      "Status: 0 b'Algorithm terminated successfully at a locally optimal point, satisfying the convergence tolerances (can be specified by options).'\n"
     ]
    }
   ],
   "source": [
    "from pycalphad.tests.datasets import *\n",
    "from pycalphad.core.solver import InteriorPointSolver\n",
    "from pycalphad import equilibrium, Database, variables as v\n",
    "\n",
    "ALFE_DBF = Database(ALFE_TDB)\n",
    "ISSUE43_DBF = Database(ISSUE43_TDB)\n",
    "\n",
    "class ProblemSaver(InteriorPointSolver):\n",
    "    saved_problem = [None]\n",
    "    def solve(self, prob):\n",
    "        self.saved_problem[0] = prob\n",
    "        self.verbose = True\n",
    "        return super(ProblemSaver, self).solve(prob)\n",
    "\n",
    "#ISSUE43_DBF._parameters.purge_tables()\n",
    "\n",
    "#eq = equilibrium(ALFE_DBF, ['AL', 'FE', 'VA'], ['FCC_A1', 'AL13FE4'],\n",
    "#                 {v.MU('FE'): -123110, v.T: 300, v.P: 1e5}, solver=ProblemSaver())\n",
    "eq = equilibrium(ISSUE43_DBF, ['AL', 'NI', 'CR', 'VA'], ['FCC_A1'],#, 'GAMMA_PRIME'],\n",
    "                     {v.MU('AL'): -135620.9960449, v.MU('CR'): -47269.29002414, v.T: 1273, v.P: 101325},\n",
    "                     solver=ProblemSaver())"
   ]
  },
  {
   "cell_type": "code",
   "execution_count": 2,
   "metadata": {},
   "outputs": [],
   "source": [
    "import numpy as np\n",
    "soln = np.array(\n",
    "[1.00000000e+00, 1.01325000e+05, 1.27300000e+03, 1.96247274e-01,\n",
    " 3.89967388e-01, 4.13785338e-01, 1.00000000e+00, 1.00000000e+00]\n",
    ")"
   ]
  },
  {
   "cell_type": "code",
   "execution_count": 11,
   "metadata": {},
   "outputs": [],
   "source": [
    "cons_idx = -1\n",
    "selected_index = 5\n",
    "step = 1e-5\n",
    "inputs = np.arange(1e-12,1-1e-12,step)\n",
    "obj = np.zeros_like(inputs)\n",
    "grad = np.zeros_like(inputs)\n",
    "error = np.zeros_like(inputs)\n",
    "for idx, val in enumerate(inputs):\n",
    "    copy_of_soln = np.array(soln)\n",
    "    copy_of_soln[selected_index] = val\n",
    "    copy_of_soln[selected_index-1] = 0.5 - val/2\n",
    "    copy_of_soln[selected_index-2] = 0.5 - val/2\n",
    "    obj[idx] = ProblemSaver.saved_problem[0].constraints(copy_of_soln)[cons_idx]\n",
    "    #obj[idx] = 8.3145*1273*np.log(val)\n",
    "    grad[idx] = ProblemSaver.saved_problem[0].jacobian(copy_of_soln)[cons_idx,selected_index]\n",
    "    #grad[idx] = 8.3145*1273/val\n",
    "error = np.abs(np.gradient(obj, step) - grad)"
   ]
  },
  {
   "cell_type": "code",
   "execution_count": 12,
   "metadata": {},
   "outputs": [
    {
     "data": {
      "text/plain": [
       "[<matplotlib.lines.Line2D at 0x7f21ffec3550>]"
      ]
     },
     "execution_count": 12,
     "metadata": {},
     "output_type": "execute_result"
    },
    {
     "data": {
      "image/png": "[encoded data removed]",
      "text/plain": [
       "<Figure size 432x288 with 1 Axes>"
      ]
     },
     "metadata": {
      "needs_background": "light"
     },
     "output_type": "display_data"
    }
   ],
   "source": [
    "%matplotlib inline\n",
    "import matplotlib.pyplot as plt\n",
    "\n",
    "plt.semilogy(inputs, error)\n",
    "#plt.ylim((1e-13,1e-6))"
   ]
  },
  {
   "cell_type": "code",
   "execution_count": 13,
   "metadata": {},
   "outputs": [
    {
     "data": {
      "text/plain": [
       "0.4263386643360718"
      ]
     },
     "execution_count": 13,
     "metadata": {},
     "output_type": "execute_result"
    }
   ],
   "source": [
    "error.min()"
   ]
  },
  {
   "cell_type": "code",
   "execution_count": 14,
   "metadata": {},
   "outputs": [
    {
     "data": {
      "text/plain": [
       "-122.38703969587742"
      ]
     },
     "execution_count": 14,
     "metadata": {},
     "output_type": "execute_result"
    }
   ],
   "source": [
    "8.3145*1273*np.log(9.88503585e-01)"
   ]
  },
  {
   "cell_type": "code",
   "execution_count": null,
   "metadata": {},
   "outputs": [],
   "source": []
  }
 ],
 "metadata": {
  "kernelspec": {
   "display_name": "Python 3",
   "language": "python",
   "name": "python3"
  },
  "language_info": {
   "codemirror_mode": {
    "name": "ipython",
    "version": 3
   },
   "file_extension": ".py",
   "mimetype": "text/x-python",
   "name": "python",
   "nbconvert_exporter": "python",
   "pygments_lexer": "ipython3",
   "version": "3.7.3"
  }
 },
 "nbformat": 4,
 "nbformat_minor": 2
}
