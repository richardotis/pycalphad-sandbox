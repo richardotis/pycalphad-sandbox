{
 "cells": [
  {
   "cell_type": "code",
   "execution_count": 1,
   "metadata": {},
   "outputs": [],
   "source": [
    "from pycalphad import Database, Model, calculate, equilibrium, variables as v\n",
    "from xarray import DataArray"
   ]
  },
  {
   "cell_type": "code",
   "execution_count": 5,
   "metadata": {},
   "outputs": [],
   "source": [
    "class PrecipitateModel(Model):\n",
    "    matrix_chempots = []\n",
    "    @property\n",
    "    def matrix_hyperplane(self):\n",
    "        return sum(self.moles(self.nonvacant_elements[i])*self.matrix_chempots[i]\n",
    "                   for i in range(len(self.nonvacant_elements)))\n",
    "    @property\n",
    "    def GM(self):\n",
    "        return self.ast - self.matrix_hyperplane\n",
    "\n",
    "class GibbsThompsonModel(Model):\n",
    "    \"Spherical particle.\"\n",
    "    radius = 1e-6 # m\n",
    "    volume = 7.3e-6 # m^3/mol\n",
    "    interfacial_energy = 250e-3 # J/m^2\n",
    "    elastic_misfit_energy = 0 # J/mol\n",
    "    @property\n",
    "    def GM(self):\n",
    "        return self.ast + (2*self.interfacial_energy/self.radius + self.elastic_misfit_energy) * self.volume"
   ]
  },
  {
   "cell_type": "code",
   "execution_count": 27,
   "metadata": {
    "scrolled": true
   },
   "outputs": [
    {
     "name": "stdout",
     "output_type": "stream",
     "text": [
      "300.0 4.5604427802184823e-10\n",
      "341.37931034482756 4.85381225499492e-10\n",
      "382.7586206896552 5.187521158028901e-10\n",
      "424.1379310344828 5.570377196180276e-10\n",
      "465.51724137931035 6.013962805932017e-10\n",
      "506.8965517241379 6.533858930185769e-10\n",
      "548.2758620689656 7.15111256882668e-10\n",
      "589.6551724137931 7.895207584352385e-10\n",
      "631.0344827586207 8.808692899120282e-10\n",
      "672.4137931034483 9.95532155647056e-10\n",
      "713.7931034482758 1.1435193279446894e-09\n",
      "755.1724137931035 1.3415140438591072e-09\n",
      "796.551724137931 1.6195356752308256e-09\n",
      "837.9310344827586 2.037648545704947e-09\n",
      "879.3103448275863 2.736089894824693e-09\n",
      "920.6896551724138 4.136114764905661e-09\n",
      "962.0689655172414 8.35084687192234e-09\n",
      "1003.448275862069 -2.0660185316834673e-06\n",
      "1044.8275862068965 -8.414578904097055e-09\n",
      "1086.2068965517242 -4.2505676352911296e-09\n",
      "1127.5862068965516 -2.8595265646862606e-09\n",
      "1168.9655172413793 -2.163759689052449e-09\n",
      "1210.344827586207 -1.7463807521016862e-09\n",
      "1251.7241379310344 -1.4682396784024408e-09\n",
      "1293.103448275862 -1.2696566017189974e-09\n",
      "1334.4827586206898 -1.120778592109748e-09\n",
      "1375.8620689655172 -1.0050161119133843e-09\n",
      "1417.2413793103449 -9.124146941192141e-10\n",
      "1458.6206896551726 -8.36640252850327e-10\n",
      "1500.0 -7.734708825665503e-10\n"
     ]
    }
   ],
   "source": [
    "import numpy as np\n",
    "\n",
    "def parallel_tangent(dbf, comps, matrix_phase, matrix_comp, precipitate_phase, temp):\n",
    "    conds = {v.N: 1, v.P: 1e5, v.T: temp}\n",
    "    conds.update(matrix_comp)\n",
    "    matrix_eq = equilibrium(dbf, comps, matrix_phase, conds)\n",
    "    # pycalphad currently doesn't have a way to turn global minimization off and directly specify starting points\n",
    "    if matrix_eq.isel(vertex=1).Phase.values.flatten() != ['']:\n",
    "        raise ValueError('Matrix phase has miscibility gap. This bug will be fixed in the future')\n",
    "    matrix_chempots = matrix_eq.MU.values.flatten()\n",
    "    # This part will not work until mass balance constraint can be relaxed\n",
    "    #precip = PrecipitateModel(dbf, comps, precipitate_phase)\n",
    "    #precip.matrix_chempots = matrix_chempots\n",
    "    #conds = {v.N: 1, v.P: 1e5, v.T: temp}\n",
    "    #df_eq = equilibrium(dbf, comps, precipitate_phase, conds, model=precip)\n",
    "    df_eq = calculate(dbf, comps, precipitate_phase, T=temp, N=1, P=1e5)\n",
    "    df_eq['GM'] = df_eq.X.values[0,0,0].dot(matrix_chempots) - df_eq.GM\n",
    "    selected_idx = df_eq.GM.argmax()\n",
    "    return matrix_eq.isel(vertex=0), df_eq.isel(points=selected_idx)\n",
    "\n",
    "def nucleation_barrier(dbf, comps, matrix_phase, matrix_comp, precipitate_phase, temp,\n",
    "                       interfacial_energy, precipitate_volume):\n",
    "    \"Spherical precipitate.\"\n",
    "    matrix_eq, precip_eq = parallel_tangent(dbf, comps, matrix_phase, matrix_comp, precipitate_phase, temp)\n",
    "    precip_driving_force = float(precip_eq.GM.values) # J/mol\n",
    "    elastic_misfit_energy = 0 # J/m^3\n",
    "    barrier = 16./3 * interfacial_energy **3 / (precip_driving_force + elastic_misfit_energy) ** 2 # J/mol\n",
    "    critical_radius = 2 * interfacial_energy / ((precip_driving_force / precipitate_volume) + elastic_misfit_energy) # m\n",
    "    print(temp, critical_radius)\n",
    "    if critical_radius < 0:\n",
    "        barrier = np.inf\n",
    "    cluster_area = 4*np.pi*critical_radius**2\n",
    "    cluster_volume = (4./3) * np.pi * critical_radius**3\n",
    "    return barrier, precip_driving_force, cluster_area, cluster_volume, matrix_eq, precip_eq\n",
    "\n",
    "def nucleation_rate(dbf, comps, matrix_phase, matrix_comp, precipitate_phase, temp):\n",
    "    # Numbers here are made up for demonstration purposes\n",
    "    interfacial_energy = 250e-3 # J/m^2\n",
    "    precipitate_volume = 7.3e-6 # m^3/mol\n",
    "    atomic_distance = 2e-10 # m\n",
    "    n_prefactor = 1e21\n",
    "    # Could retrieve from TDB in principle\n",
    "    diffusivity = 2e-4 * np.exp(-142e3/(8.3145*temp)) # m^2 / s\n",
    "\n",
    "    g_star, g_nucl, area, volume, matrix_eq, precip_eq = nucleation_barrier(dbf, comps, matrix_phase,\n",
    "                                                                            matrix_comp, precipitate_phase,\n",
    "                                                                            temp, interfacial_energy,\n",
    "                                                                            precipitate_volume)\n",
    "\n",
    "    zeldovich = 3 * (g_nucl ** 2) / (4*np.sqrt(np.pi*8.3145*temp) * ((area * interfacial_energy) ** (3./2))) # dim-less\n",
    "\n",
    "    conc_diff = (precip_eq.X.values.flatten() - matrix_eq.X.values.flatten()) ** 2 /\\\n",
    "                (matrix_eq.X.values.flatten() * diffusivity)\n",
    "    beta_attachment_rate = (area / ((atomic_distance**4) * precipitate_volume)) / conc_diff.sum()  # s^-1\n",
    "    incubation_time = 1 / (2*beta_attachment_rate*zeldovich) # s\n",
    "    ss_nucl_rate = n_prefactor * zeldovich * beta_attachment_rate * np.exp(-g_star/(8.3145*temp))\n",
    "    return ss_nucl_rate, incubation_time\n",
    "\n",
    "def growth_rate(dbf, comps, matrix_phase, matrix_comp, precipitate_phase, temp, particle_radius):\n",
    "    conds = {v.N: 1, v.P: 1e5, v.T: temp}\n",
    "    conds.update(matrix_comp)\n",
    "    # Fictive; Could retrieve from TDB in principle\n",
    "    mobility = 2e-4 * np.exp(-142e3/(8.3145*temp)) # m^2 / s\n",
    "    mobilities = np.full(len(matrix_comp)+1, mobility)\n",
    "\n",
    "    matrix_ff_eq, precip_eq = parallel_tangent(dbf, comps, matrix_phase, matrix_comp, precipitate_phase, temp)\n",
    "    # XXX: Should really be done with global min off, fixed-phase conditions, etc.\n",
    "    # As written, this will break with miscibility gaps\n",
    "    particle_mod = GibbsThompsonModel(dbf, comps, precipitate_phase)\n",
    "    particle_mod.radius = particle_radius\n",
    "    interface_eq = equilibrium(dbf, comps, [matrix_phase, precipitate_phase], conds,\n",
    "                               model={precipitate_phase: particle_mod})\n",
    "\n",
    "    matrix_idx = np.nonzero((interface_eq.Phase==matrix_phase).values.flatten())[0]\n",
    "    if len(matrix_idx) != 1:\n",
    "        raise ValueError('Matrix phase has miscibility gap')\n",
    "    else:\n",
    "        matrix_idx = matrix_idx[0]\n",
    "        matrix_interface_eq = interface_eq.isel(vertex=matrix_idx)\n",
    "\n",
    "    precip_idx = np.nonzero((interface_eq.Phase==precipitate_phase).values.flatten())[0]\n",
    "    if len(precip_idx) > 1:\n",
    "        raise ValueError('Precipitate phase has miscibility gap')\n",
    "    elif len(precip_idx) == 0:\n",
    "        precip_conc = np.zeros(len(interface_eq.component))\n",
    "        # Precipitate is metastable at this radius (it will start to dissolve)\n",
    "        # Compute equilibrium for precipitate by itself at parallel tangent composition\n",
    "        pt_comp = {v.X(str(comp)): precip_eq.X.values.flatten()[idx] for idx, comp in enumerate(precip_eq.component.values[:-1])}\n",
    "        conds = {v.N: 1, v.P: 1e5, v.T: temp}\n",
    "        conds.update(pt_comp)\n",
    "        precip_interface_eq = equilibrium(dbf, comps, precipitate_phase, conds,\n",
    "                               model={precipitate_phase: particle_mod})\n",
    "        precip_interface_eq = precip_interface_eq.isel(vertex=0)\n",
    "    else:\n",
    "        precip_idx = precip_idx[0]\n",
    "        precip_interface_eq = interface_eq.isel(vertex=precip_idx)\n",
    "    \n",
    "    eta_geo_factor = 1.0\n",
    "    fluxes = matrix_interface_eq.X.values.flatten() * mobilities * \\\n",
    "             (matrix_ff_eq.MU.values.flatten() - precip_interface_eq.MU.values.flatten()) / \\\n",
    "                 (eta_geo_factor * particle_radius)\n",
    "    velocities = fluxes / (precip_interface_eq.X.values.flatten() - matrix_interface_eq.X.values.flatten())\n",
    "    velocity = velocities.mean()\n",
    "    return velocity\n",
    "\n",
    "dbf = Database('Al-Cu-Zr_Zhou.tdb')\n",
    "comps = ['AL', 'CU', 'VA']\n",
    "\n",
    "temps = np.linspace(300, 1500, 30)\n",
    "results = []\n",
    "for temp in temps:\n",
    "    result, incub_time = nucleation_rate(dbf, comps, 'BCC_A2', {v.X('CU'): 0.4}, 'AL2CU', temp)\n",
    "    results.append(result)"
   ]
  },
  {
   "cell_type": "code",
   "execution_count": 28,
   "metadata": {},
   "outputs": [
    {
     "data": {
      "text/plain": [
       "Text(0.5, 0, 'Radius')"
      ]
     },
     "execution_count": 28,
     "metadata": {},
     "output_type": "execute_result"
    },
    {
     "data": {
      "image/png": "[encoded data removed]",
      "text/plain": [
       "<Figure size 432x288 with 1 Axes>"
      ]
     },
     "metadata": {
      "needs_background": "light"
     },
     "output_type": "display_data"
    }
   ],
   "source": [
    "radii = np.logspace(-13, -2, 50)\n",
    "results = []\n",
    "for radius in radii:\n",
    "    result = growth_rate(dbf, comps, 'BCC_A2', {v.X('CU'): 0.4}, 'AL2CU', 800, radius)\n",
    "    results.append(result)\n",
    "import matplotlib.pyplot as plt\n",
    "plt.loglog(radii, results)\n",
    "plt.ylabel('Growth Rate')\n",
    "plt.xlabel('Radius')"
   ]
  },
  {
   "cell_type": "code",
   "execution_count": 30,
   "metadata": {},
   "outputs": [],
   "source": [
    "time = 0\n",
    "deltaT = 1e4\n",
    "max_time = 1e6\n",
    "times = []\n",
    "results = []\n",
    "current_size = 1e-10 # m\n",
    "while time < max_time:\n",
    "    rate = growth_rate(dbf, comps, 'BCC_A2', {v.X('CU'): 0.4}, 'AL2CU', 600, radius)\n",
    "    size = current_size + rate*deltaT\n",
    "    results.append(size)\n",
    "    times.append(time)\n",
    "    current_size = float(size)\n",
    "    time += deltaT\n",
    "    "
   ]
  },
  {
   "cell_type": "code",
   "execution_count": 31,
   "metadata": {},
   "outputs": [
    {
     "data": {
      "text/plain": [
       "Text(0, 0.5, 'Particle Size')"
      ]
     },
     "execution_count": 31,
     "metadata": {},
     "output_type": "execute_result"
    },
    {
     "data": {
      "image/png": "[encoded data removed]",
      "text/plain": [
       "<Figure size 432x288 with 1 Axes>"
      ]
     },
     "metadata": {
      "needs_background": "light"
     },
     "output_type": "display_data"
    }
   ],
   "source": [
    "import matplotlib.pyplot as plt\n",
    "plt.semilogx(times, results)\n",
    "plt.xlabel('Time')\n",
    "plt.ylabel('Particle Size')"
   ]
  }
 ],
 "metadata": {
  "kernelspec": {
   "display_name": "Python 3",
   "language": "python",
   "name": "python3"
  },
  "language_info": {
   "codemirror_mode": {
    "name": "ipython",
    "version": 3
   },
   "file_extension": ".py",
   "mimetype": "text/x-python",
   "name": "python",
   "nbconvert_exporter": "python",
   "pygments_lexer": "ipython3",
   "version": "3.7.3"
  }
 },
 "nbformat": 4,
 "nbformat_minor": 2
}
