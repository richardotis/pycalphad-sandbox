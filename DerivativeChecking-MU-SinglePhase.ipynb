{
 "cells": [
  {
   "cell_type": "code",
   "execution_count": 1,
   "metadata": {
    "scrolled": true
   },
   "outputs": [
    {
     "name": "stdout",
     "output_type": "stream",
     "text": [
      "Chemical Potentials [-8008.34550688 -8008.34550642 -6094.79943005]\n",
      "[9.09090900e-06 8.97202970e-11 1.13636364e-08 3.03030259e-05\n",
      " 3.03030259e-05 2.27272759e-05 9.09090900e-06 3.03030282e-05\n",
      " 3.03030282e-05 2.27272734e-05 3.03030461e-05 3.03030461e-05\n",
      " 2.27272533e-05 1.81818529e-05 1.81818555e-05]\n",
      "[1.00000000e+00 1.01325000e+05 8.00000000e+02 3.00000000e-01\n",
      " 3.00000000e-01 4.00000000e-01 1.00000000e+00 3.00000000e-01\n",
      " 3.00000000e-01 4.00000000e-01 3.00000001e-01 3.00000001e-01\n",
      " 3.99999999e-01 5.00002745e-01 4.99997255e-01]\n",
      "Status: 0 b'Algorithm terminated successfully at a locally optimal point, satisfying the convergence tolerances (can be specified by options).'\n"
     ]
    }
   ],
   "source": [
    "from pycalphad.tests.datasets import *\n",
    "from pycalphad.core.solver import InteriorPointSolver\n",
    "from pycalphad import equilibrium, Database, variables as v\n",
    "\n",
    "ALFE_DBF = Database(ALFE_TDB)\n",
    "ISSUE43_DBF = Database('issue43.tdb')\n",
    "\n",
    "class ProblemSaver(InteriorPointSolver):\n",
    "    saved_problem = [None]\n",
    "    def solve(self, prob):\n",
    "        self.saved_problem[0] = prob\n",
    "        self.verbose = True\n",
    "        return super(ProblemSaver, self).solve(prob)\n",
    "\n",
    "ISSUE43_DBF._parameters.purge_tables()\n",
    "\n",
    "#eq = equilibrium(ALFE_DBF, ['AL', 'FE', 'VA'], ['FCC_A1', 'AL13FE4'],\n",
    "#                 {v.MU('FE'): -123110, v.T: 300, v.P: 1e5}, solver=ProblemSaver())\n",
    "#eq = equilibrium(ISSUE43_DBF, ['AL', 'NI', 'CR', 'VA'], ['FCC_A1'],\n",
    "#                     {v.X('AL'): 0.1, v.MU('CR'): -47269.29002414, v.T: 1273, v.P: 101325},\n",
    "#                     solver=ProblemSaver(), global_min=True, verbose=True)\n",
    "eq = equilibrium(ISSUE43_DBF, ['AL', 'NI', 'CR', 'VA'], ['FCC_A1', 'GAMMA_PRIME'],\n",
    "                     {v.X('AL'): 0.3, v.X('CR'): 0.3, v.T: 800, v.P: 101325}, global_min=False,\n",
    "                 user_starting_point=[('FCC_A1', [1, 1e5, 800, 1.18776923e-01, 8.80237725e-01, 9.85352235e-04, 1.00000000e+00]),\n",
    "                                      ('GAMMA_PRIME', [1, 1e5, 800, 1.74048875e-01, 5.63475647e-02, 7.69603560e-01, 9.99778534e-01, 2.21458528e-04, 7.35394612e-09])],\n",
    "                     solver=ProblemSaver())"
   ]
  },
  {
   "cell_type": "code",
   "execution_count": 2,
   "metadata": {},
   "outputs": [],
   "source": [
    "import numpy as np\n",
    "#soln = np.array(\n",
    "#[1.00000000e+00, 1.01325000e+05, 1.27300000e+03, 1.96247274e-01,\n",
    "# 3.89967388e-01, 4.13785338e-01, 1.00000000e+00, 1.00000000e+00]\n",
    "#)\n",
    "#soln = np.array(\n",
    "#[1.00000000e+00, 1.01325000e+05, 1.27300000e+03, 2.72418536e-06,\n",
    "# 1.14936909e-02, 9.88503585e-01, 1.00000000e+00, 1.00000000e+00]\n",
    "#)\n",
    "soln = np.array(\n",
    "[1.00000000e+00, 1.01325000e+05, 8.00000000e+02, 1.18776923e-01,\n",
    " 8.80237725e-01, 9.85352235e-04, 1.00000000e+00, 1.74048875e-01,\n",
    " 5.63475647e-02, 7.69603560e-01, 9.99778534e-01, 2.21458528e-04,\n",
    " 7.35394612e-09, 3.07527500e-01, 6.92472500e-01]\n",
    ")"
   ]
  },
  {
   "cell_type": "code",
   "execution_count": 3,
   "metadata": {},
   "outputs": [],
   "source": [
    "selected_index = 5\n",
    "step = 1e-2\n",
    "inputs = np.arange(1e-12,1-1e-12,step)\n",
    "obj = np.zeros_like(inputs)\n",
    "obj_single0 = np.zeros_like(inputs)\n",
    "obj_single1 = np.zeros_like(inputs)\n",
    "error = np.zeros_like(inputs)\n",
    "for idx, val in enumerate(inputs):\n",
    "    copy_of_soln = np.array(soln)\n",
    "    copy_of_soln[selected_index] = val\n",
    "    copy_of_soln[selected_index-1] = 0.5 - val/2\n",
    "    copy_of_soln[selected_index-2] = 0.5 - val/2\n",
    "    obj[idx] = ProblemSaver.saved_problem[0].chemical_potentials(copy_of_soln, selected_phase_idx=None)[1]\n",
    "    obj_single0[idx] = ProblemSaver.saved_problem[0].chemical_potentials(copy_of_soln, selected_phase_idx=0)[1]\n",
    "    obj_single1[idx] = ProblemSaver.saved_problem[0].chemical_potentials(copy_of_soln, selected_phase_idx=1)[1]"
   ]
  },
  {
   "cell_type": "code",
   "execution_count": 4,
   "metadata": {},
   "outputs": [
    {
     "data": {
      "text/plain": [
       "<matplotlib.legend.Legend at 0x7fd5ed23d3c8>"
      ]
     },
     "execution_count": 4,
     "metadata": {},
     "output_type": "execute_result"
    },
    {
     "data": {
      "image/png": "[encoded data removed]",
      "text/plain": [
       "<Figure size 432x288 with 1 Axes>"
      ]
     },
     "metadata": {
      "needs_background": "light"
     },
     "output_type": "display_data"
    }
   ],
   "source": [
    "%matplotlib inline\n",
    "import matplotlib.pyplot as plt\n",
    "\n",
    "#plt.semilogy(inputs, error)\n",
    "plt.plot(inputs, obj_single0, label='single 0')\n",
    "plt.plot(inputs, obj_single1, label='single 1')\n",
    "plt.plot(inputs, obj, label='all')\n",
    "plt.legend(loc='best')\n",
    "#plt.ylim((1e-13,1e-6))"
   ]
  },
  {
   "cell_type": "code",
   "execution_count": 5,
   "metadata": {},
   "outputs": [
    {
     "data": {
      "text/plain": [
       "array([ 1.00000000e+00,  1.01325000e+05,  8.00000000e+02, -1.88897786e-11,\n",
       "        0.00000000e+00, -3.00000048e-04, -1.18053801e-04,  1.00000000e+06,\n",
       "        2.65010467e+05,  3.08403302e+04])"
      ]
     },
     "execution_count": 5,
     "metadata": {},
     "output_type": "execute_result"
    }
   ],
   "source": [
    "ProblemSaver.saved_problem[0].constraints(copy_of_soln)"
   ]
  },
  {
   "cell_type": "code",
   "execution_count": 6,
   "metadata": {},
   "outputs": [
    {
     "data": {
      "text/plain": [
       "array([ -6261.03834342, -15586.35590637,   -384.84888275])"
      ]
     },
     "execution_count": 6,
     "metadata": {},
     "output_type": "execute_result"
    }
   ],
   "source": [
    "ProblemSaver.saved_problem[0].chemical_potentials(copy_of_soln, selected_phase_idx=None)"
   ]
  },
  {
   "cell_type": "code",
   "execution_count": 7,
   "metadata": {},
   "outputs": [
    {
     "data": {
      "text/plain": [
       "array([ -5396.22386671,  -9193.60944052,  -9486.26216692,  -9711.49167371,\n",
       "        -9903.73368397, -10075.05744407, -10231.35835411, -10376.04119737,\n",
       "       -10511.28447745, -10638.5818597 , -10759.00954535, -10873.37230165,\n",
       "       -10982.28943736, -11086.2485176 , -11185.64047511, -11280.78358526,\n",
       "       -11371.94024871, -11459.32917266, -11543.13437647, -11623.5120382 ,\n",
       "       -11700.59573481, -11774.50061281, -11845.32667013, -11913.16144457,\n",
       "       -11978.08220618, -12040.1577989 , -12099.45018021, -12156.01572185,\n",
       "       -12209.90635599, -12261.17055624, -12309.85419818, -12356.00130773,\n",
       "       -12399.6547673 , -12440.85689412, -12479.65000371, -12516.07688875,\n",
       "       -12550.18126496, -12582.00817459, -12611.60434328, -12639.01850916,\n",
       "       -12664.30170933, -12687.50753381, -12708.69236813, -12727.9155759 ,\n",
       "       -12745.2396762 , -12760.73048614, -12774.45723108, -12786.49264097,\n",
       "       -12796.91301375, -12805.79825169, -12813.23188612, -12819.30108043,\n",
       "       -12824.09659875, -12827.71277722, -12830.24747094, -12831.80198593,\n",
       "       -12832.48101532, -12832.39254479, -12831.64779148, -12830.361105  ,\n",
       "       -12828.64991652, -12826.63465566, -12824.43872496, -12822.18845913,\n",
       "       -12820.01316978, -12818.04515358, -12816.4198291 , -12815.27586697,\n",
       "       -12814.75543338, -12815.00449209, -12816.17323258, -12818.41661603,\n",
       "       -12821.89504058, -12826.77525416, -12833.23141337, -12841.44646702,\n",
       "       -12851.61384832, -12863.93959842, -12878.64498497, -12895.96983191,\n",
       "       -12916.17666952, -12939.55600215, -12966.43311373, -12997.17676068,\n",
       "       -13032.21064842, -13072.02861965, -13117.21517775, -13168.47366489,\n",
       "       -13226.66591342, -13292.86920308, -13368.46080685, -13455.24741448,\n",
       "       -13555.67175039, -13673.15885333, -13812.7329319 , -13982.2056092 ,\n",
       "       -14194.71568326, -14475.01623953, -14879.00947444, -15586.35590637])"
      ]
     },
     "execution_count": 7,
     "metadata": {},
     "output_type": "execute_result"
    }
   ],
   "source": [
    "obj"
   ]
  },
  {
   "cell_type": "code",
   "execution_count": null,
   "metadata": {},
   "outputs": [],
   "source": []
  }
 ],
 "metadata": {
  "kernelspec": {
   "display_name": "Python 3",
   "language": "python",
   "name": "python3"
  },
  "language_info": {
   "codemirror_mode": {
    "name": "ipython",
    "version": 3
   },
   "file_extension": ".py",
   "mimetype": "text/x-python",
   "name": "python",
   "nbconvert_exporter": "python",
   "pygments_lexer": "ipython3",
   "version": "3.7.3"
  }
 },
 "nbformat": 4,
 "nbformat_minor": 2
}
