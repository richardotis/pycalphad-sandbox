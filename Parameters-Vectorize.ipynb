{
 "cells": [
  {
   "cell_type": "code",
   "execution_count": 1,
   "metadata": {},
   "outputs": [],
   "source": [
    "TDB = \"\"\"              \n",
    " ELEMENT /-   ELECTRON_GAS              0.0000E+00  0.0000E+00  0.0000E+00!\n",
    " ELEMENT VA   VACUUM                    0.0000E+00  0.0000E+00  0.0000E+00!\n",
    " ELEMENT CR   BCC_A2                    5.1996E+01  4.0500E+03  2.3560E+01!\n",
    " ELEMENT V    BCC_A2                    5.0941E+01  4.5070E+03  3.0890E+01!\n",
    " \n",
    " FUNCTION GHSERCR    2.98150E+02  -8856.94+157.48*T-26.908*T*LN(T)\n",
    "     +.00189435*T**2-1.47721E-06*T**3+139250*T**(-1);  2.18000E+03  Y\n",
    "      -34869.344+344.18*T-50*T*LN(T)-2.88526E+32*T**(-9);  6.00000E+03  N !\n",
    "\n",
    " FUNCTION GPCRBCC 298.14 0.0; 6000 N !\n",
    "\n",
    " FUNCTION GPCRLIQ 298.14 0.0; 6000 N !\n",
    "\n",
    " FUNCTION GCRFCC 298.14 +7284+.163*T+GHSERCR#; 6000 N !\n",
    "\n",
    " FUNCTION GHSERVV    2.98150E+02  -7930.43+133.346053*T-24.134*T*LN(T)\n",
    "     -.003098*T**2+1.2175E-07*T**3+69460*T**(-1);  7.90000E+02  Y\n",
    "      -7967.842+143.291093*T-25.9*T*LN(T)+6.25E-05*T**2-6.8E-07*T**3;  \n",
    "     2.18300E+03  Y\n",
    "      -41689.864+321.140783*T-47.43*T*LN(T)+6.44389E+31*T**(-9);  \n",
    "     4.00000E+03  N !\n",
    "\n",
    "FUNCTION GLIQV      2.98150E+02  +12833.687+123.890501*T-24.134*T*LN(T)\n",
    "     -.003098*T**2+1.2175E-07*T**3+69460*T**(-1)-5.19136E-22*T**7;  \n",
    "     7.90000E+02  Y\n",
    "      +12796.275+133.835541*T-25.9*T*LN(T)+6.25E-05*T**2-6.8E-07*T**3\n",
    "     -5.19136E-22*T**7;  2.18300E+03  Y\n",
    "      -19617.51+311.055983*T-47.43*T*LN(T);  4.00000E+03  N !\n",
    "\n",
    "\n",
    "FUNCTION UN_ASS 298.15 0; 300 N !\n",
    "FUNCTION V001 298.15 0; 300 N !\n",
    "FUNCTION V002 298.15 0; 300 N !\n",
    "FUNCTION V003 298.15 0; 300 N !\n",
    "FUNCTION V004 298.15 0; 300 N !\n",
    " \n",
    "\n",
    " TYPE_DEFINITION % SEQ *!\n",
    " DEFINE_SYSTEM_DEFAULT ELEMENT 2 !\n",
    " DEFAULT_COMMAND DEF_SYS_ELEMENT VA /- !\n",
    "\n",
    "\n",
    " PHASE LIQUID  %  1  1.0  !\n",
    "   CONSTITUENT LIQUID  :CR,V :  !\n",
    "   PARAMETER L(LIQUID,CR,V;0)  2.98150E+02  -20224.86+V001#; \n",
    "    6.00000E+03  N REF3 !\n",
    "   PARAMETER L(LIQUID,CR,V;1)  2.98150E+02  -13469.9+V002#; \n",
    "    6.00000E+03  N REF3 !\n",
    "\n",
    "\n",
    " PHASE BCC_A2  %&  2 1   3 !\n",
    "   TYPE_DEFINITION & GES A_P_D BCC_A2 MAGNETIC  -1.0    4.00000E-01 !\n",
    "   CONSTITUENT BCC_A2  :CR,V : VA :  !\n",
    "   PARAMETER G(BCC_A2,CR:VA;0)  2.98150E+02  +GHSERCR#;   6.00000E+03   N \n",
    "    REF1 !\n",
    "   PARAMETER TC(BCC_A2,CR:VA;0)  2.98150E+02  -311.5;\n",
    "    6.00000E+03   N REF1 !\n",
    "   PARAMETER BMAGN(BCC_A2,CR:VA;0)  2.98150E+02  -.008;   6.00000E+03   N \n",
    "    REF1 !\n",
    "   PARAMETER L(BCC_A2,CR,V:VA;0) 298.14 -8253.85-3.61592*T+V003#;\n",
    "    6000 N REF3 !\n",
    "   PARAMETER L(BCC_A2,CR,V:VA;1) 298.14 +7494.82-8.69424*T+V004#;\n",
    "    6000 N REF3 !  \n",
    "   PARAMETER L(BCC_A2,CR,V:VA;2) 298.14 -17599.07+10.13142*T;\n",
    "    6000 N REF3 !  \n",
    "   PARAMETER L(BCC_A2,CR,V:VA;3) 298.14 +1042.58;\n",
    "    6000 N REF3 !  \n",
    "   PARAMETER G(BCC_A2,V:VA;0)  2.98150E+02  +GHSERVV#;\n",
    "    4.00000E+03  N REF1 !\n",
    "\n",
    "   \n",
    " PHASE HCP_A3  %)  2 1   .5 !\n",
    "   TYPE_DEFINITION ) GES A_P_D HCP_A3 MAGNETIC  -3.0    2.80000E-01 !\n",
    "   CONSTITUENT HCP_A3  :CR,V : VA :  !\n",
    "   PARAMETER G(HCP_A3,CR:VA;0)  2.98150E+02  -4418.94+157.48*T\n",
    "    -26.908*T*LN(T)+.00189435*T**2-1.47721E-06*T**3+139250*T**(-1);  \n",
    "    2.18000E+03  Y\n",
    "    -30431.344+344.18*T-50*T*LN(T)-2.88526E+32*T**(-9);\n",
    "    6.00000E+03  N REF1 !\n",
    "   PARAMETER TC(HCP_A3,CR:VA;0)  2.98150E+02  -1109; \n",
    "    6.00000E+03   N REF1 !\n",
    "   PARAMETER BMAGN(HCP_A3,CR:VA;0)  2.98150E+02  -2.46;\n",
    "    6.00000E+03   N REF1 !\n",
    "   PARAMETER G(HCP_A3,V:VA;0)  2.98150E+02  -3930.43+135.746053*T\n",
    "    -24.134*T*LN(T)-.003098*T**2+1.2175E-07*T**3+69460*T**(-1);\n",
    "    7.90000E+02  Y\n",
    "    -3967.842+145.691093*T-25.9*T*LN(T)+6.25E-05*T**2-6.8E-07*T**3;  \n",
    "    2.18300E+03  Y\n",
    "    -37689.864+323.540783*T-47.43*T*LN(T)+6.44389E+31*T**(-9);\n",
    "    4.00000E+03  N REF1 !\n",
    "   PARAMETER L(HCP_A3,CR,V:VA;0)  2.98150E+02  +5000; \n",
    "    6.00000E+03  N REF3 !\n",
    "\n",
    "\n",
    "\"\"\""
   ]
  },
  {
   "cell_type": "code",
   "execution_count": 2,
   "metadata": {},
   "outputs": [],
   "source": [
    "from pycalphad import Database, Model, equilibrium, calculate, variables as v\n",
    "from pycalphad.codegen.callables import build_phase_records\n",
    "from pycalphad.core.utils import point_sample"
   ]
  },
  {
   "cell_type": "code",
   "execution_count": 3,
   "metadata": {},
   "outputs": [],
   "source": [
    "import numpy as np\n",
    "rng = np.random.RandomState(1769)\n",
    "dbf = Database(TDB)\n",
    "comps = [v.Species('CR'), v.Species('V'), v.Species('VA')]\n",
    "phases = list(dbf.phases.keys())\n",
    "conds = {v.N: 1, v.T: 2500, v.P: 101325, v.X('V'): 0.25}\n",
    "param_count = 20000\n",
    "param_names = ['V001', 'V002', 'V003', 'V004']\n",
    "models = {name: Model(dbf, comps, name, parameters=param_names) for name in phases}\n",
    "parameters = {'V001': rng.normal(loc=1000, scale=1000,size=param_count), 'V002': rng.normal(scale=1000,size=param_count),\n",
    "              'V003': rng.normal(scale=100,size=param_count), 'V004': rng.normal(scale=100,size=param_count)}\n",
    "# Specific value of parameter doesn't matter here for build_phase_records, since we'll override it\n",
    "phase_records = build_phase_records(dbf, comps, phases, conds, models,\n",
    "                                    parameters={key: value[0] for key, value in parameters.items()})\n",
    "# This step is not optimized. There are better ways to get a dof sample array\n",
    "dof = {name: calculate(dbf, comps, [name], N=1, P=1e5, T=2500).Y.values.squeeze() for name in phases}"
   ]
  },
  {
   "cell_type": "code",
   "execution_count": 10,
   "metadata": {},
   "outputs": [],
   "source": [
    "results = {}\n",
    "param_array = np.column_stack(tuple(parameters[n] for n in param_names))\n",
    "for name in phases:\n",
    "    my_dof = np.concatenate((np.broadcast_to(np.array([1, 1e5, 2500])[np.newaxis], (dof[name].shape[0], 3)),\n",
    "                             np.array(dof[name])), axis=1)\n",
    "    result = np.zeros((dof[name].shape[0], parameters['V001'].size))\n",
    "    phase_records[name].obj_parameters_2d(result, my_dof, param_array)\n",
    "    results[name] = result"
   ]
  },
  {
   "cell_type": "code",
   "execution_count": 5,
   "metadata": {},
   "outputs": [
    {
     "data": {
      "text/plain": [
       "(4002, 20000)"
      ]
     },
     "execution_count": 5,
     "metadata": {},
     "output_type": "execute_result"
    }
   ],
   "source": [
    "results['LIQUID'].shape"
   ]
  },
  {
   "cell_type": "code",
   "execution_count": null,
   "metadata": {},
   "outputs": [],
   "source": []
  },
  {
   "cell_type": "code",
   "execution_count": null,
   "metadata": {},
   "outputs": [],
   "source": []
  },
  {
   "cell_type": "code",
   "execution_count": null,
   "metadata": {},
   "outputs": [],
   "source": []
  }
 ],
 "metadata": {
  "kernelspec": {
   "display_name": "Python 3",
   "language": "python",
   "name": "python3"
  },
  "language_info": {
   "codemirror_mode": {
    "name": "ipython",
    "version": 3
   },
   "file_extension": ".py",
   "mimetype": "text/x-python",
   "name": "python",
   "nbconvert_exporter": "python",
   "pygments_lexer": "ipython3",
   "version": "3.7.3"
  }
 },
 "nbformat": 4,
 "nbformat_minor": 2
}
