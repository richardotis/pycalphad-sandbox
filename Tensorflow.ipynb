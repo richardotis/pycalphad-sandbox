{
 "cells": [
  {
   "cell_type": "code",
   "execution_count": 1,
   "metadata": {},
   "outputs": [],
   "source": [
    "import tensorflow as tf\n",
    "from tensorflow.contrib.compiler import xla\n",
    "tfe = tf.contrib.eager # Shorthand for some symbols\n",
    "#tf.enable_eager_execution()\n",
    "\n",
    "# Having trouble getting GPU to be detected properly\n",
    "config = tf.ConfigProto(\n",
    "        device_count = {'GPU': 0}\n",
    "    )\n",
    "config.graph_options.optimizer_options.global_jit_level = tf.OptimizerOptions.ON_1\n",
    "sess = tf.Session(config=config)"
   ]
  },
  {
   "cell_type": "code",
   "execution_count": 2,
   "metadata": {},
   "outputs": [],
   "source": [
    "from pycalphad import Database, Model, variables as v\n",
    "from pycalphad.codegen.sympydiff_utils import build_functions\n",
    "from sympy import lambdify\n",
    "import numpy as np\n",
    "\n",
    "dbf = Database('Al-Cu-Zr_Zhou.tdb')\n",
    "mod = Model(dbf, ['AL', 'CU', 'ZR'], 'LIQUID')"
   ]
  },
  {
   "cell_type": "code",
   "execution_count": 3,
   "metadata": {},
   "outputs": [
    {
     "data": {
      "text/plain": [
       "[T, LIQUID0AL, LIQUID0CU, LIQUID0ZR]"
      ]
     },
     "execution_count": 3,
     "metadata": {},
     "output_type": "execute_result"
    }
   ],
   "source": [
    "mod.variables"
   ]
  },
  {
   "cell_type": "code",
   "execution_count": 4,
   "metadata": {},
   "outputs": [
    {
     "name": "stdout",
     "output_type": "stream",
     "text": [
      "CPU times: user 208 ms, sys: 6.93 ms, total: 215 ms\n",
      "Wall time: 1.9 s\n",
      "CPU times: user 412 ms, sys: 8.72 ms, total: 421 ms\n",
      "Wall time: 2.3 s\n"
     ]
    },
    {
     "data": {
      "text/plain": [
       "<function wrapper_module_5e8b7be6_0e88_41e7_9740_bbb826dd132a.autofunc_c>"
      ]
     },
     "execution_count": 4,
     "metadata": {},
     "output_type": "execute_result"
    }
   ],
   "source": [
    "cy_func, cy_grad = build_functions(mod.GM, mod.variables, include_grad=True)\n",
    "%time cy_func.kernel # trigger JIT\n",
    "%time cy_grad.kernel # trigger JIT"
   ]
  },
  {
   "cell_type": "code",
   "execution_count": 5,
   "metadata": {},
   "outputs": [
    {
     "name": "stdout",
     "output_type": "stream",
     "text": [
      "The slowest run took 15.18 times longer than the fastest. This could mean that an intermediate result is being cached.\n",
      "100000 loops, best of 3: 6.7 µs per loop\n"
     ]
    }
   ],
   "source": [
    "%timeit cy_func.kernel(np.array([[300., 0.3, 0.3, 0.4]]), np.array([0.]))"
   ]
  },
  {
   "cell_type": "code",
   "execution_count": 6,
   "metadata": {},
   "outputs": [
    {
     "name": "stdout",
     "output_type": "stream",
     "text": [
      "The slowest run took 5.42 times longer than the fastest. This could mean that an intermediate result is being cached.\n",
      "100000 loops, best of 3: 9.09 µs per loop\n"
     ]
    }
   ],
   "source": [
    "%timeit cy_grad.kernel(np.array([[300., 0.3, 0.3, 0.4]]), np.array([0.]))"
   ]
  },
  {
   "cell_type": "code",
   "execution_count": 7,
   "metadata": {},
   "outputs": [
    {
     "name": "stdout",
     "output_type": "stream",
     "text": [
      "10 loops, best of 3: 107 ms per loop\n"
     ]
    }
   ],
   "source": [
    "%%timeit\n",
    "tf_func = lambdify(mod.variables, mod.GM, modules='tensorflow')"
   ]
  },
  {
   "cell_type": "code",
   "execution_count": 8,
   "metadata": {},
   "outputs": [],
   "source": [
    "tf_func = lambdify(mod.variables, mod.GM, modules='tensorflow')"
   ]
  },
  {
   "cell_type": "code",
   "execution_count": 9,
   "metadata": {},
   "outputs": [
    {
     "name": "stdout",
     "output_type": "stream",
     "text": [
      "1 loop, best of 3: 375 ms per loop\n"
     ]
    }
   ],
   "source": [
    "%%timeit\n",
    "x1 = tf.placeholder(\"float\", None)\n",
    "x2 = tf.placeholder(\"float\", None)\n",
    "x3 = tf.placeholder(\"float\", None)\n",
    "x4 =  tf.placeholder(\"float\", None)\n",
    "result = tf_func(x1, x2, x3, x4)"
   ]
  },
  {
   "cell_type": "code",
   "execution_count": 10,
   "metadata": {},
   "outputs": [],
   "source": [
    "#x2_vals = np.random.uniform(size=1000)\n",
    "#x3_vals = 1-x2_vals\n",
    "x1 = tf.placeholder(\"float\", None)\n",
    "x2 = tf.placeholder(\"float\", None)\n",
    "x3 = tf.placeholder(\"float\", None)\n",
    "x4 = tf.placeholder(\"float\", None)\n",
    "result = tf_func(x1, x2, x3, x4)"
   ]
  },
  {
   "cell_type": "code",
   "execution_count": 11,
   "metadata": {},
   "outputs": [],
   "source": [
    "grad = tf.gradients(result, [x1, x2, x3, x4], stop_gradients=[x1, x2, x3, x4])"
   ]
  },
  {
   "cell_type": "code",
   "execution_count": 12,
   "metadata": {},
   "outputs": [
    {
     "name": "stdout",
     "output_type": "stream",
     "text": [
      "The slowest run took 258.49 times longer than the fastest. This could mean that an intermediate result is being cached.\n",
      "1 loop, best of 3: 865 µs per loop\n"
     ]
    }
   ],
   "source": [
    "%timeit sess.run(result, {x1: 300., x2: 0.3, x3: 0.3, x4: 0.4})"
   ]
  },
  {
   "cell_type": "code",
   "execution_count": 13,
   "metadata": {},
   "outputs": [
    {
     "name": "stdout",
     "output_type": "stream",
     "text": [
      "The slowest run took 229.71 times longer than the fastest. This could mean that an intermediate result is being cached.\n",
      "1 loop, best of 3: 3.28 ms per loop\n"
     ]
    }
   ],
   "source": [
    "%timeit sess.run(grad, {x1: 300., x2: 0.3, x3: 0.3, x4: 0.4})"
   ]
  },
  {
   "cell_type": "code",
   "execution_count": 14,
   "metadata": {},
   "outputs": [],
   "source": [
    "[tf_xla_func] = xla.compile(tf_func, [x1, x2, x3, x4])"
   ]
  },
  {
   "cell_type": "code",
   "execution_count": 15,
   "metadata": {},
   "outputs": [
    {
     "name": "stdout",
     "output_type": "stream",
     "text": [
      "The slowest run took 996.98 times longer than the fastest. This could mean that an intermediate result is being cached.\n",
      "1 loop, best of 3: 807 µs per loop\n"
     ]
    }
   ],
   "source": [
    "%timeit sess.run(tf_xla_func, {x1: 300., x2: 0.3, x3: 0.3, x4: 0.4})"
   ]
  },
  {
   "cell_type": "code",
   "execution_count": null,
   "metadata": {},
   "outputs": [],
   "source": []
  }
 ],
 "metadata": {
  "kernelspec": {
   "display_name": "Python 3",
   "language": "python",
   "name": "python3"
  },
  "language_info": {
   "codemirror_mode": {
    "name": "ipython",
    "version": 3
   },
   "file_extension": ".py",
   "mimetype": "text/x-python",
   "name": "python",
   "nbconvert_exporter": "python",
   "pygments_lexer": "ipython3",
   "version": "3.5.2"
  }
 },
 "nbformat": 4,
 "nbformat_minor": 2
}
