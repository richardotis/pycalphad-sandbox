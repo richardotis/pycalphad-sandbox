{
 "cells": [
  {
   "cell_type": "code",
   "execution_count": 1,
   "metadata": {},
   "outputs": [],
   "source": [
    "import tensorflow as tf\n",
    "#tf.enable_eager_execution()\n",
    "\n",
    "# Having trouble getting GPU to be detected properly\n",
    "config = tf.ConfigProto(\n",
    "        device_count = {'GPU': 0}\n",
    "    )\n",
    "sess = tf.Session(config=config)"
   ]
  },
  {
   "cell_type": "code",
   "execution_count": 2,
   "metadata": {},
   "outputs": [],
   "source": [
    "from pycalphad import Database, Model, variables as v\n",
    "from pycalphad.codegen.sympydiff_utils import build_functions\n",
    "from sympy import lambdify\n",
    "import numpy as np\n",
    "\n",
    "dbf = Database('alzn_mey.tdb')\n",
    "mod = Model(dbf, ['AL', 'ZN'], 'LIQUID')"
   ]
  },
  {
   "cell_type": "code",
   "execution_count": 3,
   "metadata": {},
   "outputs": [
    {
     "data": {
      "text/plain": [
       "[T, LIQUID0AL, LIQUID0ZN]"
      ]
     },
     "execution_count": 3,
     "metadata": {},
     "output_type": "execute_result"
    }
   ],
   "source": [
    "mod.variables"
   ]
  },
  {
   "cell_type": "code",
   "execution_count": 4,
   "metadata": {},
   "outputs": [
    {
     "name": "stdout",
     "output_type": "stream",
     "text": [
      "CPU times: user 116 ms, sys: 7.31 ms, total: 123 ms\n",
      "Wall time: 1.74 s\n"
     ]
    },
    {
     "data": {
      "text/plain": [
       "<function wrapper_module_148f0b1a_1243_4df3_b425_932e799a6443.autofunc_c>"
      ]
     },
     "execution_count": 4,
     "metadata": {},
     "output_type": "execute_result"
    }
   ],
   "source": [
    "cy_func = build_functions(mod.GM, mod.variables, include_grad=False)\n",
    "%time cy_func.kernel # trigger JIT"
   ]
  },
  {
   "cell_type": "code",
   "execution_count": 5,
   "metadata": {},
   "outputs": [
    {
     "name": "stdout",
     "output_type": "stream",
     "text": [
      "The slowest run took 14.26 times longer than the fastest. This could mean that an intermediate result is being cached.\n",
      "100000 loops, best of 3: 6.07 µs per loop\n"
     ]
    }
   ],
   "source": [
    "%timeit cy_func.kernel(np.array([[300., 0.5, 0.5]]), np.array([0.]))"
   ]
  },
  {
   "cell_type": "code",
   "execution_count": 6,
   "metadata": {},
   "outputs": [
    {
     "name": "stdout",
     "output_type": "stream",
     "text": [
      "10 loops, best of 3: 43.3 ms per loop\n"
     ]
    }
   ],
   "source": [
    "%%timeit\n",
    "tf_func = lambdify(mod.variables, mod.GM, modules='tensorflow')"
   ]
  },
  {
   "cell_type": "code",
   "execution_count": 23,
   "metadata": {},
   "outputs": [],
   "source": [
    "tf_func = lambdify(mod.variables, mod.GM, modules='tensorflow')"
   ]
  },
  {
   "cell_type": "code",
   "execution_count": 28,
   "metadata": {},
   "outputs": [
    {
     "name": "stdout",
     "output_type": "stream",
     "text": [
      "1 loop, best of 3: 161 ms per loop\n"
     ]
    }
   ],
   "source": [
    "%%timeit\n",
    "x1 = tf.placeholder(\"float\", None)\n",
    "x2 = tf.placeholder(\"float\", None)\n",
    "x3 = tf.placeholder(\"float\", None)\n",
    "result = tf_func(x1, x2, x3)"
   ]
  },
  {
   "cell_type": "code",
   "execution_count": null,
   "metadata": {},
   "outputs": [],
   "source": [
    "x1 = tf.placeholder(\"float\", None)\n",
    "x2 = tf.placeholder(\"float\", None)\n",
    "x3 = tf.placeholder(\"float\", None)\n",
    "result = tf_func(x1, x2, x3)"
   ]
  },
  {
   "cell_type": "code",
   "execution_count": 27,
   "metadata": {},
   "outputs": [
    {
     "name": "stdout",
     "output_type": "stream",
     "text": [
      "The slowest run took 4.49 times longer than the fastest. This could mean that an intermediate result is being cached.\n",
      "1000 loops, best of 3: 448 µs per loop\n"
     ]
    }
   ],
   "source": [
    "%timeit sess.run(result, {x1: 300., x2: 0.5, x3: 0.5})"
   ]
  },
  {
   "cell_type": "code",
   "execution_count": null,
   "metadata": {},
   "outputs": [],
   "source": []
  }
 ],
 "metadata": {
  "kernelspec": {
   "display_name": "Python 3",
   "language": "python",
   "name": "python3"
  },
  "language_info": {
   "codemirror_mode": {
    "name": "ipython",
    "version": 3
   },
   "file_extension": ".py",
   "mimetype": "text/x-python",
   "name": "python",
   "nbconvert_exporter": "python",
   "pygments_lexer": "ipython3",
   "version": "3.5.2"
  }
 },
 "nbformat": 4,
 "nbformat_minor": 2
}
