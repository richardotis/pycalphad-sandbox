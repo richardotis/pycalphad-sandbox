{
 "cells": [
  {
   "cell_type": "code",
   "execution_count": 10,
   "metadata": {},
   "outputs": [],
   "source": [
    "from pycalphad import Database, Model, calculate, equilibrium, variables as v\n",
    "from xarray import DataArray"
   ]
  },
  {
   "cell_type": "code",
   "execution_count": 11,
   "metadata": {},
   "outputs": [],
   "source": [
    "class PrecipitateModel(Model):\n",
    "    matrix_chempots = []\n",
    "    @property\n",
    "    def matrix_hyperplane(self):\n",
    "        return sum(self.moles(self.nonvacant_elements[i])*self.matrix_chempots[i]\n",
    "                   for i in range(len(self.nonvacant_elements)))\n",
    "    @property\n",
    "    def GM(self):\n",
    "        return self.ast - self.matrix_hyperplane"
   ]
  },
  {
   "cell_type": "code",
   "execution_count": 31,
   "metadata": {},
   "outputs": [
    {
     "name": "stdout",
     "output_type": "stream",
     "text": [
      "[-48964.09186754 -24922.57302051]\n",
      "<xarray.Dataset>\n",
      "Dimensions:    (N: 1, P: 1, T: 1, component: 2, internal_dof: 3, points: 4002)\n",
      "Coordinates:\n",
      "  * component  (component) <U2 'CU' 'ZR'\n",
      "  * N          (N) float64 1.0\n",
      "  * P          (P) float64 1e+05\n",
      "  * T          (T) float64 600.0\n",
      "Dimensions without coordinates: internal_dof, points\n",
      "Data variables:\n",
      "    X          (N, P, T, points, component) float64 1.0 1e-15 ... 0.7439 0.2561\n",
      "    Phase      (N, P, T, points) <U6 'BCC_A2' 'BCC_A2' ... 'BCC_A2' 'BCC_A2'\n",
      "    Y          (N, P, T, points, internal_dof) float64 1.0 1e-15 ... 0.2561 1.0\n",
      "    GM         (N, P, T, points) float64 -1.96e+04 -2.394e+04 ... -2.412e+04\n"
     ]
    },
    {
     "data": {
      "text/plain": [
       "<xarray.Dataset>\n",
       "Dimensions:    (N: 1, P: 1, T: 1, component: 2, internal_dof: 3)\n",
       "Coordinates:\n",
       "  * component  (component) <U2 'CU' 'ZR'\n",
       "  * N          (N) float64 1.0\n",
       "  * P          (P) float64 1e+05\n",
       "  * T          (T) float64 600.0\n",
       "Dimensions without coordinates: internal_dof\n",
       "Data variables:\n",
       "    X          (N, P, T, component) float64 1.0 1e-15\n",
       "    Phase      (N, P, T) <U6 'BCC_A2'\n",
       "    Y          (N, P, T, internal_dof) float64 1.0 1e-15 1.0\n",
       "    GM         (N, P, T) float64 2.936e+04"
      ]
     },
     "execution_count": 31,
     "metadata": {},
     "output_type": "execute_result"
    }
   ],
   "source": [
    "def parallel_tangent(dbf, comps, matrix_phase, matrix_comp, precipitate_phase):\n",
    "    temp = 600 # K\n",
    "    conds = {v.N: 1, v.P: 1e5, v.T: temp}\n",
    "    conds.update(matrix_comp)\n",
    "    matrix_eq = equilibrium(dbf, comps, matrix_phase, conds)\n",
    "    matrix_chempots = matrix_eq.MU.values.flatten()\n",
    "    print(matrix_chempots)\n",
    "    # Will not work until mass balance constraint can be relaxed\n",
    "    #precip = PrecipitateModel(dbf, comps, precipitate_phase)\n",
    "    #precip.matrix_chempots = matrix_chempots\n",
    "    #conds = {v.N: 1, v.P: 1e5, v.T: temp}\n",
    "    #df_eq = equilibrium(dbf, comps, precipitate_phase, conds, model=precip)\n",
    "    df_eq = calculate(dbf, comps, precipitate_phase, T=temp, N=1, P=1e5)\n",
    "    print(df_eq)\n",
    "    df_eq['GM'] = df_eq.GM - df_eq.X.values[0,0,0].dot(matrix_chempots)\n",
    "    selected_idx = df_eq.GM.argmax()\n",
    "    return df_eq.isel(points=selected_idx)\n",
    "    \n",
    "dbf = Database('Al-Cu-Zr_Zhou.tdb')\n",
    "comps = ['CU', 'ZR', 'VA']\n",
    "parallel_tangent(dbf, comps, 'LIQUID', {v.X('CU'): 0.4}, 'BCC_A2')"
   ]
  },
  {
   "cell_type": "code",
   "execution_count": 39,
   "metadata": {},
   "outputs": [
    {
     "data": {
      "image/png": "[encoded data removed]",
      "text/plain": [
       "<Figure size 648x432 with 1 Axes>"
      ]
     },
     "metadata": {
      "needs_background": "light"
     },
     "output_type": "display_data"
    }
   ],
   "source": [
    "from pycalphad import calculate\n",
    "import matplotlib.pyplot as plt\n",
    "from pycalphad.plot.utils import phase_legend\n",
    "import numpy as np\n",
    "\n",
    "my_phases = ['T7', 'BCC_A2']\n",
    "legend_handles, colorlist = phase_legend(my_phases)\n",
    "\n",
    "fig = plt.figure(figsize=(9,6))\n",
    "ax = fig.gca()\n",
    "for name in my_phases:\n",
    "    result = calculate(dbf, ['CU', 'ZR', 'VA'], name, P=101325, T=300, output='GM')\n",
    "    ax.scatter(result.X.sel(component='ZR'), result.GM,\n",
    "               marker='.', s=5, color=colorlist[name.upper()])\n",
    "ax.set_xlim((0, 1))\n",
    "ax.legend(handles=legend_handles, loc='center left', bbox_to_anchor=(1, 0.6))\n",
    "plt.show()"
   ]
  },
  {
   "cell_type": "code",
   "execution_count": 37,
   "metadata": {},
   "outputs": [
    {
     "data": {
      "text/plain": [
       "{'LIQUID': Phase({'name': 'LIQUID', 'constituents': (frozenset({Species('ZR', 'ZR1'), Species('AL', 'AL1'), Species('CU', 'CU1')}),), 'sublattices': (1.0,), 'model_hints': {'liquid': True}}),\n",
       " 'AL2CU': Phase({'name': 'AL2CU', 'constituents': (frozenset({Species('AL', 'AL1')}), frozenset({Species('AL', 'AL1'), Species('CU', 'CU1')})), 'sublattices': (2.0, 1.0), 'model_hints': {}}),\n",
       " 'AL2ZR': Phase({'name': 'AL2ZR', 'constituents': (frozenset({Species('AL', 'AL1'), Species('CU', 'CU1')}), frozenset({Species('ZR', 'ZR1')})), 'sublattices': (2.0, 1.0), 'model_hints': {}}),\n",
       " 'AL2ZR3': Phase({'name': 'AL2ZR3', 'constituents': (frozenset({Species('AL', 'AL1'), Species('CU', 'CU1')}), frozenset({Species('ZR', 'ZR1')})), 'sublattices': (2.0, 3.0), 'model_hints': {}}),\n",
       " 'AL3ZR2': Phase({'name': 'AL3ZR2', 'constituents': (frozenset({Species('AL', 'AL1'), Species('CU', 'CU1')}), frozenset({Species('ZR', 'ZR1')})), 'sublattices': (3.0, 2.0), 'model_hints': {}}),\n",
       " 'AL3ZR4': Phase({'name': 'AL3ZR4', 'constituents': (frozenset({Species('AL', 'AL1'), Species('CU', 'CU1')}), frozenset({Species('ZR', 'ZR1')})), 'sublattices': (3.0, 4.0), 'model_hints': {}}),\n",
       " 'AL3ZR5': Phase({'name': 'AL3ZR5', 'constituents': (frozenset({Species('AL', 'AL1'), Species('CU', 'CU1')}), frozenset({Species('ZR', 'ZR1')})), 'sublattices': (3.0, 5.0), 'model_hints': {}}),\n",
       " 'AL4ZR5': Phase({'name': 'AL4ZR5', 'constituents': (frozenset({Species('AL', 'AL1'), Species('CU', 'CU1')}), frozenset({Species('ZR', 'ZR1')})), 'sublattices': (4.0, 5.0), 'model_hints': {}}),\n",
       " 'AL5CU8': Phase({'name': 'AL5CU8', 'constituents': (frozenset({Species('AL', 'AL1')}), frozenset({Species('CU', 'CU1')})), 'sublattices': (5.0, 8.0), 'model_hints': {}}),\n",
       " 'AL9CU11': Phase({'name': 'AL9CU11', 'constituents': (frozenset({Species('AL', 'AL1'), Species('CU', 'CU1')}), frozenset({Species('CU', 'CU1')})), 'sublattices': (9.0, 11.0), 'model_hints': {}}),\n",
       " 'ALPHA2': Phase({'name': 'ALPHA2', 'constituents': (frozenset({Species('AL', 'AL1')}), frozenset({Species('CU', 'CU1')})), 'sublattices': (0.23, 0.77), 'model_hints': {}}),\n",
       " 'ALZR': Phase({'name': 'ALZR', 'constituents': (frozenset({Species('AL', 'AL1'), Species('CU', 'CU1')}), frozenset({Species('ZR', 'ZR1')})), 'sublattices': (1.0, 1.0), 'model_hints': {}}),\n",
       " 'ALZR2': Phase({'name': 'ALZR2', 'constituents': (frozenset({Species('AL', 'AL1'), Species('CU', 'CU1')}), frozenset({Species('ZR', 'ZR1')})), 'sublattices': (1.0, 2.0), 'model_hints': {}}),\n",
       " 'ALZR3': Phase({'name': 'ALZR3', 'constituents': (frozenset({Species('AL', 'AL1'), Species('CU', 'CU1')}), frozenset({Species('ZR', 'ZR1')})), 'sublattices': (1.0, 3.0), 'model_hints': {}}),\n",
       " 'BCC_A2': Phase({'name': 'BCC_A2', 'constituents': (frozenset({Species('ZR', 'ZR1'), Species('AL', 'AL1'), Species('CU', 'CU1')}), frozenset({Species('VA', 'VA1')})), 'sublattices': (1.0, 3.0), 'model_hints': {}}),\n",
       " 'CBCC_A12': Phase({'name': 'CBCC_A12', 'constituents': (frozenset({Species('AL', 'AL1')}), frozenset({Species('VA', 'VA1')})), 'sublattices': (1.0, 1.0), 'model_hints': {}}),\n",
       " 'CU10ZR7': Phase({'name': 'CU10ZR7', 'constituents': (frozenset({Species('AL', 'AL1'), Species('CU', 'CU1')}), frozenset({Species('ZR', 'ZR1')})), 'sublattices': (10.0, 7.0), 'model_hints': {}}),\n",
       " 'CU2ZR': Phase({'name': 'CU2ZR', 'constituents': (frozenset({Species('AL', 'AL1'), Species('CU', 'CU1')}), frozenset({Species('ZR', 'ZR1')})), 'sublattices': (2.0, 1.0), 'model_hints': {}}),\n",
       " 'CU51ZR14': Phase({'name': 'CU51ZR14', 'constituents': (frozenset({Species('AL', 'AL1'), Species('CU', 'CU1')}), frozenset({Species('ZR', 'ZR1')})), 'sublattices': (51.0, 14.0), 'model_hints': {}}),\n",
       " 'CU5ZR7': Phase({'name': 'CU5ZR7', 'constituents': (frozenset({Species('AL', 'AL1'), Species('CU', 'CU1')}), frozenset({Species('ZR', 'ZR1')})), 'sublattices': (5.0, 7.0), 'model_hints': {}}),\n",
       " 'CU8ZR3': Phase({'name': 'CU8ZR3', 'constituents': (frozenset({Species('AL', 'AL1'), Species('CU', 'CU1')}), frozenset({Species('ZR', 'ZR1')})), 'sublattices': (8.0, 3.0), 'model_hints': {}}),\n",
       " 'CU9ZR2': Phase({'name': 'CU9ZR2', 'constituents': (frozenset({Species('CU', 'CU1')}), frozenset({Species('ZR', 'ZR1'), Species('AL', 'AL1')})), 'sublattices': (9.0, 2.0), 'model_hints': {}}),\n",
       " 'CUB_A13': Phase({'name': 'CUB_A13', 'constituents': (frozenset({Species('AL', 'AL1')}), frozenset({Species('VA', 'VA1')})), 'sublattices': (1.0, 1.0), 'model_hints': {}}),\n",
       " 'CUZR': Phase({'name': 'CUZR', 'constituents': (frozenset({Species('AL', 'AL1'), Species('CU', 'CU1')}), frozenset({Species('ZR', 'ZR1')})), 'sublattices': (1.0, 1.0), 'model_hints': {}}),\n",
       " 'CUZR2': Phase({'name': 'CUZR2', 'constituents': (frozenset({Species('AL', 'AL1'), Species('CU', 'CU1')}), frozenset({Species('ZR', 'ZR1')})), 'sublattices': (1.0, 2.0), 'model_hints': {}}),\n",
       " 'EPS2': Phase({'name': 'EPS2', 'constituents': (frozenset({Species('AL', 'AL1'), Species('CU', 'CU1')}), frozenset({Species('CU', 'CU1')})), 'sublattices': (1.0, 1.0), 'model_hints': {}}),\n",
       " 'ETA1': Phase({'name': 'ETA1', 'constituents': (frozenset({Species('AL', 'AL1'), Species('CU', 'CU1')}), frozenset({Species('CU', 'CU1')})), 'sublattices': (1.0, 1.0), 'model_hints': {}}),\n",
       " 'ETA2': Phase({'name': 'ETA2', 'constituents': (frozenset({Species('AL', 'AL1')}), frozenset({Species('CU', 'CU1')})), 'sublattices': (0.48, 0.52), 'model_hints': {}}),\n",
       " 'FCC_A1': Phase({'name': 'FCC_A1', 'constituents': (frozenset({Species('ZR', 'ZR1'), Species('AL', 'AL1'), Species('CU', 'CU1')}), frozenset({Species('VA', 'VA1')})), 'sublattices': (1.0, 1.0), 'model_hints': {}}),\n",
       " 'GAM1': Phase({'name': 'GAM1', 'constituents': (frozenset({Species('CU', 'CU1')}), frozenset({Species('CU', 'CU1')}), frozenset({Species('AL', 'AL1'), Species('CU', 'CU1')})), 'sublattices': (4.0, 6.0, 16.0), 'model_hints': {}}),\n",
       " 'GAM2': Phase({'name': 'GAM2', 'constituents': (frozenset({Species('CU', 'CU1')}), frozenset({Species('CU', 'CU1')}), frozenset({Species('AL', 'AL1'), Species('CU', 'CU1')})), 'sublattices': (4.0, 6.0, 16.0), 'model_hints': {}}),\n",
       " 'HCP_A3': Phase({'name': 'HCP_A3', 'constituents': (frozenset({Species('ZR', 'ZR1'), Species('AL', 'AL1'), Species('CU', 'CU1')}), frozenset({Species('VA', 'VA1')})), 'sublattices': (1.0, 0.5), 'model_hints': {}}),\n",
       " 'M3ZR': Phase({'name': 'M3ZR', 'constituents': (frozenset({Species('AL', 'AL1'), Species('CU', 'CU1')}), frozenset({Species('ZR', 'ZR1')})), 'sublattices': (3.0, 1.0), 'model_hints': {}}),\n",
       " 'OMEGA': Phase({'name': 'OMEGA', 'constituents': (frozenset({Species('ZR', 'ZR1')}),), 'sublattices': (1.0,), 'model_hints': {}}),\n",
       " 'T1': Phase({'name': 'T1', 'constituents': (frozenset({Species('AL', 'AL1')}), frozenset({Species('CU', 'CU1')}), frozenset({Species('ZR', 'ZR1')})), 'sublattices': (14.0, 71.0, 15.0), 'model_hints': {}}),\n",
       " 'T11': Phase({'name': 'T11', 'constituents': (frozenset({Species('AL', 'AL1')}), frozenset({Species('CU', 'CU1')}), frozenset({Species('ZR', 'ZR1')})), 'sublattices': (13.0, 79.0, 8.0), 'model_hints': {}}),\n",
       " 'T2': Phase({'name': 'T2', 'constituents': (frozenset({Species('AL', 'AL1')}), frozenset({Species('CU', 'CU1')}), frozenset({Species('ZR', 'ZR1')})), 'sublattices': (3.0, 6.0, 16.0), 'model_hints': {}}),\n",
       " 'T3': Phase({'name': 'T3', 'constituents': (frozenset({Species('AL', 'AL1'), Species('CU', 'CU1')}), frozenset({Species('ZR', 'ZR1')})), 'sublattices': (1.0, 1.0), 'model_hints': {}}),\n",
       " 'T4': Phase({'name': 'T4', 'constituents': (frozenset({Species('AL', 'AL1')}), frozenset({Species('CU', 'CU1')}), frozenset({Species('ZR', 'ZR1')})), 'sublattices': (1.0, 2.0, 1.0), 'model_hints': {}}),\n",
       " 'T6': Phase({'name': 'T6', 'constituents': (frozenset({Species('AL', 'AL1')}), frozenset({Species('CU', 'CU1')}), frozenset({Species('ZR', 'ZR1')})), 'sublattices': (3.0, 4.0, 1.0), 'model_hints': {}}),\n",
       " 'T7': Phase({'name': 'T7', 'constituents': (frozenset({Species('AL', 'AL1'), Species('CU', 'CU1')}), frozenset({Species('ZR', 'ZR1')})), 'sublattices': (12.0, 1.0), 'model_hints': {}}),\n",
       " 'T9': Phase({'name': 'T9', 'constituents': (frozenset({Species('AL', 'AL1')}), frozenset({Species('CU', 'CU1')}), frozenset({Species('ZR', 'ZR1')})), 'sublattices': (68.0, 15.0, 17.0), 'model_hints': {}})}"
      ]
     },
     "execution_count": 37,
     "metadata": {},
     "output_type": "execute_result"
    }
   ],
   "source": [
    "dbf.phases"
   ]
  },
  {
   "cell_type": "code",
   "execution_count": null,
   "metadata": {},
   "outputs": [],
   "source": []
  }
 ],
 "metadata": {
  "kernelspec": {
   "display_name": "Python 3",
   "language": "python",
   "name": "python3"
  },
  "language_info": {
   "codemirror_mode": {
    "name": "ipython",
    "version": 3
   },
   "file_extension": ".py",
   "mimetype": "text/x-python",
   "name": "python",
   "nbconvert_exporter": "python",
   "pygments_lexer": "ipython3",
   "version": "3.7.3"
  }
 },
 "nbformat": 4,
 "nbformat_minor": 2
}
