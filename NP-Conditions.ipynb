{
 "cells": [
  {
   "cell_type": "code",
   "execution_count": 1,
   "metadata": {},
   "outputs": [],
   "source": [
    "from pycalphad import Database, Model, variables as v\n",
    "from pycalphad import equilibrium, calculate\n",
    "import numpy as np\n",
    "from pycalphad.tests.datasets import *\n",
    "dbf = Database('alzn_mey.tdb')"
   ]
  },
  {
   "cell_type": "code",
   "execution_count": 2,
   "metadata": {
    "scrolled": true
   },
   "outputs": [
    {
     "name": "stdout",
     "output_type": "stream",
     "text": [
      "('Composition Sets', [CompositionSet(FCC_A1, [0.11022044 0.88977956], NP=0.3333333333333333, GM=-49634.65671841146), CompositionSet(HCP_A3, [0.03006012 0.96993988], NP=0.3333333333333333, GM=-50490.08145164182), CompositionSet(LIQUID, [0.05811623 0.94188377], NP=0.0001 [fixed], GM=-53231.39019434171)])\n",
      "('Chemical Potentials', array([0., 0.]))\n",
      "Trying to improve poor solution\n",
      "Calculation Failed:  OrderedDict([('N', array(1.)), ('NP_LIQUID', array(0.0001)), ('P', array(100000.)), ('X_ZN', array(0.0001))]) b\"Restoration phase failed, algorithm doesn't know how to proceed.\"\n",
      "Chemical Potentials [-5625.11667848 -9260.85608864]\n",
      "[1.00000000e+00 1.00000000e+05 1.00000000e-06 1.79170456e-10\n",
      " 1.46201273e-10 1.16415322e-10 1.00000001e+06 2.41173741e+03\n",
      " 4.43595388e+03 5.49002284e-04]\n",
      "[1.00000000e+00 1.00000000e+05 3.00000000e+02 9.97257972e-01\n",
      " 2.74202829e-03 9.98058935e-01 1.94106472e-03 2.62233591e-03\n",
      " 9.97377664e-01 5.86390262e-01 4.13608748e-01 1.00000000e-06]\n",
      "Status: -2 b\"Restoration phase failed, algorithm doesn't know how to proceed.\"\n",
      "<xarray.Dataset>\n",
      "Dimensions:    (N: 1, NP_LIQUID: 1, P: 1, X_ZN: 1, component: 2, internal_dof: 2, vertex: 3)\n",
      "Coordinates:\n",
      "  * N          (N) float64 1.0\n",
      "  * NP_LIQUID  (NP_LIQUID) float64 0.0001\n",
      "  * P          (P) float64 1e+05\n",
      "  * X_ZN       (X_ZN) float64 0.0001\n",
      "  * vertex     (vertex) int64 0 1 2\n",
      "  * component  (component) <U2 'AL' 'ZN'\n",
      "Dimensions without coordinates: internal_dof\n",
      "Data variables:\n",
      "    NP         (N, P, NP_LIQUID, X_ZN, vertex) float64 nan nan nan\n",
      "    GM         (N, P, NP_LIQUID, X_ZN) float64 nan\n",
      "    MU         (N, P, NP_LIQUID, X_ZN, component) float64 nan nan\n",
      "    X          (N, P, NP_LIQUID, X_ZN, vertex, component) float64 nan ... nan\n",
      "    Y          (N, P, NP_LIQUID, X_ZN, vertex, internal_dof) float64 nan ... nan\n",
      "    Phase      (N, P, NP_LIQUID, X_ZN, vertex) <U6 '' '' ''\n",
      "    T          (N, P, NP_LIQUID, X_ZN) float64 nan\n",
      "Attributes:\n",
      "    engine:   pycalphad 0.7.1.post2+33.gf8d132d\n",
      "    created:  2019-05-22T16:10:24.949663\n"
     ]
    }
   ],
   "source": [
    "from pycalphad.core.solver import InteriorPointSolver\n",
    "class ProblemSaver(InteriorPointSolver):\n",
    "    saved_problem = [None]\n",
    "    def solve(self, prob):\n",
    "        self.saved_problem[0] = prob\n",
    "        self.verbose = True\n",
    "        return super(ProblemSaver, self).solve(prob)\n",
    "v.T.default_value = 930\n",
    "eq2 = equilibrium(dbf, ['AL', 'ZN', 'VA'], ['FCC_A1', 'LIQUID', 'HCP_A3'],\n",
    "                 {v.X('ZN'): 1e-4, v.NP('LIQUID'): 1e-4,\n",
    "                  v.P: 1e5}, verbose=False, solver=ProblemSaver())\n",
    "print(eq2)"
   ]
  },
  {
   "cell_type": "code",
   "execution_count": 3,
   "metadata": {},
   "outputs": [
    {
     "data": {
      "text/plain": [
       "<xarray.DataArray (N: 1, P: 1, NP_LIQUID: 1, X_ZN: 1)>\n",
       "array([[[[nan]]]])\n",
       "Coordinates:\n",
       "  * N          (N) float64 1.0\n",
       "  * NP_LIQUID  (NP_LIQUID) float64 0.0001\n",
       "  * P          (P) float64 1e+05\n",
       "  * X_ZN       (X_ZN) float64 0.0001\n",
       "    vertex     int64 2"
      ]
     },
     "execution_count": 3,
     "metadata": {},
     "output_type": "execute_result"
    }
   ],
   "source": [
    "eq2.GM - ((eq2.NP.isel(vertex=0) * eq2.MU * eq2.X.isel(vertex=0)).sum() + \n",
    "          (eq2.NP.isel(vertex=1) * (eq2.MU * eq2.X.isel(vertex=1)).sum()) + \n",
    "          (eq2.NP.isel(vertex=2) * (eq2.MU * eq2.X.isel(vertex=2)).sum()))"
   ]
  },
  {
   "cell_type": "code",
   "execution_count": 4,
   "metadata": {
    "scrolled": true
   },
   "outputs": [
    {
     "data": {
      "text/plain": [
       "<xarray.DataArray 'X' (N: 1, P: 1, NP_LIQUID: 1, X_ZN: 1, vertex: 3, component: 2)>\n",
       "array([[[[[[nan, nan],\n",
       "           [nan, nan],\n",
       "           [nan, nan]]]]]])\n",
       "Coordinates:\n",
       "  * N          (N) float64 1.0\n",
       "  * NP_LIQUID  (NP_LIQUID) float64 0.0001\n",
       "  * P          (P) float64 1e+05\n",
       "  * X_ZN       (X_ZN) float64 0.0001\n",
       "  * vertex     (vertex) int64 0 1 2\n",
       "  * component  (component) <U2 'AL' 'ZN'"
      ]
     },
     "execution_count": 4,
     "metadata": {},
     "output_type": "execute_result"
    }
   ],
   "source": [
    "eq2.X"
   ]
  },
  {
   "cell_type": "code",
   "execution_count": 5,
   "metadata": {},
   "outputs": [
    {
     "name": "stdout",
     "output_type": "stream",
     "text": [
      "[0.0001]\n",
      "[nan]\n"
     ]
    },
    {
     "data": {
      "text/plain": [
       "Text(0, 0.5, 'T')"
      ]
     },
     "execution_count": 5,
     "metadata": {},
     "output_type": "execute_result"
    },
    {
     "data": {
      "image/png": "[encoded data removed]",
      "text/plain": [
       "<Figure size 432x288 with 1 Axes>"
      ]
     },
     "metadata": {
      "needs_background": "light"
     },
     "output_type": "display_data"
    }
   ],
   "source": [
    "%matplotlib inline\n",
    "import matplotlib.pyplot as plt\n",
    "print(eq2['X_ZN'].values.flatten())\n",
    "print(eq2['T'].values.flatten())\n",
    "plt.scatter(eq2['X_ZN'].values.flatten(), eq2['T'].values.flatten())\n",
    "plt.xlim((0,1))\n",
    "plt.xlabel('X(ZN)')\n",
    "plt.ylabel('T')"
   ]
  },
  {
   "cell_type": "code",
   "execution_count": 6,
   "metadata": {},
   "outputs": [],
   "source": [
    "fcc = calculate(dbf, ['AL', 'ZN', 'VA'], 'FCC_A1',\n",
    "                 T=float(eq2['T']), P=1e5)\n",
    "hcp = calculate(dbf, ['AL', 'ZN', 'VA'], 'HCP_A3',\n",
    "                 T=float(eq2['T']), P=1e5)\n",
    "liq = calculate(dbf, ['AL', 'ZN', 'VA'], 'LIQUID',\n",
    "                 T=float(eq2['T']), P=1e5)"
   ]
  },
  {
   "cell_type": "code",
   "execution_count": 7,
   "metadata": {},
   "outputs": [
    {
     "data": {
      "image/png": "[encoded data removed]",
      "text/plain": [
       "<Figure size 864x864 with 1 Axes>"
      ]
     },
     "metadata": {
      "needs_background": "light"
     },
     "output_type": "display_data"
    }
   ],
   "source": [
    "%matplotlib inline\n",
    "import matplotlib.pyplot as plt\n",
    "import numpy as np\n",
    "plt.figure(figsize=(12,12))\n",
    "plt.scatter(fcc.X.sel(component='ZN').values.flatten(),\n",
    "            fcc.GM.values.flatten(), c='g')\n",
    "plt.scatter(hcp.X.sel(component='ZN').values.flatten(),\n",
    "            hcp.GM.values.flatten(), c='y')\n",
    "plt.scatter(liq.X.sel(component='ZN').values.flatten(),\n",
    "            liq.GM.values.flatten(), c='b')\n",
    "plt.plot([0,1], eq2.MU.values.flatten())\n",
    "plt.scatter([1e-4], [float(eq2.GM)])\n",
    "plt.grid(True)"
   ]
  },
  {
   "cell_type": "code",
   "execution_count": 8,
   "metadata": {},
   "outputs": [
    {
     "data": {
      "text/plain": [
       "<xarray.DataArray 'Y' (N: 1, P: 1, NP_LIQUID: 1, X_ZN: 1, vertex: 3, internal_dof: 2)>\n",
       "array([[[[[[nan, nan],\n",
       "           [nan, nan],\n",
       "           [nan, nan]]]]]])\n",
       "Coordinates:\n",
       "  * N          (N) float64 1.0\n",
       "  * NP_LIQUID  (NP_LIQUID) float64 0.0001\n",
       "  * P          (P) float64 1e+05\n",
       "  * X_ZN       (X_ZN) float64 0.0001\n",
       "  * vertex     (vertex) int64 0 1 2\n",
       "Dimensions without coordinates: internal_dof"
      ]
     },
     "execution_count": 8,
     "metadata": {},
     "output_type": "execute_result"
    }
   ],
   "source": [
    "eq2.Y"
   ]
  },
  {
   "cell_type": "code",
   "execution_count": 9,
   "metadata": {},
   "outputs": [
    {
     "data": {
      "text/plain": [
       "<xarray.DataArray 'MU' (N: 1, P: 1, NP_LIQUID: 1, X_ZN: 1, component: 2)>\n",
       "array([[[[[nan, nan]]]]])\n",
       "Coordinates:\n",
       "  * N          (N) float64 1.0\n",
       "  * NP_LIQUID  (NP_LIQUID) float64 0.0001\n",
       "  * P          (P) float64 1e+05\n",
       "  * X_ZN       (X_ZN) float64 0.0001\n",
       "  * component  (component) <U2 'AL' 'ZN'"
      ]
     },
     "execution_count": 9,
     "metadata": {},
     "output_type": "execute_result"
    }
   ],
   "source": [
    "eq2.MU"
   ]
  },
  {
   "cell_type": "code",
   "execution_count": 10,
   "metadata": {},
   "outputs": [
    {
     "data": {
      "text/plain": [
       "<xarray.DataArray 'GM' (N: 1, P: 1, NP_LIQUID: 1, X_ZN: 1)>\n",
       "array([[[[nan]]]])\n",
       "Coordinates:\n",
       "  * N          (N) float64 1.0\n",
       "  * NP_LIQUID  (NP_LIQUID) float64 0.0001\n",
       "  * P          (P) float64 1e+05\n",
       "  * X_ZN       (X_ZN) float64 0.0001"
      ]
     },
     "execution_count": 10,
     "metadata": {},
     "output_type": "execute_result"
    }
   ],
   "source": [
    "eq2.GM"
   ]
  },
  {
   "cell_type": "code",
   "execution_count": 11,
   "metadata": {},
   "outputs": [
    {
     "data": {
      "text/plain": [
       "<matplotlib.legend.Legend at 0x7f6a6a401828>"
      ]
     },
     "execution_count": 11,
     "metadata": {},
     "output_type": "execute_result"
    },
    {
     "data": {
      "image/png": "[encoded data removed]",
      "text/plain": [
       "<Figure size 432x288 with 1 Axes>"
      ]
     },
     "metadata": {
      "needs_background": "light"
     },
     "output_type": "display_data"
    }
   ],
   "source": [
    "import numpy as np\n",
    "def constraint_calculator(temps):\n",
    "    # Should be zero at T=933\n",
    "    x_in = [1.00000000e+00,   1.00000000e+05,   3.00000000e+02,   9.97257972e-01,\n",
    "   2.74202827e-03,   9.98058935e-01,   1.94106495e-03,   2.62233490e-03,\n",
    "   9.97377665e-01,   5.86390285e-01,   4.13608725e-01,   1.00000000e-06]\n",
    "    desired_chempots = [-37840.74636944, -110371.97774282]\n",
    "    cons = []\n",
    "    total_chempots = []\n",
    "    fixed_chempots = []\n",
    "    free_chempots_1 = []\n",
    "    free_chempots_2 = []\n",
    "    for temp in temps:\n",
    "        x_in[2] = temp\n",
    "        cons.append(ProblemSaver.saved_problem[0].constraints(x_in))\n",
    "        total_chempots.append(ProblemSaver.saved_problem[0].chemical_potentials(x_in))\n",
    "        fixed_chempots.append(ProblemSaver.saved_problem[0].chemical_potentials(x_in, selected_phase=1))\n",
    "        free_chempots_1.append(ProblemSaver.saved_problem[0].chemical_potentials(x_in, selected_phase=0))\n",
    "        free_chempots_2.append(ProblemSaver.saved_problem[0].chemical_potentials(x_in, free_only=True))\n",
    "    cons = np.array(cons - np.array(ProblemSaver.saved_problem[0].cl))\n",
    "    total_chempots = np.array(total_chempots) - np.array(desired_chempots)\n",
    "    fixed_chempots = np.array(fixed_chempots) - np.array(desired_chempots)\n",
    "    free_chempots_1 = np.array(free_chempots_1) - np.array(desired_chempots)\n",
    "    free_chempots_2 = np.array(free_chempots_2) - np.array(desired_chempots)\n",
    "    return cons, total_chempots, fixed_chempots, free_chempots_1, free_chempots_2\n",
    "\n",
    "def constraint_calculator_2(xfccs):\n",
    "    # Should be zero at T=933\n",
    "    x_in = [1.00000000e+00,   1.00000000e+05,   3.00000000e+02,   9.97257972e-01,\n",
    "   2.74202827e-03,   9.98058935e-01,   1.94106495e-03,   2.62233490e-03,\n",
    "   9.97377665e-01,   5.86390285e-01,   4.13608725e-01,   1.00000000e-06]\n",
    "    desired_chempots = [-37840.74636944, -110371.97774282]\n",
    "    cons = []\n",
    "    total_chempots = []\n",
    "    fixed_chempots = []\n",
    "    free_chempots_1 = []\n",
    "    free_chempots_2 = []\n",
    "    for xfcc in xfccs:\n",
    "        x_in[2] = 933\n",
    "        x_in[3] = xfcc\n",
    "        x_in[4] - 1-xfcc\n",
    "        cons.append(ProblemSaver.saved_problem[0].constraints(x_in))\n",
    "        total_chempots.append(ProblemSaver.saved_problem[0].chemical_potentials(x_in))\n",
    "        fixed_chempots.append(ProblemSaver.saved_problem[0].chemical_potentials(x_in, selected_phase=1))\n",
    "        free_chempots_1.append(ProblemSaver.saved_problem[0].chemical_potentials(x_in, selected_phase=0))\n",
    "        free_chempots_2.append(ProblemSaver.saved_problem[0].chemical_potentials(x_in, free_only=True))\n",
    "    cons = np.array(cons - np.array(ProblemSaver.saved_problem[0].cl))\n",
    "    total_chempots = np.array(total_chempots) - np.array(desired_chempots)\n",
    "    fixed_chempots = np.array(fixed_chempots) - np.array(desired_chempots)\n",
    "    free_chempots_1 = np.array(free_chempots_1) - np.array(desired_chempots)\n",
    "    free_chempots_2 = np.array(free_chempots_2) - np.array(desired_chempots)\n",
    "    return cons, total_chempots, fixed_chempots, free_chempots_1, free_chempots_2\n",
    "\n",
    "temps = np.arange(300., 2000., step=100)\n",
    "xfccs = np.linspace(1e-6,1-1e-6, num=100)\n",
    "results = constraint_calculator(temps)\n",
    "results_2 = constraint_calculator_2(xfccs)\n",
    "\n",
    "%matplotlib inline\n",
    "import matplotlib.pyplot as plt\n",
    "plt.plot(temps, results[0][:, -2], label='cons 1')\n",
    "plt.plot(temps, results[0][:, -1], label='cons 2')\n",
    "plt.plot(temps, results[1][:, 0], label='total')\n",
    "plt.plot(temps, results[2][:, 0], label='fixed')\n",
    "plt.plot(temps, results[3][:, 0], label='free 1')\n",
    "plt.plot(temps, results[4][:, 0], label='free 2')\n",
    "#plt.ylim((-1000, 1000))\n",
    "#plt.xlim((700, 900))\n",
    "#plt.plot(xfccs, results_2[0][:, -2], label='cons 1')\n",
    "#plt.plot(xfccs, results_2[0][:, -1], label='cons 2')\n",
    "#plt.xlim((0,0.1))\n",
    "plt.legend(loc='best')"
   ]
  },
  {
   "cell_type": "code",
   "execution_count": 12,
   "metadata": {},
   "outputs": [
    {
     "data": {
      "text/plain": [
       "0"
      ]
     },
     "execution_count": 12,
     "metadata": {},
     "output_type": "execute_result"
    }
   ],
   "source": [
    "np.argmin(np.abs(results_2[0][:, -1]))"
   ]
  },
  {
   "cell_type": "code",
   "execution_count": 13,
   "metadata": {},
   "outputs": [
    {
     "data": {
      "text/plain": [
       "0.010101989898989897"
      ]
     },
     "execution_count": 13,
     "metadata": {},
     "output_type": "execute_result"
    }
   ],
   "source": [
    "xfccs[1]"
   ]
  },
  {
   "cell_type": "code",
   "execution_count": 14,
   "metadata": {},
   "outputs": [
    {
     "data": {
      "text/plain": [
       "array([ 4435.95365963,  8862.03732084, 13286.41980792, 17705.7904437 ,\n",
       "       22112.93527331, 26503.39500828, 30888.03652269, 35271.18282894,\n",
       "       39653.88934555, 44036.44486113, 48418.94323598, 52801.41818906,\n",
       "       57183.88286977, 61566.34277611, 76923.97786827, 82272.80919738,\n",
       "       87621.64057337])"
      ]
     },
     "execution_count": 14,
     "metadata": {},
     "output_type": "execute_result"
    }
   ],
   "source": [
    "results[0][:, -2]"
   ]
  },
  {
   "cell_type": "code",
   "execution_count": null,
   "metadata": {},
   "outputs": [],
   "source": []
  }
 ],
 "metadata": {
  "kernelspec": {
   "display_name": "Python 3",
   "language": "python",
   "name": "python3"
  },
  "language_info": {
   "codemirror_mode": {
    "name": "ipython",
    "version": 3
   },
   "file_extension": ".py",
   "mimetype": "text/x-python",
   "name": "python",
   "nbconvert_exporter": "python",
   "pygments_lexer": "ipython3",
   "version": "3.7.0"
  }
 },
 "nbformat": 4,
 "nbformat_minor": 1
}
