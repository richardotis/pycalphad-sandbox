{
 "cells": [
  {
   "cell_type": "code",
   "execution_count": 1,
   "metadata": {},
   "outputs": [],
   "source": [
    "from pycalphad import Database, Model, variables as v\n",
    "from pycalphad import equilibrium, calculate\n",
    "import numpy as np\n",
    "from pycalphad.tests.datasets import *\n",
    "dbf = Database('alzn_mey.tdb')"
   ]
  },
  {
   "cell_type": "code",
   "execution_count": 7,
   "metadata": {
    "scrolled": true
   },
   "outputs": [
    {
     "name": "stdout",
     "output_type": "stream",
     "text": [
      "Components: AL VA ZN\n",
      "Phases: FCC_A1 \n",
      "HCP_A3 \n",
      "LIQUID \n",
      "[done]\n",
      "dual_inf 23750.01639900417\n",
      "Trying to improve poor solution\n",
      "Calculation Failed:  OrderedDict([('N', array(1.)), ('NP_LIQUID', array(0.9999)), ('P', array(100000.)), ('X_ZN', array(0.25))]) b'Maximum number of iterations exceeded (can be specified by an option).'\n",
      "Chemical Potentials [-22003.96389693 -35522.86524671]\n",
      "[9.99999990e-12 1.00000000e-16 1.47600660e-14 9.99999980e-12\n",
      " 1.40561120e+04 1.18173861e-11 6.50240713e-11 1.33337750e-11\n",
      " 3.99960228e-11 1.02019996e-07 3.57654309e+03 1.00010100e-11]\n",
      "[1.00000000e+00 1.00000000e+05 6.77503746e+02 1.00000001e+00\n",
      " 1.00000000e-15 8.46210810e-01 1.53789190e-01 7.49975150e-01\n",
      " 2.50024850e-01 9.90100000e-05 1.00000000e-06 9.99900000e-01]\n",
      "Status: -1 b'Maximum number of iterations exceeded (can be specified by an option).'\n",
      "('Exceeded zero seen:', CompositionSet(HCP_A3, [1.e-15 1.e+00], NP=1e-06, GM=-12489.369042318192))\n",
      "Removing CompositionSet(HCP_A3, [1.e-15 1.e+00], NP=nan, GM=-12489.369042318192)\n",
      "dual_inf 0.4415458295917745\n",
      "Trying to improve poor solution\n",
      "Calculation Failed:  OrderedDict([('N', array(1.)), ('NP_LIQUID', array(0.9999)), ('P', array(100000.)), ('X_ZN', array(0.25))]) b\"Restoration phase failed, algorithm doesn't know how to proceed.\"\n",
      "Chemical Potentials [-0.44341093 -2.13879498]\n",
      "[1.94914392e-11 1.94914394e-16 9.80451413e-11 1.09120336e-11\n",
      " 2.08478177e-10 2.59900859e-11 7.79522505e-11 1.96863341e-07\n",
      " 1.94934080e-11]\n",
      "[1.00000000e+00 1.00000000e+05 1.85603622e-01 7.66072602e-01\n",
      " 2.33927398e-01 7.49998393e-01 2.50001607e-01 1.00000000e-04\n",
      " 9.99900000e-01]\n",
      "Status: -2 b\"Restoration phase failed, algorithm doesn't know how to proceed.\"\n",
      "<xarray.Dataset>\n",
      "Dimensions:    (N: 1, NP_LIQUID: 1, P: 1, X_ZN: 1, component: 2, internal_dof: 2, vertex: 3)\n",
      "Coordinates:\n",
      "  * N          (N) float64 1.0\n",
      "  * NP_LIQUID  (NP_LIQUID) float64 0.9999\n",
      "  * P          (P) float64 1e+05\n",
      "  * X_ZN       (X_ZN) float64 0.25\n",
      "  * vertex     (vertex) int32 0 1 2\n",
      "  * component  (component) <U2 'AL' 'ZN'\n",
      "Dimensions without coordinates: internal_dof\n",
      "Data variables:\n",
      "    NP         (N, P, NP_LIQUID, X_ZN, vertex) float64 nan nan nan\n",
      "    GM         (N, P, NP_LIQUID, X_ZN) float64 nan\n",
      "    MU         (N, P, NP_LIQUID, X_ZN, component) float64 nan nan\n",
      "    X          (N, P, NP_LIQUID, X_ZN, vertex, component) float64 nan ... nan\n",
      "    Y          (N, P, NP_LIQUID, X_ZN, vertex, internal_dof) float64 nan ... nan\n",
      "    Phase      (N, P, NP_LIQUID, X_ZN, vertex) <U6 '' '' ''\n",
      "    T          (N, P, NP_LIQUID, X_ZN) float64 nan\n",
      "Attributes:\n",
      "    engine:   pycalphad 0.7.1.post2+13.gcdd027d8.dirty\n",
      "    created:  2019-03-28T22:27:13.103209\n"
     ]
    }
   ],
   "source": [
    "v.T.default_value = 300\n",
    "eq2 = equilibrium(dbf, ['AL', 'ZN', 'VA'], ['FCC_A1', 'HCP_A3', 'LIQUID'],\n",
    "                 {v.X('ZN'): 0.25, v.NP('LIQUID'): 0.9999,\n",
    "                  v.P: 1e5}, verbose=True)\n",
    "print(eq2)"
   ]
  },
  {
   "cell_type": "code",
   "execution_count": 6,
   "metadata": {},
   "outputs": [
    {
     "data": {
      "text/plain": [
       "<xarray.DataArray (N: 1, P: 1, NP_LIQUID: 1, X_ZN: 1)>\n",
       "array([[[[-9.817231e-07]]]])\n",
       "Coordinates:\n",
       "  * N          (N) float64 1.0\n",
       "  * NP_LIQUID  (NP_LIQUID) float64 0.9999\n",
       "  * P          (P) float64 1e+05\n",
       "  * X_ZN       (X_ZN) float64 0.25"
      ]
     },
     "execution_count": 6,
     "metadata": {},
     "output_type": "execute_result"
    }
   ],
   "source": [
    "eq2.GM - ((eq2.NP.isel(vertex=0) * eq2.MU * eq2.X.isel(vertex=0)).sum() + (eq2.NP.isel(vertex=1) * (eq2.MU * eq2.X.isel(vertex=1)).sum()))"
   ]
  },
  {
   "cell_type": "code",
   "execution_count": 4,
   "metadata": {},
   "outputs": [],
   "source": [
    "fcc = calculate(dbf, ['AL', 'ZN', 'VA'], 'FCC_A1',\n",
    "                 T=(300,2000,20), P=1e5, output='HM', points=[[0.828636,  0.171364]])\n",
    "liq = calculate(dbf, ['AL', 'ZN', 'VA'], 'LIQUID',\n",
    "                 T=(300,2000,20), P=1e5, output='HM', points=[[0.549538,  0.450462]])"
   ]
  },
  {
   "cell_type": "code",
   "execution_count": 5,
   "metadata": {},
   "outputs": [
    {
     "data": {
      "image/png": "[encoded data removed]",
      "text/plain": [
       "<Figure size 432x288 with 1 Axes>"
      ]
     },
     "metadata": {
      "needs_background": "light"
     },
     "output_type": "display_data"
    }
   ],
   "source": [
    "%matplotlib inline\n",
    "import matplotlib.pyplot as plt\n",
    "import numpy as np\n",
    "\n",
    "plt.plot(fcc['T'], fcc.HM.values.flatten() - liq.HM.values.flatten())\n",
    "plt.grid(True)"
   ]
  },
  {
   "cell_type": "code",
   "execution_count": 6,
   "metadata": {},
   "outputs": [
    {
     "data": {
      "text/plain": [
       "<xarray.DataArray 'X' (N: 1, P: 1, NP_LIQUID: 1, X_ZN: 1, vertex: 3, component: 2)>\n",
       "array([[[[[[0.707461, 0.292539],\n",
       "           [0.858469, 0.141531],\n",
       "           [     nan,      nan]]]]]])\n",
       "Coordinates:\n",
       "  * N          (N) float64 1.0\n",
       "  * NP_LIQUID  (NP_LIQUID) float64 0.2817\n",
       "  * P          (P) float64 1e+05\n",
       "  * X_ZN       (X_ZN) float64 0.25\n",
       "  * vertex     (vertex) int32 0 1 2\n",
       "  * component  (component) <U2 'AL' 'ZN'"
      ]
     },
     "execution_count": 6,
     "metadata": {},
     "output_type": "execute_result"
    }
   ],
   "source": [
    "eq2.X"
   ]
  },
  {
   "cell_type": "code",
   "execution_count": null,
   "metadata": {},
   "outputs": [],
   "source": []
  }
 ],
 "metadata": {
  "kernelspec": {
   "display_name": "Python 3",
   "language": "python",
   "name": "python3"
  },
  "language_info": {
   "codemirror_mode": {
    "name": "ipython",
    "version": 3
   },
   "file_extension": ".py",
   "mimetype": "text/x-python",
   "name": "python",
   "nbconvert_exporter": "python",
   "pygments_lexer": "ipython3",
   "version": "3.6.6"
  }
 },
 "nbformat": 4,
 "nbformat_minor": 1
}
