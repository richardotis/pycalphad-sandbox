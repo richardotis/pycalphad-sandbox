{
 "cells": [
  {
   "cell_type": "code",
   "execution_count": 1,
   "metadata": {},
   "outputs": [],
   "source": [
    "from pycalphad import Database, Model, variables as v\n",
    "from pycalphad import equilibrium\n",
    "import numpy as np\n",
    "from pycalphad.tests.datasets import *\n",
    "dbf = Database('alzn_mey.tdb')"
   ]
  },
  {
   "cell_type": "code",
   "execution_count": 9,
   "metadata": {
    "scrolled": true
   },
   "outputs": [
    {
     "name": "stdout",
     "output_type": "stream",
     "text": [
      "Components: AL VA ZN\n",
      "Phases: FCC_A1 \n",
      "HCP_A3 \n",
      "LIQUID \n",
      "[done]\n",
      "('Redundant phase:', CompositionSet(LIQUID, [ 0.31170852  0.68829148], NP=1e-06, GM=-40399.43865636517))\n",
      "Removing CompositionSet(LIQUID, [ 0.31170852  0.68829148], NP=nan, GM=-40399.43865636517)\n",
      "Trying to improve poor solution\n",
      "Calculation Failed:  OrderedDict([('N', array(1.0)), ('NP_LIQUID', array(0.2817)), ('P', array(100000.0)), ('X_ZN', array(0.25))]) b'Maximum number of iterations exceeded (can be specified by an option).'\n",
      "Chemical Potentials [ -6.62814480e+08  -3.19404600e+09]\n",
      "[  9.99999990e-12   1.00000000e-16   3.60871787e-20   1.33332658e-11\n",
      "   4.00006048e-11   1.33335050e-11   3.99984522e-11   1.39217789e-11\n",
      "   3.54988823e-11]\n",
      "[  1.00000000e+00   1.00000000e+05   2.77106728e+08   7.50003790e-01\n",
      "   2.49996210e-01   7.49990336e-01   2.50009664e-01   7.18300000e-01\n",
      "   2.81700000e-01]\n",
      "Status: -1 b'Maximum number of iterations exceeded (can be specified by an option).'\n",
      "<xarray.Dataset>\n",
      "Dimensions:    (N: 1, NP_LIQUID: 1, P: 1, X_ZN: 1, component: 2, internal_dof: 2, vertex: 3)\n",
      "Coordinates:\n",
      "  * N          (N) float64 1.0\n",
      "  * NP_LIQUID  (NP_LIQUID) float64 0.2817\n",
      "  * P          (P) float64 1e+05\n",
      "  * X_ZN       (X_ZN) float64 0.25\n",
      "  * vertex     (vertex) int64 0 1 2\n",
      "  * component  (component) <U2 'AL' 'ZN'\n",
      "Dimensions without coordinates: internal_dof\n",
      "Data variables:\n",
      "    X          (N, P, NP_LIQUID, X_ZN, vertex, component) float64 nan nan ...\n",
      "    Y          (N, P, NP_LIQUID, X_ZN, vertex, internal_dof) float64 nan nan ...\n",
      "    Phase      (N, P, NP_LIQUID, X_ZN, vertex) <U6 '' '' ''\n",
      "    NP         (N, P, NP_LIQUID, X_ZN, vertex) float64 nan nan nan\n",
      "    GM         (N, P, NP_LIQUID, X_ZN) float64 nan\n",
      "    T          (N, P, NP_LIQUID, X_ZN) float64 nan\n",
      "    MU         (N, P, NP_LIQUID, X_ZN, component) float64 nan nan\n",
      "Attributes:\n",
      "    engine:   pycalphad 0.7.1.post2+12.gda5b5955\n",
      "    created:  2019-03-26T23:40:20.390950\n"
     ]
    }
   ],
   "source": [
    "v.T.default_value = 800\n",
    "eq2 = equilibrium(dbf, ['AL', 'ZN', 'VA'], ['FCC_A1', 'HCP_A3', 'LIQUID'],\n",
    "                 {v.X('ZN'): 0.25, v.NP('LIQUID'): 0.2817,\n",
    "                  v.P: 1e5}, verbose=True)\n",
    "print(eq2)"
   ]
  },
  {
   "cell_type": "code",
   "execution_count": null,
   "metadata": {},
   "outputs": [],
   "source": []
  }
 ],
 "metadata": {
  "kernelspec": {
   "display_name": "Python 3",
   "language": "python",
   "name": "python3"
  },
  "language_info": {
   "codemirror_mode": {
    "name": "ipython",
    "version": 3
   },
   "file_extension": ".py",
   "mimetype": "text/x-python",
   "name": "python",
   "nbconvert_exporter": "python",
   "pygments_lexer": "ipython3",
   "version": "3.5.2"
  }
 },
 "nbformat": 4,
 "nbformat_minor": 1
}
