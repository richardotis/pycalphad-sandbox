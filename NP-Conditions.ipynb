{
 "cells": [
  {
   "cell_type": "code",
   "execution_count": 8,
   "metadata": {},
   "outputs": [],
   "source": [
    "from pycalphad import Database, Model, variables as v\n",
    "from pycalphad import equilibrium, calculate\n",
    "import numpy as np\n",
    "from pycalphad.tests.datasets import *\n",
    "dbf = Database('alzn_mey.tdb')"
   ]
  },
  {
   "cell_type": "code",
   "execution_count": 47,
   "metadata": {
    "scrolled": true
   },
   "outputs": [
    {
     "name": "stdout",
     "output_type": "stream",
     "text": [
      "Components: AL VA ZN\n",
      "Phases: FCC_A1 \n",
      "HCP_A3 \n",
      "LIQUID \n",
      "[done]\n",
      "('Composition Sets', [CompositionSet(FCC_A1, [ 0.99443741  0.00556259], NP=0.7536275952711196, GM=-8532.379973486944), CompositionSet(HCP_A3, [  1.00000000e-15   1.00000000e+00], NP=1e-06, GM=-12489.369042318192), CompositionSet(LIQUID, [ 0.00200401  0.99799599], NP=0.2817 [fixed], GM=-8422.501520948985)])\n",
      "('Chemical Potentials', array([ -8510.24572606, -12489.36904232]))\n",
      "Trying to improve poor solution\n",
      "Calculation Failed:  OrderedDict([('N', array(1.0)), ('NP_LIQUID', array(0.2817)), ('P', array(100000.0)), ('X_ZN', array(0.25))]) b'Maximum number of iterations exceeded (can be specified by an option).'\n",
      "Chemical Potentials [-12517465.66950178 -15025280.56213447]\n",
      "[  5.81294271e-05   5.81294277e-10   1.31590283e-11   1.19991559e+00\n",
      "   5.81356924e-05   7.64028211e-05   2.43227114e-04   8.05160807e-05\n",
      "   2.10000993e-04   5.09211419e+07   8.09266155e-05   2.06352971e-04]\n",
      "[  1.00000000e+00   1.00000000e+05   4.41745593e+06   1.02978682e-05\n",
      "   9.99989702e-01   7.50026044e-01   2.49973956e-01   7.49936226e-01\n",
      "   2.50063774e-01   1.00000000e-06   7.18299010e-01   2.81700000e-01]\n",
      "Status: -1 b'Maximum number of iterations exceeded (can be specified by an option).'\n",
      "('Exceeded zero seen:', CompositionSet(HCP_A3, [  1.00000000e-15   1.00000000e+00], NP=1e-06, GM=-12489.369042318192))\n",
      "Removing CompositionSet(HCP_A3, [  1.00000000e-15   1.00000000e+00], NP=nan, GM=-12489.369042318192)\n",
      "Trying to improve poor solution\n",
      "Chemical Potentials [ -1.54205430e+09  -7.43091554e+09]\n",
      "[  9.09090909e-14   9.09090909e-19   1.41012166e-22   1.21212121e-13\n",
      "   3.63636364e-13   1.21212121e-13   3.63636364e-13   1.26561628e-13\n",
      "   3.22717123e-13]\n",
      "[  1.00000000e+00   1.00000000e+05   6.44689698e+08   7.50000000e-01\n",
      "   2.50000000e-01   7.50000000e-01   2.50000000e-01   7.18300000e-01\n",
      "   2.81700000e-01]\n",
      "Status: 3 b'Algorithm proceeds with very little progress.'\n",
      "('Composition Sets', [CompositionSet(FCC_A1, [ 0.75  0.25], NP=0.7183, GM=-3014269608.97524), CompositionSet(LIQUID, [ 0.75  0.25], NP=0.2817 [fixed], GM=-3014269608.97524)])\n",
      "<xarray.Dataset>\n",
      "Dimensions:    (N: 1, NP_LIQUID: 1, P: 1, X_ZN: 1, component: 2, internal_dof: 2, vertex: 3)\n",
      "Coordinates:\n",
      "  * N          (N) float64 1.0\n",
      "  * NP_LIQUID  (NP_LIQUID) float64 0.2817\n",
      "  * P          (P) float64 1e+05\n",
      "  * X_ZN       (X_ZN) float64 0.25\n",
      "  * vertex     (vertex) int64 0 1 2\n",
      "  * component  (component) <U2 'AL' 'ZN'\n",
      "Dimensions without coordinates: internal_dof\n",
      "Data variables:\n",
      "    GM         (N, P, NP_LIQUID, X_ZN) float64 -3.014e+09\n",
      "    T          (N, P, NP_LIQUID, X_ZN) float64 6.447e+08\n",
      "    Phase      (N, P, NP_LIQUID, X_ZN, vertex) <U6 'FCC_A1' 'LIQUID' ''\n",
      "    X          (N, P, NP_LIQUID, X_ZN, vertex, component) float64 0.75 0.25 ...\n",
      "    MU         (N, P, NP_LIQUID, X_ZN, component) float64 -1.542e+09 -7.431e+09\n",
      "    NP         (N, P, NP_LIQUID, X_ZN, vertex) float64 0.7183 0.2817 nan\n",
      "    Y          (N, P, NP_LIQUID, X_ZN, vertex, internal_dof) float64 0.75 ...\n",
      "Attributes:\n",
      "    engine:   pycalphad 0.7.1.post2+12.gda5b595.dirty\n",
      "    created:  2019-03-27T19:35:58.122800\n"
     ]
    }
   ],
   "source": [
    "v.T.default_value = 300\n",
    "eq2 = equilibrium(dbf, ['AL', 'ZN', 'VA'], ['FCC_A1', 'HCP_A3', 'LIQUID'],\n",
    "                 {v.X('ZN'): 0.25, v.NP('LIQUID'): 0.2817,\n",
    "                  v.P: 1e5}, verbose=True)\n",
    "print(eq2)"
   ]
  },
  {
   "cell_type": "code",
   "execution_count": 43,
   "metadata": {},
   "outputs": [],
   "source": [
    "fcc = calculate(dbf, ['AL', 'ZN', 'VA'], 'FCC_A1',\n",
    "                 T=(300,2000,20), P=1e5, output='HM', points=[[0.828636,  0.171364]])\n",
    "liq = calculate(dbf, ['AL', 'ZN', 'VA'], 'LIQUID',\n",
    "                 T=(300,2000,20), P=1e5, output='HM', points=[[0.549538,  0.450462]])"
   ]
  },
  {
   "cell_type": "code",
   "execution_count": 45,
   "metadata": {},
   "outputs": [
    {
     "data": {
      "image/png": "[encoded data removed]",
      "text/plain": [
       "<matplotlib.figure.Figure at 0x7f94328ae2e8>"
      ]
     },
     "metadata": {},
     "output_type": "display_data"
    }
   ],
   "source": [
    "%matplotlib inline\n",
    "import matplotlib.pyplot as plt\n",
    "import numpy as np\n",
    "\n",
    "plt.plot(fcc['T'], fcc.HM.values.flatten() - liq.HM.values.flatten())\n",
    "plt.grid(True)"
   ]
  },
  {
   "cell_type": "code",
   "execution_count": 6,
   "metadata": {},
   "outputs": [
    {
     "data": {
      "text/plain": [
       "<xarray.DataArray 'X' (N: 1, P: 1, T: 1, X_ZN: 1, vertex: 3, component: 2)>\n",
       "array([[[[[[ 0.828636,  0.171364],\n",
       "           [ 0.549538,  0.450462],\n",
       "           [      nan,       nan]]]]]])\n",
       "Coordinates:\n",
       "  * N          (N) float64 1.0\n",
       "  * P          (P) float64 1e+05\n",
       "  * T          (T) float64 800.0\n",
       "  * X_ZN       (X_ZN) float64 0.25\n",
       "  * vertex     (vertex) int64 0 1 2\n",
       "  * component  (component) <U2 'AL' 'ZN'"
      ]
     },
     "execution_count": 6,
     "metadata": {},
     "output_type": "execute_result"
    }
   ],
   "source": [
    "eq2.X"
   ]
  },
  {
   "cell_type": "code",
   "execution_count": null,
   "metadata": {},
   "outputs": [],
   "source": []
  }
 ],
 "metadata": {
  "kernelspec": {
   "display_name": "Python 3",
   "language": "python",
   "name": "python3"
  },
  "language_info": {
   "codemirror_mode": {
    "name": "ipython",
    "version": 3
   },
   "file_extension": ".py",
   "mimetype": "text/x-python",
   "name": "python",
   "nbconvert_exporter": "python",
   "pygments_lexer": "ipython3",
   "version": "3.5.2"
  }
 },
 "nbformat": 4,
 "nbformat_minor": 1
}
