{
 "cells": [
  {
   "cell_type": "code",
   "execution_count": 1,
   "metadata": {},
   "outputs": [],
   "source": [
    "from pycalphad import Database, Model, variables as v\n",
    "from pycalphad import equilibrium\n",
    "import numpy as np\n",
    "from pycalphad.tests.datasets import *\n",
    "dbf = Database(CUO_TDB)"
   ]
  },
  {
   "cell_type": "code",
   "execution_count": 9,
   "metadata": {
    "scrolled": true
   },
   "outputs": [
    {
     "name": "stdout",
     "output_type": "stream",
     "text": [
      "Components: CU CU+1 CU+2 CU+3 O O-2 O2 VA\n",
      "Phases: FCC_A1 \n",
      "GAS \n",
      "[done]\n",
      "fixed_phase_indices [1004]\n",
      "fixed_phase_amounts [ 0.0001]\n",
      "idx_result_array_NP_values [  9.99919231e-01  -1.92307692e-05   1.00000000e-04]\n",
      "points [ 498 1004 1004]\n",
      "unrestricted ['FCC_A1' 'GAS' 'GAS']\n",
      "phase array ['FCC_A1' 'GAS' 'GAS']\n",
      "('fracs', array([  9.99919231e-01,  -1.92307692e-05,   1.00000000e-04]))\n",
      "('names', array(['FCC_A1', 'GAS', 'GAS'],\n",
      "      dtype='<U6'))\n",
      "('Composition Sets', [CompositionSet(FCC_A1, [ 0.98997996  0.01002004], NP=0.9999192307692318, GM=-10280.968330784084), CompositionSet(GAS, [ 0.  1.], NP=1e-06, GM=-30755.891302664764), CompositionSet(GAS, [ 0.  1.], NP=0.0001 [fixed], GM=-30755.891302664764)])\n",
      "('Chemical Potentials', array([-10073.73226832, -30755.89130266]))\n",
      "dual_inf 7995753.28087\n",
      "Trying to improve poor solution\n",
      "Calculation Failed:  OrderedDict([('N', array(1.0)), ('NP_GAS', array(0.0001)), ('P', array(100000.0)), ('X_CU', array(0.99))]) b'Maximum number of iterations exceeded (can be specified by an option).'\n",
      "Chemical Potentials [ 2247716.43387444 -1155126.39563289]\n",
      "[  9.99999990e-12   1.00000000e-16   4.79919501e-17   1.00999899e-11\n",
      "   1.01009899e-09   9.99999990e-12   9.99999990e-12   1.00010199e-11\n",
      "   7.99574881e+06   1.00999899e-07]\n",
      "[  1.00000000e+00   1.00000000e+05   2.08368278e+05   9.90099990e-01\n",
      "   9.90000980e-03   1.00000000e+00   1.00000000e+00   9.99899010e-01\n",
      "   1.00000000e-06   1.00000000e-04]\n",
      "Status: -1 b'Maximum number of iterations exceeded (can be specified by an option).'\n",
      "('Exceeded zero seen:', CompositionSet(GAS, [ 0.  1.], NP=1e-06, GM=-30755.891302664764))\n",
      "Removing CompositionSet(GAS, [ 0.  1.], NP=nan, GM=-30755.891302664764)\n",
      "dual_inf 433716.882528\n",
      "Trying to improve poor solution\n",
      "Chemical Potentials [ 4876042.61361004 -5017278.17805063]\n",
      "[  5.00000000e-13   5.00000000e-18   9.63434439e-19   5.05000000e-13\n",
      "   5.05000000e-11   5.00000000e-13   5.00050505e-13   5.05050505e-09]\n",
      "[  1.00000000e+00   1.00000000e+05   5.17907398e+05   9.90099010e-01\n",
      "   9.90099010e-03   1.00000000e+00   9.99900000e-01   1.00000000e-04]\n",
      "Status: 0 b'Algorithm terminated successfully at a locally optimal point, satisfying the convergence tolerances (can be specified by options).'\n",
      "('Composition Sets', [CompositionSet(FCC_A1, [ 0.99009901  0.00990099], NP=0.9999, GM=-239189.2356472322), CompositionSet(GAS, [ 0.  1.], NP=0.0001 [fixed], GM=0.0)])\n",
      "<xarray.Dataset>\n",
      "Dimensions:    (N: 1, NP_GAS: 1, P: 1, X_CU: 1, component: 2, internal_dof: 2, vertex: 3)\n",
      "Coordinates:\n",
      "  * N          (N) float64 1.0\n",
      "  * NP_GAS     (NP_GAS) float64 0.0001\n",
      "  * P          (P) float64 1e+05\n",
      "  * X_CU       (X_CU) float64 0.99\n",
      "  * vertex     (vertex) int64 0 1 2\n",
      "  * component  (component) <U2 'CU' 'O'\n",
      "Dimensions without coordinates: internal_dof\n",
      "Data variables:\n",
      "    X          (N, P, NP_GAS, X_CU, vertex, component) float64 0.9901 ...\n",
      "    MU         (N, P, NP_GAS, X_CU, component) float64 4.876e+06 -5.017e+06\n",
      "    T          (N, P, NP_GAS, X_CU) float64 5.179e+05\n",
      "    NP         (N, P, NP_GAS, X_CU, vertex) float64 0.9999 0.0001 nan\n",
      "    Phase      (N, P, NP_GAS, X_CU, vertex) <U6 'FCC_A1' 'GAS' ''\n",
      "    GM         (N, P, NP_GAS, X_CU) float64 -2.392e+05\n",
      "    Y          (N, P, NP_GAS, X_CU, vertex, internal_dof) float64 0.9901 ...\n",
      "Attributes:\n",
      "    engine:   pycalphad 0.7.1.post2+11.g14a6a45.dirty\n",
      "    created:  2019-03-26T22:55:16.541203\n"
     ]
    }
   ],
   "source": [
    "eq2 = equilibrium(dbf, ['CU', 'O', 'VA'], ['GAS', 'FCC_A1'],\n",
    "                 {v.X('CU'): 0.99, v.NP('GAS'): 1e-4,\n",
    "                  v.P: 1e5}, verbose=True)\n",
    "print(eq2)"
   ]
  },
  {
   "cell_type": "code",
   "execution_count": 7,
   "metadata": {},
   "outputs": [
    {
     "name": "stdout",
     "output_type": "stream",
     "text": [
      "Components: CU CU+1 CU+2 CU+3 O O-2 O2 VA\n",
      "Phases: FCC_A1 \n",
      "GAS \n",
      "[done]\n",
      "fixed_phase_indices []\n",
      "fixed_phase_amounts []\n",
      "idx_result_array_NP_values [ 0.89679962  0.10320038  0.        ]\n",
      "points [ 54 722   0]\n",
      "unrestricted ['FCC_A1' 'FCC_A1' '_FAKE_']\n",
      "phase array ['FCC_A1' 'FCC_A1' '_FAKE_']\n",
      "('fracs', array([ 0.89679962,  0.10320038,         nan]))\n",
      "('names', array(['FCC_A1', 'FCC_A1', ''],\n",
      "      dtype='<U6'))\n",
      "('Composition Sets', [CompositionSet(FCC_A1, [ 0.1002004  0.8997996], NP=0.8967996227706213, GM=-69964.6177531149), CompositionSet(FCC_A1, [ 0.09825854  0.90174146], NP=0.10320037722937865, GM=-69043.98347530833)])\n",
      "('Chemical Potentials', array([-496558.64112351,  -22459.71537334]))\n",
      "('Redundant phase:', CompositionSet(FCC_A1, [ 0.09825854  0.90174146], NP=0.10320037722937865, GM=-69043.98347530833))\n",
      "Removing CompositionSet(FCC_A1, [ 0.09825854  0.90174146], NP=nan, GM=-69043.98347530833)\n",
      "dual_inf 69870.0265815\n",
      "Trying to improve poor solution\n",
      "Chemical Potentials [-494894.21108482  -22645.11719225]\n",
      "[ 0.  0.  0.  0.  0.  0.]\n",
      "[  1.00000000e+00   1.00000000e+05   2.58500000e+04   1.00000000e-01\n",
      "   9.00000000e-01   1.00000000e+00]\n",
      "Status: 0 b'Algorithm terminated successfully at a locally optimal point, satisfying the convergence tolerances (can be specified by options).'\n",
      "('Composition Sets', [CompositionSet(FCC_A1, [ 0.1  0.9], NP=1.0, GM=-69870.02658150365)])\n",
      "<xarray.Dataset>\n",
      "Dimensions:    (N: 1, P: 1, T: 1, X_CU: 1, component: 2, internal_dof: 2, vertex: 3)\n",
      "Coordinates:\n",
      "  * N          (N) float64 1.0\n",
      "  * P          (P) float64 1e+05\n",
      "  * T          (T) float64 2.585e+04\n",
      "  * X_CU       (X_CU) float64 0.1\n",
      "  * vertex     (vertex) int64 0 1 2\n",
      "  * component  (component) <U2 'CU' 'O'\n",
      "Dimensions without coordinates: internal_dof\n",
      "Data variables:\n",
      "    X          (N, P, T, X_CU, vertex, component) float64 0.1 0.9 nan nan ...\n",
      "    MU         (N, P, T, X_CU, component) float64 -4.949e+05 -2.265e+04\n",
      "    NP         (N, P, T, X_CU, vertex) float64 1.0 nan nan\n",
      "    Phase      (N, P, T, X_CU, vertex) <U6 'FCC_A1' '' ''\n",
      "    GM         (N, P, T, X_CU) float64 -6.987e+04\n",
      "    Y          (N, P, T, X_CU, vertex, internal_dof) float64 0.1 0.9 nan nan ...\n",
      "Attributes:\n",
      "    engine:   pycalphad 0.7.1.post2+11.g14a6a45.dirty\n",
      "    created:  2019-03-26T22:49:45.080352\n"
     ]
    }
   ],
   "source": [
    "eq2 = equilibrium(dbf, ['CU', 'O', 'VA'], ['GAS', 'FCC_A1'],\n",
    "                 {v.X('CU'): 0.1, v.T: 2.585e+04,\n",
    "                  v.P: 1e5}, verbose=True)\n",
    "print(eq2)"
   ]
  },
  {
   "cell_type": "code",
   "execution_count": null,
   "metadata": {},
   "outputs": [],
   "source": []
  }
 ],
 "metadata": {
  "kernelspec": {
   "display_name": "Python 3",
   "language": "python",
   "name": "python3"
  },
  "language_info": {
   "codemirror_mode": {
    "name": "ipython",
    "version": 3
   },
   "file_extension": ".py",
   "mimetype": "text/x-python",
   "name": "python",
   "nbconvert_exporter": "python",
   "pygments_lexer": "ipython3",
   "version": "3.5.2"
  }
 },
 "nbformat": 4,
 "nbformat_minor": 1
}
