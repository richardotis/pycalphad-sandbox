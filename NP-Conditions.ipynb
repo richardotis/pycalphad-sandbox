{
 "cells": [
  {
   "cell_type": "code",
   "execution_count": 1,
   "metadata": {},
   "outputs": [],
   "source": [
    "from pycalphad import Database, Model, variables as v\n",
    "from pycalphad import equilibrium, calculate\n",
    "import numpy as np\n",
    "from pycalphad.tests.datasets import *\n",
    "dbf = Database('alzn_mey.tdb')"
   ]
  },
  {
   "cell_type": "code",
   "execution_count": 2,
   "metadata": {
    "scrolled": true
   },
   "outputs": [
    {
     "name": "stdout",
     "output_type": "stream",
     "text": [
      "('Composition Sets', [CompositionSet(FCC_A1, [ 0.12024048  0.87975952], NP=0.3333333333333333, GM=-10489.356271065853), CompositionSet(HCP_A3, [  1.00000000e-15   1.00000000e+00], NP=0.3333333333333333, GM=-12489.369042318192), CompositionSet(LIQUID, [ 0.00200401  0.99799599], NP=0.0001 [fixed], GM=-8422.501520948985)])\n",
      "('Chemical Potentials', array([ 0.,  0.]))\n",
      "Calculation Failed:  OrderedDict([('N', array(1.0)), ('NP_LIQUID', array(0.0001)), ('P', array(100000.0)), ('X_ZN', array(0.4001))]) b'Maximum number of iterations exceeded (can be specified by an option).'\n",
      "Chemical Potentials [-23558.61755917 -32280.20883163]\n",
      "[  1.00000000e+00   1.00000000e+05   1.00000000e-04   0.00000000e+00\n",
      "   1.16415322e-10  -1.16415322e-10   1.00000000e+06   4.00100024e+05\n",
      "  -1.23732009e+01   7.28975583e-02]\n",
      "[  1.00000000e+00   1.00000000e+05   6.60677456e+02   5.99965687e-01\n",
      "   4.00034313e-01   1.12251663e-01   8.87748337e-01   1.49126478e-01\n",
      "   8.50873522e-01   9.99857706e-01   4.22935570e-05   1.00000000e-04]\n",
      "Status: -1 b'Maximum number of iterations exceeded (can be specified by an option).'\n",
      "('Composition Sets', [CompositionSet(FCC_A1, [ 0.12024048  0.87975952], NP=0.3333333333333333, GM=-10489.356271065853), CompositionSet(HCP_A3, [  1.00000000e-15   1.00000000e+00], NP=0.3333333333333333, GM=-12489.369042318192), CompositionSet(LIQUID, [ 0.00200401  0.99799599], NP=0.0001 [fixed], GM=-8422.501520948985)])\n",
      "('Chemical Potentials', array([ 0.,  0.]))\n",
      "Trying to improve poor solution\n",
      "Chemical Potentials [-16440.11321451 -31834.3727279 ]\n",
      "[  1.00000000e+00   1.00000000e+05   1.00000000e-04  -1.21595178e-10\n",
      "   0.00000000e+00  -1.45519152e-11   1.00000000e+06   5.00100000e+05\n",
      "   5.29396402e-07   8.98435246e-08]\n",
      "[  1.00000000e+00   1.00000000e+05   5.98688313e+02   9.99988952e-01\n",
      "   1.10483574e-05   2.96538074e-02   9.70346193e-01   8.98894539e-01\n",
      "   1.01105461e-01   4.84532866e-01   5.15367134e-01   1.00000000e-04]\n",
      "Status: 0 b'Algorithm terminated successfully at a locally optimal point, satisfying the convergence tolerances (can be specified by options).'\n",
      "('Composition Sets', [CompositionSet(FCC_A1, [ 0.12024048  0.87975952], NP=0.3333333333333333, GM=-10489.356271065853), CompositionSet(HCP_A3, [  1.00000000e-15   1.00000000e+00], NP=0.3333333333333333, GM=-12489.369042318192), CompositionSet(LIQUID, [ 0.00200401  0.99799599], NP=0.0001 [fixed], GM=-8422.501520948985)])\n",
      "('Chemical Potentials', array([ 0.,  0.]))\n",
      "Trying to improve poor solution\n",
      "Calculation Failed:  OrderedDict([('N', array(1.0)), ('NP_LIQUID', array(0.0001)), ('P', array(100000.0)), ('X_ZN', array(0.6001000000000001))]) b'Maximum number of iterations exceeded (can be specified by an option).'\n",
      "Chemical Potentials [-23953.21382352 -31731.24477855]\n",
      "[  1.00000000e+00   1.00000000e+05   1.00000000e-04   1.16415322e-10\n",
      "  -6.98491931e-10   0.00000000e+00   1.00000000e+06   6.00099998e+05\n",
      "  -5.31698555e+01   3.74642056e-02]\n",
      "[  1.00000000e+00   1.00000000e+05   6.55700059e+02   3.99928575e-01\n",
      "   6.00071425e-01   1.28383301e-05   9.99987162e-01   1.22637996e-01\n",
      "   8.77362004e-01   9.99897889e-01   2.11068562e-06   1.00000000e-04]\n",
      "Status: -1 b'Maximum number of iterations exceeded (can be specified by an option).'\n",
      "('Composition Sets', [CompositionSet(FCC_A1, [ 0.12024048  0.87975952], NP=0.3333333333333333, GM=-10489.356271065853), CompositionSet(HCP_A3, [  1.00000000e-15   1.00000000e+00], NP=0.3333333333333333, GM=-12489.369042318192), CompositionSet(LIQUID, [ 0.00200401  0.99799599], NP=0.0001 [fixed], GM=-8422.501520948985)])\n",
      "('Chemical Potentials', array([ 0.,  0.]))\n",
      "Trying to improve poor solution\n",
      "Chemical Potentials [-24386.99998286 -30822.43384165]\n",
      "[  1.00000000e+00   1.00000000e+05   1.00000000e-04  -1.16415322e-10\n",
      "   0.00000000e+00   0.00000000e+00   1.00000000e+06   7.00100000e+05\n",
      "   1.35067239e-07   7.39237294e-09]\n",
      "[  1.00000000e+00   1.00000000e+05   6.45191718e+02   2.99920027e-01\n",
      "   7.00079973e-01  -1.81898139e-12   1.00000000e+00   1.02653111e-01\n",
      "   8.97346889e-01   9.99899000e-01   9.99999999e-07   1.00000000e-04]\n",
      "Status: 0 b'Algorithm terminated successfully at a locally optimal point, satisfying the convergence tolerances (can be specified by options).'\n",
      "Trying to improve poor solution\n",
      "Chemical Potentials [-24296.36714301 -30715.70144084]\n",
      "[  1.00000000e+00   1.00000000e+05   1.00000000e-04   0.00000000e+00\n",
      "  -1.16415322e-10   1.00000000e+06   7.00100000e+05  -3.27418093e-11\n",
      "  -6.34863682e-07]\n",
      "[  1.00000000e+00   1.00000000e+05   6.43781727e+02   2.99919937e-01\n",
      "   7.00080063e-01   1.00550990e-01   8.99449010e-01   9.99900000e-01\n",
      "   1.00000000e-04]\n",
      "Status: 0 b'Algorithm terminated successfully at a locally optimal point, satisfying the convergence tolerances (can be specified by options).'\n",
      "('Composition Sets', [CompositionSet(FCC_A1, [ 0.12024048  0.87975952], NP=0.3333333333333333, GM=-10489.356271065853), CompositionSet(HCP_A3, [  1.00000000e-15   1.00000000e+00], NP=0.3333333333333333, GM=-12489.369042318192), CompositionSet(LIQUID, [ 0.00200401  0.99799599], NP=0.0001 [fixed], GM=-8422.501520948985)])\n",
      "('Chemical Potentials', array([ 0.,  0.]))\n",
      "Trying to improve poor solution\n",
      "Chemical Potentials [-26234.66557729 -39156.41357187]\n",
      "[  1.00000000e+00   1.00000000e+05   1.00000000e-04   2.91038305e-11\n",
      "  -2.18278728e-11  -6.54836185e-11   1.00000001e+06   2.00100000e+05\n",
      "  -8.02592012e-07   2.06290970e-05]\n",
      "[  1.00000000e+00   1.00000000e+05   7.52653285e+02   7.99883538e-01\n",
      "   2.00116462e-01   9.64955245e-01   3.50447547e-02   9.62866793e-01\n",
      "   3.71332067e-02   9.99899010e-01   1.00000000e-06   1.00000000e-04]\n",
      "Status: 0 b'Algorithm terminated successfully at a locally optimal point, satisfying the convergence tolerances (can be specified by options).'\n",
      "Trying to improve poor solution\n",
      "Calculation Failed:  OrderedDict([('N', array(1.0)), ('NP_LIQUID', array(0.0001)), ('P', array(100000.0)), ('X_ZN', array(0.2001))]) b'Maximum number of iterations exceeded (can be specified by an option).'\n",
      "Chemical Potentials [-30797.46626326 -44147.16345651]\n",
      "[  1.00000196e+00   1.00000000e+05   1.06434414e-03  -8.73114914e-11\n",
      "   5.82076609e-11   1.00000000e+06   2.00099840e+05  -3.49772202e-01\n",
      "  -2.63761657e+02]\n",
      "[  1.00000196e+00   1.00000000e+05   7.93796423e+02   8.00084566e-01\n",
      "   1.99915434e-01   6.26827451e-01   3.73172549e-01   9.98935656e-01\n",
      "   1.06434414e-03]\n",
      "Status: -1 b'Maximum number of iterations exceeded (can be specified by an option).'\n",
      "('Composition Sets', [CompositionSet(FCC_A1, [ 0.12024048  0.87975952], NP=0.3333333333333333, GM=-10489.356271065853), CompositionSet(HCP_A3, [  1.00000000e-15   1.00000000e+00], NP=0.3333333333333333, GM=-12489.369042318192), CompositionSet(LIQUID, [ 0.00200401  0.99799599], NP=0.0001 [fixed], GM=-8422.501520948985)])\n",
      "('Chemical Potentials', array([ 0.,  0.]))\n",
      "Trying to improve poor solution\n",
      "Chemical Potentials [-23077.04456316 -34580.05118629]\n",
      "[  1.00000000e+00   1.00000000e+05   1.00000000e-04   0.00000000e+00\n",
      "   3.27418093e-11   3.63797881e-11   1.00000000e+06   3.00100000e+05\n",
      "  -3.12106749e-07  -9.13343683e-07]\n",
      "[  1.00000000e+00   1.00000000e+05   7.00169127e+02   6.99875630e-01\n",
      "   3.00124370e-01   9.97743438e-01   2.25656226e-03   9.40599169e-01\n",
      "   5.94008311e-02   9.99899000e-01   9.99998180e-07   1.00000000e-04]\n",
      "Status: 0 b'Algorithm terminated successfully at a locally optimal point, satisfying the convergence tolerances (can be specified by options).'\n",
      "Trying to improve poor solution\n",
      "Chemical Potentials [-27995.5786163  -38972.37395102]\n",
      "[  1.00000000e+00   1.00000000e+05   1.00000000e-04   0.00000000e+00\n",
      "  -1.16415322e-10   1.00000000e+06   3.00100000e+05   2.80688255e-07\n",
      "  -2.97011866e-07]\n",
      "[  1.00000000e+00   1.00000000e+05   7.39556417e+02   6.99937870e-01\n",
      "   3.00062130e-01   3.21234965e-01   6.78765035e-01   9.99900000e-01\n",
      "   1.00000000e-04]\n",
      "Status: 0 b'Algorithm terminated successfully at a locally optimal point, satisfying the convergence tolerances (can be specified by options).'\n",
      "('Composition Sets', [CompositionSet(FCC_A1, [ 0.12024048  0.87975952], NP=0.3333333333333333, GM=-10489.356271065853), CompositionSet(HCP_A3, [  1.00000000e-15   1.00000000e+00], NP=0.3333333333333333, GM=-12489.369042318192), CompositionSet(LIQUID, [ 0.00200401  0.99799599], NP=0.0001 [fixed], GM=-8422.501520948985)])\n",
      "('Chemical Potentials', array([ 0.,  0.]))\n"
     ]
    },
    {
     "name": "stdout",
     "output_type": "stream",
     "text": [
      "Trying to improve poor solution\n",
      "Calculation Failed:  OrderedDict([('N', array(1.0)), ('NP_LIQUID', array(0.0001)), ('P', array(100000.0)), ('X_ZN', array(0.8001))]) b'Maximum number of iterations exceeded (can be specified by an option).'\n",
      "Chemical Potentials [-23389.52616665 -18880.87783807]\n",
      "[  1.00000000e+00   1.00000000e+05   1.29208853e-05  -1.16415322e-10\n",
      "   4.00177669e-11   1.16415322e-10   1.00000000e+06   7.69280799e+05\n",
      "  -3.73544967e+03   1.74454436e+03]\n",
      "[  1.00000000e+00   1.00000000e+05   5.76499203e+02   2.91485507e-04\n",
      "   9.99708514e-01   9.71344480e-01   2.86555199e-02   3.47021539e-01\n",
      "   6.52978461e-01   7.62694947e-01   2.37292132e-01   1.29208853e-05]\n",
      "Status: -1 b'Maximum number of iterations exceeded (can be specified by an option).'\n",
      "('Composition Sets', [CompositionSet(FCC_A1, [ 0.12024048  0.87975952], NP=0.3333333333333333, GM=-10489.356271065853), CompositionSet(HCP_A3, [  1.00000000e-15   1.00000000e+00], NP=0.3333333333333333, GM=-12489.369042318192), CompositionSet(LIQUID, [ 0.00200401  0.99799599], NP=0.0001 [fixed], GM=-8422.501520948985)])\n",
      "('Chemical Potentials', array([ 0.,  0.]))\n",
      "Trying to improve poor solution\n",
      "Calculation Failed:  OrderedDict([('N', array(1.0)), ('NP_LIQUID', array(0.0001)), ('P', array(100000.0)), ('X_ZN', array(0.9001))]) b'Maximum number of iterations exceeded (can be specified by an option).'\n",
      "Chemical Potentials [-23872.32848714 -34366.15870527]\n",
      "[  1.00000001e+00   1.00000000e+05   1.00000000e-06   2.59141542e-09\n",
      "   2.32830644e-09  -5.55883162e-09   1.00000001e+06   9.00100002e+05\n",
      "   4.63342309e+02   2.91321421e+03]\n",
      "[  1.00000001e+00   1.00000000e+05   6.90793398e+02   9.99999735e-01\n",
      "   2.65051995e-07   9.98969000e-02   9.00103100e-01   7.80395538e-01\n",
      "   2.19604462e-01   2.69562965e-06   9.99996314e-01   1.00000000e-06]\n",
      "Status: -1 b'Maximum number of iterations exceeded (can be specified by an option).'\n",
      "('Composition Sets', [CompositionSet(FCC_A1, [ 0.12024048  0.87975952], NP=0.3333333333333333, GM=-10489.356271065853), CompositionSet(HCP_A3, [  1.00000000e-15   1.00000000e+00], NP=0.3333333333333333, GM=-12489.369042318192), CompositionSet(LIQUID, [ 0.00200401  0.99799599], NP=0.0001 [fixed], GM=-8422.501520948985)])\n",
      "('Chemical Potentials', array([ 0.,  0.]))\n",
      "Trying to improve poor solution\n",
      "Calculation Failed:  OrderedDict([('N', array(1.0)), ('NP_LIQUID', array(0.0001)), ('P', array(100000.0)), ('X_ZN', array(0.0001))]) b\"Restoration phase failed, algorithm doesn't know how to proceed.\"\n",
      "Chemical Potentials [-5625.11669196 -9260.85605901]\n",
      "[  1.00000000e+00   1.00000000e+05   1.00000000e-06   2.78305379e-10\n",
      "   2.76486389e-10   1.16415322e-10   1.00000001e+06   2.41173752e+03\n",
      "   4.43595371e+03   1.00155348e-03]\n",
      "[  1.00000000e+00   1.00000000e+05   3.00000000e+02   9.97257972e-01\n",
      "   2.74202840e-03   9.98058935e-01   1.94106481e-03   2.62233566e-03\n",
      "   9.97377664e-01   5.86390273e-01   4.13608737e-01   1.00000000e-06]\n",
      "Status: -2 b\"Restoration phase failed, algorithm doesn't know how to proceed.\"\n",
      "('Composition Sets', [CompositionSet(FCC_A1, [ 0.12024048  0.87975952], NP=0.3333333333333333, GM=-10489.356271065853), CompositionSet(HCP_A3, [  1.00000000e-15   1.00000000e+00], NP=0.3333333333333333, GM=-12489.369042318192), CompositionSet(LIQUID, [ 0.00200401  0.99799599], NP=0.0001 [fixed], GM=-8422.501520948985)])\n",
      "('Chemical Potentials', array([ 0.,  0.]))\n",
      "Trying to improve poor solution\n",
      "Chemical Potentials [-30717.16509398 -46401.52067238]\n",
      "[  1.00000000e+00   1.00000000e+05   1.00000000e-04   0.00000000e+00\n",
      "   0.00000000e+00  -1.45519152e-11   1.00000001e+06   1.00100006e+05\n",
      "   3.23817414e-06   1.20174671e-04]\n",
      "[  1.00000000e+00   1.00000000e+05   8.24689983e+02   8.99892087e-01\n",
      "   1.00107913e-01   4.29321038e-01   5.70678962e-01   9.83683571e-01\n",
      "   1.63164286e-02   9.99899010e-01   1.00000000e-06   1.00000000e-04]\n",
      "Status: 0 b'Algorithm terminated successfully at a locally optimal point, satisfying the convergence tolerances (can be specified by options).'\n",
      "Trying to improve poor solution\n",
      "Chemical Potentials [-33576.2300639  -51611.36485358]\n",
      "[  1.00000000e+00   1.00000000e+05   1.00000000e-04  -2.91038305e-11\n",
      "   2.91038305e-11   1.00000000e+06   1.00100000e+05   5.63073627e-07\n",
      "  -8.32551450e-07]\n",
      "[  1.00000000e+00   1.00000000e+05   8.49650801e+02   8.99915336e-01\n",
      "   1.00084664e-01   7.46554225e-01   2.53445775e-01   9.99900000e-01\n",
      "   1.00000000e-04]\n",
      "Status: 0 b'Algorithm terminated successfully at a locally optimal point, satisfying the convergence tolerances (can be specified by options).'\n",
      "<xarray.Dataset>\n",
      "Dimensions:    (N: 1, NP_LIQUID: 1, P: 1, X_ZN: 10, component: 2, internal_dof: 2, vertex: 3)\n",
      "Coordinates:\n",
      "  * N          (N) float64 1.0\n",
      "  * NP_LIQUID  (NP_LIQUID) float64 0.0001\n",
      "  * P          (P) float64 1e+05\n",
      "  * X_ZN       (X_ZN) float64 0.0001 0.1001 0.2001 0.3001 0.4001 0.5001 ...\n",
      "  * vertex     (vertex) int64 0 1 2\n",
      "  * component  (component) <U2 'AL' 'ZN'\n",
      "Dimensions without coordinates: internal_dof\n",
      "Data variables:\n",
      "    Phase      (N, P, NP_LIQUID, X_ZN, vertex) <U6 '' '' '' 'FCC_A1' ...\n",
      "    GM         (N, P, NP_LIQUID, X_ZN) float64 nan -3.538e+04 nan -3.129e+04 ...\n",
      "    NP         (N, P, NP_LIQUID, X_ZN, vertex) float64 nan nan nan 0.9999 ...\n",
      "    T          (N, P, NP_LIQUID, X_ZN) float64 nan 849.7 nan 739.6 nan 598.7 ...\n",
      "    MU         (N, P, NP_LIQUID, X_ZN, component) float64 nan nan -3.358e+04 ...\n",
      "    X          (N, P, NP_LIQUID, X_ZN, vertex, component) float64 nan nan ...\n",
      "    Y          (N, P, NP_LIQUID, X_ZN, vertex, internal_dof) float64 nan nan ...\n",
      "Attributes:\n",
      "    engine:   pycalphad 0.7.1.post2+20.g4771f7c.dirty\n",
      "    created:  2019-04-10T17:40:48.897441\n"
     ]
    }
   ],
   "source": [
    "from pycalphad.core.solver import InteriorPointSolver\n",
    "class ProblemSaver(InteriorPointSolver):\n",
    "    saved_problem = [None]\n",
    "    def solve(self, prob):\n",
    "        self.saved_problem[0] = prob\n",
    "        self.verbose = True\n",
    "        return super(ProblemSaver, self).solve(prob)\n",
    "v.T.default_value = 300\n",
    "eq2 = equilibrium(dbf, ['AL', 'ZN', 'VA'], ['FCC_A1', 'LIQUID', 'HCP_A3'],\n",
    "                 {v.X('ZN'): (1e-4,1-1e-4,0.1), v.NP('LIQUID'): 1e-4,\n",
    "                  v.P: 1e5}, verbose=False, solver=ProblemSaver())\n",
    "print(eq2)"
   ]
  },
  {
   "cell_type": "code",
   "execution_count": 3,
   "metadata": {},
   "outputs": [
    {
     "data": {
      "text/plain": [
       "<xarray.DataArray (N: 1, P: 1, NP_LIQUID: 1, X_ZN: 10)>\n",
       "array([[[[           nan,            nan,            nan,            nan,\n",
       "                     nan,  148984.257908,            nan,            nan,\n",
       "                     nan,            nan]]]])\n",
       "Coordinates:\n",
       "  * N          (N) float64 1.0\n",
       "  * NP_LIQUID  (NP_LIQUID) float64 0.0001\n",
       "  * P          (P) float64 1e+05\n",
       "  * X_ZN       (X_ZN) float64 0.0001 0.1001 0.2001 0.3001 0.4001 0.5001 ...\n",
       "    vertex     int64 2"
      ]
     },
     "execution_count": 3,
     "metadata": {},
     "output_type": "execute_result"
    }
   ],
   "source": [
    "eq2.GM - ((eq2.NP.isel(vertex=0) * eq2.MU * eq2.X.isel(vertex=0)).sum() + \n",
    "          (eq2.NP.isel(vertex=1) * (eq2.MU * eq2.X.isel(vertex=1)).sum()) + \n",
    "          (eq2.NP.isel(vertex=2) * (eq2.MU * eq2.X.isel(vertex=2)).sum()))"
   ]
  },
  {
   "cell_type": "code",
   "execution_count": 4,
   "metadata": {
    "scrolled": true
   },
   "outputs": [
    {
     "data": {
      "text/plain": [
       "<xarray.DataArray 'X' (N: 1, P: 1, NP_LIQUID: 1, X_ZN: 10, vertex: 3, component: 2)>\n",
       "array([[[[[[           nan,            nan],\n",
       "           [           nan,            nan],\n",
       "           [           nan,            nan]],\n",
       "\n",
       "          [[  8.999153e-01,   1.000847e-01],\n",
       "           [  7.465542e-01,   2.534458e-01],\n",
       "           [           nan,            nan]],\n",
       "\n",
       "          [[           nan,            nan],\n",
       "           [           nan,            nan],\n",
       "           [           nan,            nan]],\n",
       "\n",
       "          [[  6.999379e-01,   3.000621e-01],\n",
       "           [  3.212350e-01,   6.787650e-01],\n",
       "           [           nan,            nan]],\n",
       "\n",
       "          [[           nan,            nan],\n",
       "           [           nan,            nan],\n",
       "           [           nan,            nan]],\n",
       "\n",
       "          [[  9.999890e-01,   1.104836e-05],\n",
       "           [  2.965381e-02,   9.703462e-01],\n",
       "           [  8.988945e-01,   1.011055e-01]],\n",
       "\n",
       "          [[           nan,            nan],\n",
       "           [           nan,            nan],\n",
       "           [           nan,            nan]],\n",
       "\n",
       "          [[  2.999199e-01,   7.000801e-01],\n",
       "           [  1.005510e-01,   8.994490e-01],\n",
       "           [           nan,            nan]],\n",
       "\n",
       "          [[           nan,            nan],\n",
       "           [           nan,            nan],\n",
       "           [           nan,            nan]],\n",
       "\n",
       "          [[           nan,            nan],\n",
       "           [           nan,            nan],\n",
       "           [           nan,            nan]]]]]])\n",
       "Coordinates:\n",
       "  * N          (N) float64 1.0\n",
       "  * NP_LIQUID  (NP_LIQUID) float64 0.0001\n",
       "  * P          (P) float64 1e+05\n",
       "  * X_ZN       (X_ZN) float64 0.0001 0.1001 0.2001 0.3001 0.4001 0.5001 ...\n",
       "  * vertex     (vertex) int64 0 1 2\n",
       "  * component  (component) <U2 'AL' 'ZN'"
      ]
     },
     "execution_count": 4,
     "metadata": {},
     "output_type": "execute_result"
    }
   ],
   "source": [
    "eq2.X"
   ]
  },
  {
   "cell_type": "code",
   "execution_count": 5,
   "metadata": {},
   "outputs": [
    {
     "name": "stdout",
     "output_type": "stream",
     "text": [
      "[  1.00000000e-04   1.00100000e-01   2.00100000e-01   3.00100000e-01\n",
      "   4.00100000e-01   5.00100000e-01   6.00100000e-01   7.00100000e-01\n",
      "   8.00100000e-01   9.00100000e-01]\n",
      "[          nan  849.65080148           nan  739.55641728           nan\n",
      "  598.68831265           nan  643.78172679           nan           nan]\n"
     ]
    },
    {
     "data": {
      "text/plain": [
       "<matplotlib.text.Text at 0x7f635c37c5c0>"
      ]
     },
     "execution_count": 5,
     "metadata": {},
     "output_type": "execute_result"
    },
    {
     "data": {
      "image/png": "[encoded data removed]",
      "text/plain": [
       "<matplotlib.figure.Figure at 0x7f6368b90390>"
      ]
     },
     "metadata": {},
     "output_type": "display_data"
    }
   ],
   "source": [
    "%matplotlib inline\n",
    "import matplotlib.pyplot as plt\n",
    "print(eq2['X_ZN'].values.flatten())\n",
    "print(eq2['T'].values.flatten())\n",
    "plt.scatter(eq2['X_ZN'].values.flatten(), eq2['T'].values.flatten())\n",
    "plt.xlim((0,1))\n",
    "plt.xlabel('X(ZN)')\n",
    "plt.ylabel('T')"
   ]
  },
  {
   "cell_type": "code",
   "execution_count": 6,
   "metadata": {},
   "outputs": [
    {
     "ename": "TypeError",
     "evalue": "only length-1 arrays can be converted to Python scalars",
     "output_type": "error",
     "traceback": [
      "\u001b[0;31m---------------------------------------------------------------------------\u001b[0m",
      "\u001b[0;31mTypeError\u001b[0m                                 Traceback (most recent call last)",
      "\u001b[0;32m<ipython-input-6-83bf7b57d4cb>\u001b[0m in \u001b[0;36m<module>\u001b[0;34m()\u001b[0m\n\u001b[1;32m      1\u001b[0m fcc = calculate(dbf, ['AL', 'ZN', 'VA'], 'FCC_A1',\n\u001b[0;32m----> 2\u001b[0;31m                  T=float(eq2['T']), P=1e5)\n\u001b[0m\u001b[1;32m      3\u001b[0m hcp = calculate(dbf, ['AL', 'ZN', 'VA'], 'HCP_A3',\n\u001b[1;32m      4\u001b[0m                  T=float(eq2['T']), P=1e5)\n\u001b[1;32m      5\u001b[0m liq = calculate(dbf, ['AL', 'ZN', 'VA'], 'LIQUID',\n",
      "\u001b[0;32m/home/rotis/anaconda/envs/calphadpy3/lib/python3.5/site-packages/xarray/core/common.py\u001b[0m in \u001b[0;36m__float__\u001b[0;34m(self)\u001b[0m\n\u001b[1;32m     83\u001b[0m \u001b[0;34m\u001b[0m\u001b[0m\n\u001b[1;32m     84\u001b[0m     \u001b[0;32mdef\u001b[0m \u001b[0m__float__\u001b[0m\u001b[0;34m(\u001b[0m\u001b[0mself\u001b[0m\u001b[0;34m)\u001b[0m\u001b[0;34m:\u001b[0m\u001b[0;34m\u001b[0m\u001b[0m\n\u001b[0;32m---> 85\u001b[0;31m         \u001b[0;32mreturn\u001b[0m \u001b[0mfloat\u001b[0m\u001b[0;34m(\u001b[0m\u001b[0mself\u001b[0m\u001b[0;34m.\u001b[0m\u001b[0mvalues\u001b[0m\u001b[0;34m)\u001b[0m\u001b[0;34m\u001b[0m\u001b[0m\n\u001b[0m\u001b[1;32m     86\u001b[0m \u001b[0;34m\u001b[0m\u001b[0m\n\u001b[1;32m     87\u001b[0m     \u001b[0;32mdef\u001b[0m \u001b[0m__int__\u001b[0m\u001b[0;34m(\u001b[0m\u001b[0mself\u001b[0m\u001b[0;34m)\u001b[0m\u001b[0;34m:\u001b[0m\u001b[0;34m\u001b[0m\u001b[0m\n",
      "\u001b[0;31mTypeError\u001b[0m: only length-1 arrays can be converted to Python scalars"
     ]
    }
   ],
   "source": [
    "fcc = calculate(dbf, ['AL', 'ZN', 'VA'], 'FCC_A1',\n",
    "                 T=float(eq2['T']), P=1e5)\n",
    "hcp = calculate(dbf, ['AL', 'ZN', 'VA'], 'HCP_A3',\n",
    "                 T=float(eq2['T']), P=1e5)\n",
    "liq = calculate(dbf, ['AL', 'ZN', 'VA'], 'LIQUID',\n",
    "                 T=float(eq2['T']), P=1e5)"
   ]
  },
  {
   "cell_type": "code",
   "execution_count": null,
   "metadata": {},
   "outputs": [],
   "source": [
    "%matplotlib inline\n",
    "import matplotlib.pyplot as plt\n",
    "import numpy as np\n",
    "plt.figure(figsize=(12,12))\n",
    "plt.scatter(fcc.X.sel(component='ZN').values.flatten(),\n",
    "            fcc.GM.values.flatten(), c='g')\n",
    "plt.scatter(hcp.X.sel(component='ZN').values.flatten(),\n",
    "            hcp.GM.values.flatten(), c='y')\n",
    "plt.scatter(liq.X.sel(component='ZN').values.flatten(),\n",
    "            liq.GM.values.flatten(), c='b')\n",
    "plt.plot([0,1], eq2.MU.values.flatten())\n",
    "plt.scatter([0.1], [float(eq2.GM)])\n",
    "plt.grid(True)"
   ]
  },
  {
   "cell_type": "code",
   "execution_count": null,
   "metadata": {},
   "outputs": [],
   "source": [
    "eq2.Y"
   ]
  },
  {
   "cell_type": "code",
   "execution_count": null,
   "metadata": {},
   "outputs": [],
   "source": [
    "eq2.MU"
   ]
  },
  {
   "cell_type": "code",
   "execution_count": null,
   "metadata": {},
   "outputs": [],
   "source": [
    "eq2.GM"
   ]
  },
  {
   "cell_type": "code",
   "execution_count": null,
   "metadata": {},
   "outputs": [],
   "source": [
    "import numpy as np\n",
    "def constraint_calculator(temps):\n",
    "    # Should be zero at T=800\n",
    "    x_in = [1.0, 101325, 800, 0.828636,  0.171364, 0.549538,  0.450462, 0.7183, 0.2817]\n",
    "    #x_in = [1.0, 101325, 800, 1-1e-4, 1e-4, 1e-6, 1-1e-6,  0.7183, 0.2817]\n",
    "    #x_in = [1.0, 101325, 800,  9.58792139e-01, 4.12078612e-02,\n",
    "    #                           1.11325490e-03, 9.98886745e-01,\n",
    "    #        7.81981056e-01, 2.18018944e-01]\n",
    "    #x_in = [1.0, 101325, 800,  9.58792139e-01, 4.12078612e-02,\n",
    "    #                           1.11325490e-03, 9.98886745e-01,\n",
    "    #        0.5, 0.5]\n",
    "    desired_chempots = [-31050.173963, -45108.31854]\n",
    "    cons = []\n",
    "    total_chempots = []\n",
    "    fixed_chempots = []\n",
    "    free_chempots_1 = []\n",
    "    free_chempots_2 = []\n",
    "    for temp in temps:\n",
    "        x_in[2] = temp\n",
    "        cons.append(ProblemSaver.saved_problem[0].constraints(x_in))\n",
    "        total_chempots.append(ProblemSaver.saved_problem[0].chemical_potentials(x_in))\n",
    "        fixed_chempots.append(ProblemSaver.saved_problem[0].chemical_potentials(x_in, selected_phase=1))\n",
    "        free_chempots_1.append(ProblemSaver.saved_problem[0].chemical_potentials(x_in, selected_phase=0))\n",
    "        free_chempots_2.append(ProblemSaver.saved_problem[0].chemical_potentials(x_in, free_only=True))\n",
    "    cons = np.array(cons - np.array(ProblemSaver.saved_problem[0].cl))\n",
    "    total_chempots = np.array(total_chempots) - np.array(desired_chempots)\n",
    "    fixed_chempots = np.array(fixed_chempots) - np.array(desired_chempots)\n",
    "    free_chempots_1 = np.array(free_chempots_1) - np.array(desired_chempots)\n",
    "    free_chempots_2 = np.array(free_chempots_2) - np.array(desired_chempots)\n",
    "    return cons, total_chempots, fixed_chempots, free_chempots_1, free_chempots_2\n",
    "\n",
    "def constraint_calculator_2(xfccs):\n",
    "    # Should be zero at T=800\n",
    "    #x_in = [1.0, 101325, 800, 0.828636,  0.171364, 0.549538,  0.450462, 0.7183, 0.2817]\n",
    "    x_in = [1.00000000e+00,   1.00000000e+05,   8.50126199e+02,   9.00017331e-01,\n",
    "   9.99826692e-02,   8.88953035e-01,   1.11046965e-01,   7.26819236e-01,\n",
    "   2.73180764e-01,   9.99899010e-01,   1.00000000e-06,   1.00000000e-04]\n",
    "    desired_chempots = [-31050.173963, -45108.31854]\n",
    "    cons = []\n",
    "    total_chempots = []\n",
    "    fixed_chempots = []\n",
    "    free_chempots_1 = []\n",
    "    free_chempots_2 = []\n",
    "    for xfcc in xfccs:\n",
    "        x_in[2] = 300\n",
    "        x_in[3] = xfcc\n",
    "        x_in[4] - 1-xfcc\n",
    "        cons.append(ProblemSaver.saved_problem[0].constraints(x_in))\n",
    "        total_chempots.append(ProblemSaver.saved_problem[0].chemical_potentials(x_in))\n",
    "        fixed_chempots.append(ProblemSaver.saved_problem[0].chemical_potentials(x_in, selected_phase=1))\n",
    "        free_chempots_1.append(ProblemSaver.saved_problem[0].chemical_potentials(x_in, selected_phase=0))\n",
    "        free_chempots_2.append(ProblemSaver.saved_problem[0].chemical_potentials(x_in, free_only=True))\n",
    "    cons = np.array(cons - np.array(ProblemSaver.saved_problem[0].cl))\n",
    "    total_chempots = np.array(total_chempots) - np.array(desired_chempots)\n",
    "    fixed_chempots = np.array(fixed_chempots) - np.array(desired_chempots)\n",
    "    free_chempots_1 = np.array(free_chempots_1) - np.array(desired_chempots)\n",
    "    free_chempots_2 = np.array(free_chempots_2) - np.array(desired_chempots)\n",
    "    return cons, total_chempots, fixed_chempots, free_chempots_1, free_chempots_2\n",
    "\n",
    "temps = np.arange(300., 2000., step=100)\n",
    "xfccs = np.linspace(1e-6,1-1e-6, num=100)\n",
    "#results = constraint_calculator(temps)\n",
    "results_2 = constraint_calculator_2(xfccs)\n",
    "\n",
    "%matplotlib inline\n",
    "import matplotlib.pyplot as plt\n",
    "#plt.plot(temps, results[0][:, -2], label='cons 1')\n",
    "#plt.plot(temps, results[0][:, -1], label='cons 2')\n",
    "#plt.plot(temps, results[1][:, 0], label='total')\n",
    "#plt.plot(temps, results[2][:, 0], label='fixed')\n",
    "#plt.plot(temps, results[3][:, 0], label='free 1')\n",
    "#plt.plot(temps, results[4][:, 0], label='free 2')\n",
    "#plt.ylim((-1000, 1000))\n",
    "#plt.xlim((700, 900))\n",
    "plt.plot(xfccs, results_2[0][:, -2], label='cons 1')\n",
    "plt.plot(xfccs, results_2[0][:, -1], label='cons 2')\n",
    "plt.plot([])\n",
    "plt.legend(loc='best')"
   ]
  },
  {
   "cell_type": "code",
   "execution_count": null,
   "metadata": {},
   "outputs": [],
   "source": []
  }
 ],
 "metadata": {
  "kernelspec": {
   "display_name": "Python 3",
   "language": "python",
   "name": "python3"
  },
  "language_info": {
   "codemirror_mode": {
    "name": "ipython",
    "version": 3
   },
   "file_extension": ".py",
   "mimetype": "text/x-python",
   "name": "python",
   "nbconvert_exporter": "python",
   "pygments_lexer": "ipython3",
   "version": "3.5.2"
  }
 },
 "nbformat": 4,
 "nbformat_minor": 1
}
