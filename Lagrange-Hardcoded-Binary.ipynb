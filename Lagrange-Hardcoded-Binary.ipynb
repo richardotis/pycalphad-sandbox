{
 "cells": [
  {
   "cell_type": "code",
   "execution_count": 1,
   "metadata": {},
   "outputs": [
    {
     "name": "stdout",
     "output_type": "stream",
     "text": [
      "[ 1.00000000e+00  1.01325000e+05  2.50000000e+03  3.00000000e-01\n",
      "  7.00000000e-01  1.00000000e+00 -2.20583626e+05 -1.94101859e+05\n",
      " -1.11878832e+02  2.14055264e+05]\n"
     ]
    },
    {
     "data": {
      "image/png": "[encoded data removed]",
      "text/plain": [
       "<Figure size 432x288 with 1 Axes>"
      ]
     },
     "metadata": {
      "needs_background": "light"
     },
     "output_type": "display_data"
    }
   ],
   "source": [
    "import numpy as np\n",
    "from autograd import grad\n",
    "from pycalphad import Database, Model, variables as v\n",
    "from pycalphad.tests.datasets import ALFE_TDB\n",
    "from pycalphad.codegen.sympydiff_utils import build_functions\n",
    "\n",
    "dbf = Database(ALFE_TDB)\n",
    "mod = Model(dbf, ['AL', 'FE'], 'LIQUID')\n",
    "state_variables = [v.N, v.P, v.T]\n",
    "site_fracs = mod.site_fractions\n",
    "build_output = build_functions(mod.GM, tuple(state_variables + site_fracs),\n",
    "                               include_grad=True, include_hess=False)\n",
    "cf, gf, hf = build_output.func, build_output.grad, build_output.hess\n",
    "\n",
    "def toy_objective(x):\n",
    "    # N,P,T,y1,y2,np,mu_a,mu_b,tau_1,tau_2\n",
    "    inp = np.ascontiguousarray(x[:, :5])\n",
    "    obj = cf(*x[:, :5])\n",
    "    lagrange = x[:, 6]*(0.3 - x[:, 5]*x[:, 3]) + x[:, 7]*(0.7 - x[:, 5]*x[:, 4]) + \\\n",
    "               x[:, 8]*(2500 - x[:, 2]) + x[:, 9]*(1 - (x[:, 3]+x[:, 4]))\n",
    "    return x[:,5] * obj + lagrange\n",
    "\n",
    "def toy_gradient(x):\n",
    "    grad = gf(*x[:5])\n",
    "    obj = cf(*x[:5])\n",
    "    out = np.zeros(x.shape[0])\n",
    "    out[:5] = [x[5]*g for g in grad]\n",
    "    out[5] = obj\n",
    "    out[6] = 0.3 - x[5]*x[3]\n",
    "    out[5] += -x[6]*x[3]\n",
    "    out[3] += -x[6]*x[5]\n",
    "    \n",
    "    out[7] = 0.7 - x[5]*x[4]\n",
    "    out[5] += -x[7]*x[4]\n",
    "    out[4] += -x[7]*x[5]\n",
    "    \n",
    "    out[8] = 2500 - x[2]\n",
    "    out[2] += -x[8]\n",
    "\n",
    "    out[9] = 1 - (x[3]+x[4])\n",
    "    out[3] += -x[9]\n",
    "    out[4] += -x[9]\n",
    "    return out\n",
    "\n",
    "from scipy.optimize import fsolve\n",
    "\n",
    "delta = 1e-3\n",
    "result = fsolve(toy_gradient, [1.00000000e+00, 1.01325000e+05, 2.50000000e+03, 7.01402806e-01,\n",
    "       2.98597194e-01, 3.00000000e-01, 0.00000000e+00, 0.00000000e+00, 0, 0])\n",
    "print(result)\n",
    "\n",
    "%matplotlib inline\n",
    "import matplotlib.pyplot as plt\n",
    "\n",
    "x = np.linspace([1,1e5, 2500, 1e-4, 1-1e-4, 1, 0, 0, 0, 0], [1, 1e5, 2500, 1-1e-4, 1e-4, 1, 0, 0, 0,0], 100)\n",
    "y = toy_objective(x)\n",
    "plt.plot(x[:, 3], y)\n",
    "plt.plot([0, 1], [result[7], result[6]])\n",
    "plt.show()"
   ]
  },
  {
   "cell_type": "code",
   "execution_count": 39,
   "metadata": {},
   "outputs": [
    {
     "name": "stdout",
     "output_type": "stream",
     "text": [
      "('fixed_total_moles', array([0.3, 0.7]))\n"
     ]
    }
   ],
   "source": [
    "from pycalphad.core.problem import Problem\n",
    "from pycalphad.core.composition_set import CompositionSet\n",
    "from pycalphad.codegen.callables import build_phase_records\n",
    "\n",
    "conds = {v.N: 1, v.P: 1e5, v.T: 2500, v.X('FE'): 0.7}\n",
    "comps = [v.Species('AL'), v.Species('FE')]\n",
    "\n",
    "prx = build_phase_records(dbf, comps, ['LIQUID'], conds,\n",
    "                         models={'LIQUID': mod}, build_gradients=True)\n",
    "prx = prx['LIQUID']\n",
    "compset = CompositionSet(prx)\n",
    "prob = Problem([compset], comps, {str(key): value for key, value in conds.items()}, [0, 0])\n",
    "\n",
    "def pycalphad_obj(x):\n",
    "    obj = prob.objective(x[:8])\n",
    "    c = prob.cl[2:] - prob.constraints(x[:8])[2:]\n",
    "    lagrange = np.sum(-c * x[8:])\n",
    "    return obj+lagrange\n",
    "\n",
    "def pycalphad_grad(x):\n",
    "    out = np.zeros(x.shape[0])\n",
    "    res = prob.gradient(x[:8])\n",
    "    c = prob.cl[2:] - prob.constraints(x[:8])[2:]\n",
    "    out[:8] = res\n",
    "    out[:8] += -np.dot(prob.jacobian(x[:8])[2:].T, x[8:])\n",
    "    out[8:] = -c\n",
    "    return out"
   ]
  },
  {
   "cell_type": "code",
   "execution_count": 40,
   "metadata": {},
   "outputs": [
    {
     "data": {
      "text/plain": [
       "array([ 0.00000000e+00,  0.00000000e+00, -3.18868759e+01,  7.70156224e+03,\n",
       "       -3.80257214e+03, -1.99247053e+05,  8.95791582e-02,  6.10420842e-01,\n",
       "       -0.00000000e+00,  5.55111512e-17])"
      ]
     },
     "execution_count": 40,
     "metadata": {},
     "output_type": "execute_result"
    }
   ],
   "source": [
    "x = [1.00000000e+00, 1.01325000e+05, 2.50000000e+03, 7.01402806e-01,\n",
    "       2.98597194e-01, 3.00000000e-01, 0.00000000e+00, 0.00000000e+00, 0, 0]\n",
    "pycalphad_grad(np.array(x))"
   ]
  },
  {
   "cell_type": "code",
   "execution_count": 41,
   "metadata": {},
   "outputs": [
    {
     "data": {
      "text/plain": [
       "array([ 0.00000000e+00,  0.00000000e+00, -3.18868759e+01,  7.70156224e+03,\n",
       "       -3.80257214e+03, -1.99247053e+05,  8.95791582e-02,  6.10420842e-01,\n",
       "        0.00000000e+00,  0.00000000e+00])"
      ]
     },
     "execution_count": 41,
     "metadata": {},
     "output_type": "execute_result"
    }
   ],
   "source": [
    "toy_gradient(np.array(x))"
   ]
  },
  {
   "cell_type": "code",
   "execution_count": 42,
   "metadata": {},
   "outputs": [
    {
     "name": "stdout",
     "output_type": "stream",
     "text": [
      "[ 1.00000000e+00  1.01325000e+05  2.50000000e+03  3.00000000e-01\n",
      "  7.00000000e-01  1.00000000e+00 -2.20583626e+05 -1.94101859e+05\n",
      " -1.11878832e+02  2.14055264e+05]\n"
     ]
    },
    {
     "data": {
      "image/png": "[encoded data removed]",
      "text/plain": [
       "<Figure size 432x288 with 1 Axes>"
      ]
     },
     "metadata": {
      "needs_background": "light"
     },
     "output_type": "display_data"
    }
   ],
   "source": [
    "from scipy.optimize import fsolve\n",
    "\n",
    "delta = 1e-3\n",
    "result = fsolve(pycalphad_grad, [1.00000000e+00, 1.01325000e+05, 2.50000000e+03, 7.01402806e-01,\n",
    "       2.98597194e-01, 3.00000000e-01, 0.00000000e+00, 0.00000000e+00, 0, 0])\n",
    "print(result)\n",
    "\n",
    "%matplotlib inline\n",
    "import matplotlib.pyplot as plt\n",
    "\n",
    "x = np.linspace([1,1e5, 2500, 1e-4, 1-1e-4, 1, 0, 0, 0, 0], [1, 1e5, 2500, 1-1e-4, 1e-4, 1, 0, 0, 0,0], 100)\n",
    "y = [pycalphad_obj(z) for z in x]\n",
    "plt.plot(x[:, 3], y)\n",
    "plt.plot([0, 1], [result[7], result[6]])\n",
    "plt.show()"
   ]
  },
  {
   "cell_type": "code",
   "execution_count": 43,
   "metadata": {},
   "outputs": [
    {
     "data": {
      "text/plain": [
       "array([ 0.00000000e+00,  0.00000000e+00,  8.52651283e-14,  2.38651410e-09,\n",
       "        2.85217538e-09, -5.50062396e-09,  1.16573418e-15, -1.11022302e-15,\n",
       "       -0.00000000e+00, -0.00000000e+00])"
      ]
     },
     "execution_count": 43,
     "metadata": {},
     "output_type": "execute_result"
    }
   ],
   "source": [
    "pycalphad_grad(np.array(result))"
   ]
  },
  {
   "cell_type": "code",
   "execution_count": 44,
   "metadata": {},
   "outputs": [
    {
     "data": {
      "text/plain": [
       "array([ 0.00000000e+00,  0.00000000e+00,  8.52651283e-14,  2.38651410e-09,\n",
       "        2.85217538e-09, -5.50062396e-09,  1.11022302e-15, -1.11022302e-15,\n",
       "        0.00000000e+00,  0.00000000e+00])"
      ]
     },
     "execution_count": 44,
     "metadata": {},
     "output_type": "execute_result"
    }
   ],
   "source": [
    "toy_gradient(np.array(result))"
   ]
  }
 ],
 "metadata": {
  "kernelspec": {
   "display_name": "Python 3",
   "language": "python",
   "name": "python3"
  },
  "language_info": {
   "codemirror_mode": {
    "name": "ipython",
    "version": 3
   },
   "file_extension": ".py",
   "mimetype": "text/x-python",
   "name": "python",
   "nbconvert_exporter": "python",
   "pygments_lexer": "ipython3",
   "version": "3.7.0"
  }
 },
 "nbformat": 4,
 "nbformat_minor": 2
}
